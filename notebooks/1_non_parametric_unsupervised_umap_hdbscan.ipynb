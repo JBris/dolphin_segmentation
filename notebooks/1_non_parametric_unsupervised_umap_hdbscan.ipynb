{
 "cells": [
  {
   "cell_type": "markdown",
   "id": "af7f5c7b",
   "metadata": {},
   "source": [
    "# Non-Parametric, Unsupervised UMAP and HDBSCAN"
   ]
  },
  {
   "cell_type": "code",
   "execution_count": 1,
   "id": "d8620c25",
   "metadata": {},
   "outputs": [],
   "source": [
    "#Imports\n",
    "\n",
    "### Unfortunately, UMAP takes a while to import. One of its dependencies (pynndescent) uses numba, \n",
    "### which is the cause of the performance bottleneck here.\n",
    "\n",
    "import cv2\n",
    "import hdbscan\n",
    "import json \n",
    "import matplotlib.pyplot as plt\n",
    "import numpy as np\n",
    "import os\n",
    "import pandas as pd\n",
    "import random\n",
    "import re\n",
    "import seaborn as sns\n",
    "import skimage \n",
    "import umap\n",
    "import umap.plot\n",
    "\n",
    "from bokeh.embed import json_item\n",
    "from bokeh.models import HoverTool\n",
    "from bokeh.models.tools import LassoSelectTool\n",
    "from bokeh.plotting import show as bokeh_show, output_notebook\n",
    "from glob import glob\n",
    "from hdbscan import HDBSCAN\n",
    "from IPython.display import display, HTML, Image, Javascript\n",
    "from pathlib import Path\n",
    "from sklearn.preprocessing import StandardScaler"
   ]
  },
  {
   "cell_type": "code",
   "execution_count": 2,
   "id": "dba028a4",
   "metadata": {},
   "outputs": [],
   "source": [
    "#Constants\n",
    "IMG_SIZE = 256\n",
    "IMAGES_DIR = '../images/final_to_match'\n",
    "MAX_FILES = 300"
   ]
  },
  {
   "cell_type": "markdown",
   "id": "32e8827d",
   "metadata": {},
   "source": [
    "We first load the images..."
   ]
  },
  {
   "cell_type": "code",
   "execution_count": 3,
   "id": "6c3aa98f",
   "metadata": {},
   "outputs": [
    {
     "data": {
      "text/plain": [
       "[PosixPath('../images/final_to_match/HG_161020_047_AM_N9.JPG'),\n",
       " PosixPath('../images/final_to_match/HG_161020_052_AM_P5.JPG'),\n",
       " PosixPath('../images/final_to_match/HG_161020_062_AM_N8.JPG'),\n",
       " PosixPath('../images/final_to_match/HG_161020_071_AM_N7.JPG')]"
      ]
     },
     "execution_count": 3,
     "metadata": {},
     "output_type": "execute_result"
    }
   ],
   "source": [
    "files = Path(IMAGES_DIR) \n",
    "image_files = []\n",
    "\n",
    "for file in files.rglob('*'):\n",
    "    ext = file.suffix.lower()\n",
    "    if ext == \".jpg\": image_files.append(file)\n",
    "    if len(image_files) >= MAX_FILES: break\n",
    "    \n",
    "image_files[0:4]"
   ]
  },
  {
   "cell_type": "markdown",
   "id": "09a2bd24",
   "metadata": {},
   "source": [
    "Then apply additional preprocessing..."
   ]
  },
  {
   "cell_type": "code",
   "execution_count": 4,
   "id": "635adaee",
   "metadata": {},
   "outputs": [
    {
     "name": "stdout",
     "output_type": "stream",
     "text": [
      "0.0% done\n",
      "5.0% done\n",
      "10.0% done\n",
      "15.0% done\n",
      "20.0% done\n",
      "25.0% done\n",
      "30.0% done\n",
      "35.0% done\n",
      "40.0% done\n",
      "45.0% done\n",
      "50.0% done\n",
      "60.0% done\n",
      "65.0% done\n",
      "70.0% done\n",
      "75.0% done\n",
      "80.0% done\n",
      "85.0% done\n",
      "90.0% done\n",
      "95.0% done\n",
      "Complete!\n"
     ]
    }
   ],
   "source": [
    "images = []\n",
    "names = []\n",
    "files = []\n",
    "\n",
    "for i, file in enumerate(image_files):\n",
    "    file_str = str(file)\n",
    "    image = cv2.imread(file_str)\n",
    "    names.append(file.stem)\n",
    "    files.append(file_str)\n",
    "    image = cv2.cvtColor(image, cv2.COLOR_BGR2GRAY)\n",
    "    image = cv2.resize(image, (IMG_SIZE, IMG_SIZE))\n",
    "    image = image.astype('float32')\n",
    "    #image = (image - image.mean(axis=(0, 1), keepdims = True)) / image.std(axis=(0, 1), keepdims = True)\n",
    "    #image = cv2.normalize(image, None, 0, 1, cv2.NORM_MINMAX)\n",
    "    images.append(image)\n",
    "    \n",
    "    progress = i/MAX_FILES * 100\n",
    "    if progress % 5 == 0: print(f'{progress}% done')\n",
    "        \n",
    "print(\"Complete!\")"
   ]
  },
  {
   "cell_type": "markdown",
   "id": "fd4285fd",
   "metadata": {},
   "source": [
    "We then convert it to a numpy array."
   ]
  },
  {
   "cell_type": "code",
   "execution_count": 5,
   "id": "913e02d2",
   "metadata": {},
   "outputs": [
    {
     "data": {
      "text/plain": [
       "(300, 256, 256)"
      ]
     },
     "execution_count": 5,
     "metadata": {},
     "output_type": "execute_result"
    }
   ],
   "source": [
    "images = np.asarray(images)\n",
    "images.shape"
   ]
  },
  {
   "cell_type": "code",
   "execution_count": 6,
   "id": "cc610e0d",
   "metadata": {},
   "outputs": [
    {
     "data": {
      "text/plain": [
       "(300, 65536)"
      ]
     },
     "execution_count": 6,
     "metadata": {},
     "output_type": "execute_result"
    }
   ],
   "source": [
    "data = images.reshape((images.shape[0], -1))\n",
    "#data = StandardScaler().fit_transform(data)\n",
    "data.shape"
   ]
  },
  {
   "cell_type": "markdown",
   "id": "4db336b1",
   "metadata": {},
   "source": [
    "We then fit UMAP to the data."
   ]
  },
  {
   "cell_type": "code",
   "execution_count": 7,
   "id": "09856e4d",
   "metadata": {},
   "outputs": [],
   "source": [
    "mapper = umap.UMAP(\n",
    "    n_neighbors = 200,\n",
    "    min_dist = 0.5,\n",
    "    n_components = 2,\n",
    "    metric = 'euclidean',\n",
    "    random_state = 100,\n",
    "    densmap = False\n",
    ").fit(data)\n",
    "\n",
    "umap_res = mapper.transform(data)"
   ]
  },
  {
   "cell_type": "markdown",
   "id": "b5d3c2a5",
   "metadata": {},
   "source": [
    "We apply HDBSCAN to the UMAP results."
   ]
  },
  {
   "cell_type": "code",
   "execution_count": 8,
   "id": "d2e0ecde",
   "metadata": {},
   "outputs": [],
   "source": [
    "cluster = HDBSCAN(\n",
    "    algorithm ='best', \n",
    "    approx_min_span_tree = True,\n",
    "    gen_min_span_tree = False, \n",
    "    leaf_size = 40, \n",
    "    metric='euclidean', \n",
    "    min_cluster_size = 15,\n",
    "    min_samples = 15, \n",
    "    p = None\n",
    ").fit(umap_res)"
   ]
  },
  {
   "cell_type": "markdown",
   "id": "0f3c2a22",
   "metadata": {},
   "source": [
    "The results are shown below."
   ]
  },
  {
   "cell_type": "code",
   "execution_count": 9,
   "id": "aa8d62be",
   "metadata": {},
   "outputs": [],
   "source": [
    "hover_data = pd.DataFrame(\n",
    "    index = np.arange(\n",
    "        data.shape[0] \n",
    "    ), \n",
    "    data = {\n",
    "        \"file\": files,\n",
    "        'index' : np.arange(data.shape[0]),\n",
    "        'name': names,\n",
    "        'class': cluster.labels_,\n",
    "        'probability': cluster.probabilities_,\n",
    "        'outlier': [ 1 if item == -1 else 0 for item in cluster.labels_ ]\n",
    "    }\n",
    ")"
   ]
  },
  {
   "cell_type": "code",
   "execution_count": 10,
   "id": "6b1241f0",
   "metadata": {},
   "outputs": [
    {
     "data": {
      "text/html": [
       "<div>\n",
       "<style scoped>\n",
       "    .dataframe tbody tr th:only-of-type {\n",
       "        vertical-align: middle;\n",
       "    }\n",
       "\n",
       "    .dataframe tbody tr th {\n",
       "        vertical-align: top;\n",
       "    }\n",
       "\n",
       "    .dataframe thead th {\n",
       "        text-align: right;\n",
       "    }\n",
       "</style>\n",
       "<table border=\"1\" class=\"dataframe\">\n",
       "  <thead>\n",
       "    <tr style=\"text-align: right;\">\n",
       "      <th></th>\n",
       "      <th>file</th>\n",
       "      <th>name</th>\n",
       "      <th>class</th>\n",
       "      <th>probability</th>\n",
       "      <th>outlier</th>\n",
       "    </tr>\n",
       "  </thead>\n",
       "  <tbody>\n",
       "    <tr>\n",
       "      <th>0</th>\n",
       "      <td>../images/final_to_match/HG_161020_047_AM_N9.JPG</td>\n",
       "      <td>HG_161020_047_AM_N9</td>\n",
       "      <td>-1</td>\n",
       "      <td>0.0</td>\n",
       "      <td>1</td>\n",
       "    </tr>\n",
       "    <tr>\n",
       "      <th>1</th>\n",
       "      <td>../images/final_to_match/HG_161020_052_AM_P5.JPG</td>\n",
       "      <td>HG_161020_052_AM_P5</td>\n",
       "      <td>-1</td>\n",
       "      <td>0.0</td>\n",
       "      <td>1</td>\n",
       "    </tr>\n",
       "    <tr>\n",
       "      <th>2</th>\n",
       "      <td>../images/final_to_match/HG_161020_062_AM_N8.JPG</td>\n",
       "      <td>HG_161020_062_AM_N8</td>\n",
       "      <td>-1</td>\n",
       "      <td>0.0</td>\n",
       "      <td>1</td>\n",
       "    </tr>\n",
       "    <tr>\n",
       "      <th>3</th>\n",
       "      <td>../images/final_to_match/HG_161020_071_AM_N7.JPG</td>\n",
       "      <td>HG_161020_071_AM_N7</td>\n",
       "      <td>-1</td>\n",
       "      <td>0.0</td>\n",
       "      <td>1</td>\n",
       "    </tr>\n",
       "    <tr>\n",
       "      <th>4</th>\n",
       "      <td>../images/final_to_match/HG_161023_220_AM_N1.JPG</td>\n",
       "      <td>HG_161023_220_AM_N1</td>\n",
       "      <td>-1</td>\n",
       "      <td>0.0</td>\n",
       "      <td>1</td>\n",
       "    </tr>\n",
       "    <tr>\n",
       "      <th>5</th>\n",
       "      <td>../images/final_to_match/HG_161023_222_AM_N2.JPG</td>\n",
       "      <td>HG_161023_222_AM_N2</td>\n",
       "      <td>-1</td>\n",
       "      <td>0.0</td>\n",
       "      <td>1</td>\n",
       "    </tr>\n",
       "    <tr>\n",
       "      <th>6</th>\n",
       "      <td>../images/final_to_match/HG_161023_224_AM_N4.JPG</td>\n",
       "      <td>HG_161023_224_AM_N4</td>\n",
       "      <td>-1</td>\n",
       "      <td>0.0</td>\n",
       "      <td>1</td>\n",
       "    </tr>\n",
       "    <tr>\n",
       "      <th>7</th>\n",
       "      <td>../images/final_to_match/HG_161023_246_AM_P8.JPG</td>\n",
       "      <td>HG_161023_246_AM_P8</td>\n",
       "      <td>-1</td>\n",
       "      <td>0.0</td>\n",
       "      <td>1</td>\n",
       "    </tr>\n",
       "    <tr>\n",
       "      <th>8</th>\n",
       "      <td>../images/final_to_match/HG_161023_250_AM_N5.JPG</td>\n",
       "      <td>HG_161023_250_AM_N5</td>\n",
       "      <td>-1</td>\n",
       "      <td>0.0</td>\n",
       "      <td>1</td>\n",
       "    </tr>\n",
       "    <tr>\n",
       "      <th>9</th>\n",
       "      <td>../images/final_to_match/HG_161023_257_AM_P1.JPG</td>\n",
       "      <td>HG_161023_257_AM_P1</td>\n",
       "      <td>-1</td>\n",
       "      <td>0.0</td>\n",
       "      <td>1</td>\n",
       "    </tr>\n",
       "  </tbody>\n",
       "</table>\n",
       "</div>"
      ],
      "text/plain": [
       "                                               file                 name  \\\n",
       "0  ../images/final_to_match/HG_161020_047_AM_N9.JPG  HG_161020_047_AM_N9   \n",
       "1  ../images/final_to_match/HG_161020_052_AM_P5.JPG  HG_161020_052_AM_P5   \n",
       "2  ../images/final_to_match/HG_161020_062_AM_N8.JPG  HG_161020_062_AM_N8   \n",
       "3  ../images/final_to_match/HG_161020_071_AM_N7.JPG  HG_161020_071_AM_N7   \n",
       "4  ../images/final_to_match/HG_161023_220_AM_N1.JPG  HG_161023_220_AM_N1   \n",
       "5  ../images/final_to_match/HG_161023_222_AM_N2.JPG  HG_161023_222_AM_N2   \n",
       "6  ../images/final_to_match/HG_161023_224_AM_N4.JPG  HG_161023_224_AM_N4   \n",
       "7  ../images/final_to_match/HG_161023_246_AM_P8.JPG  HG_161023_246_AM_P8   \n",
       "8  ../images/final_to_match/HG_161023_250_AM_N5.JPG  HG_161023_250_AM_N5   \n",
       "9  ../images/final_to_match/HG_161023_257_AM_P1.JPG  HG_161023_257_AM_P1   \n",
       "\n",
       "   class  probability  outlier  \n",
       "0     -1          0.0        1  \n",
       "1     -1          0.0        1  \n",
       "2     -1          0.0        1  \n",
       "3     -1          0.0        1  \n",
       "4     -1          0.0        1  \n",
       "5     -1          0.0        1  \n",
       "6     -1          0.0        1  \n",
       "7     -1          0.0        1  \n",
       "8     -1          0.0        1  \n",
       "9     -1          0.0        1  "
      ]
     },
     "execution_count": 10,
     "metadata": {},
     "output_type": "execute_result"
    }
   ],
   "source": [
    "hover_data.head(10).drop(\"index\", axis = 1)"
   ]
  },
  {
   "cell_type": "code",
   "execution_count": 11,
   "id": "90f12da6",
   "metadata": {},
   "outputs": [],
   "source": [
    "hover = HoverTool(\n",
    "    tooltips=\"\"\"\n",
    "    <div>\n",
    "        <div>\n",
    "            <img\n",
    "                src=\"@file\" height=\"128\" alt=\"@file\" width=\"128\"\n",
    "                style=\"float: left; margin: 0px 15px 15px 0px;\"\n",
    "                border=\"2\"\n",
    "            ></img>\n",
    "        </div>\n",
    "        <div>\n",
    "            <span style=\"font-size: 10px; font-weight: bold;\">@name</span>\n",
    "            <span style=\"font-size: 10px; color: #966;\">[$index]</span>\n",
    "        </div>\n",
    "        <div>\n",
    "            <span style=\"font-size: 9px; color: #966;\">@file</span>\n",
    "        </div>\n",
    "        <div>\n",
    "            <span style=\"font-size: 9px; color: #966;\">Class: @class</span>\n",
    "        </div>\n",
    "        <div>\n",
    "            <span style=\"font-size: 9px; color: #966;\">Probability: @probability</span>\n",
    "        </div>\n",
    "        <div>\n",
    "            <span style=\"font-size: 9px; color: #966;\">Outlier: @outlier</span>\n",
    "        </div>\n",
    "    </div>\n",
    "    \"\"\"\n",
    ")"
   ]
  },
  {
   "cell_type": "code",
   "execution_count": 15,
   "id": "5d91a7da",
   "metadata": {},
   "outputs": [
    {
     "data": {
      "text/html": [
       "\n",
       "    <div class=\"bk-root\">\n",
       "        <a href=\"https://bokeh.org\" target=\"_blank\" class=\"bk-logo bk-logo-small bk-logo-notebook\"></a>\n",
       "        <span id=\"1200\">Loading BokehJS ...</span>\n",
       "    </div>"
      ]
     },
     "metadata": {},
     "output_type": "display_data"
    },
    {
     "data": {
      "application/javascript": [
       "\n",
       "(function(root) {\n",
       "  function now() {\n",
       "    return new Date();\n",
       "  }\n",
       "\n",
       "  var force = true;\n",
       "\n",
       "  if (typeof root._bokeh_onload_callbacks === \"undefined\" || force === true) {\n",
       "    root._bokeh_onload_callbacks = [];\n",
       "    root._bokeh_is_loading = undefined;\n",
       "  }\n",
       "\n",
       "  var JS_MIME_TYPE = 'application/javascript';\n",
       "  var HTML_MIME_TYPE = 'text/html';\n",
       "  var EXEC_MIME_TYPE = 'application/vnd.bokehjs_exec.v0+json';\n",
       "  var CLASS_NAME = 'output_bokeh rendered_html';\n",
       "\n",
       "  /**\n",
       "   * Render data to the DOM node\n",
       "   */\n",
       "  function render(props, node) {\n",
       "    var script = document.createElement(\"script\");\n",
       "    node.appendChild(script);\n",
       "  }\n",
       "\n",
       "  /**\n",
       "   * Handle when an output is cleared or removed\n",
       "   */\n",
       "  function handleClearOutput(event, handle) {\n",
       "    var cell = handle.cell;\n",
       "\n",
       "    var id = cell.output_area._bokeh_element_id;\n",
       "    var server_id = cell.output_area._bokeh_server_id;\n",
       "    // Clean up Bokeh references\n",
       "    if (id != null && id in Bokeh.index) {\n",
       "      Bokeh.index[id].model.document.clear();\n",
       "      delete Bokeh.index[id];\n",
       "    }\n",
       "\n",
       "    if (server_id !== undefined) {\n",
       "      // Clean up Bokeh references\n",
       "      var cmd = \"from bokeh.io.state import curstate; print(curstate().uuid_to_server['\" + server_id + \"'].get_sessions()[0].document.roots[0]._id)\";\n",
       "      cell.notebook.kernel.execute(cmd, {\n",
       "        iopub: {\n",
       "          output: function(msg) {\n",
       "            var id = msg.content.text.trim();\n",
       "            if (id in Bokeh.index) {\n",
       "              Bokeh.index[id].model.document.clear();\n",
       "              delete Bokeh.index[id];\n",
       "            }\n",
       "          }\n",
       "        }\n",
       "      });\n",
       "      // Destroy server and session\n",
       "      var cmd = \"import bokeh.io.notebook as ion; ion.destroy_server('\" + server_id + \"')\";\n",
       "      cell.notebook.kernel.execute(cmd);\n",
       "    }\n",
       "  }\n",
       "\n",
       "  /**\n",
       "   * Handle when a new output is added\n",
       "   */\n",
       "  function handleAddOutput(event, handle) {\n",
       "    var output_area = handle.output_area;\n",
       "    var output = handle.output;\n",
       "\n",
       "    // limit handleAddOutput to display_data with EXEC_MIME_TYPE content only\n",
       "    if ((output.output_type != \"display_data\") || (!Object.prototype.hasOwnProperty.call(output.data, EXEC_MIME_TYPE))) {\n",
       "      return\n",
       "    }\n",
       "\n",
       "    var toinsert = output_area.element.find(\".\" + CLASS_NAME.split(' ')[0]);\n",
       "\n",
       "    if (output.metadata[EXEC_MIME_TYPE][\"id\"] !== undefined) {\n",
       "      toinsert[toinsert.length - 1].firstChild.textContent = output.data[JS_MIME_TYPE];\n",
       "      // store reference to embed id on output_area\n",
       "      output_area._bokeh_element_id = output.metadata[EXEC_MIME_TYPE][\"id\"];\n",
       "    }\n",
       "    if (output.metadata[EXEC_MIME_TYPE][\"server_id\"] !== undefined) {\n",
       "      var bk_div = document.createElement(\"div\");\n",
       "      bk_div.innerHTML = output.data[HTML_MIME_TYPE];\n",
       "      var script_attrs = bk_div.children[0].attributes;\n",
       "      for (var i = 0; i < script_attrs.length; i++) {\n",
       "        toinsert[toinsert.length - 1].firstChild.setAttribute(script_attrs[i].name, script_attrs[i].value);\n",
       "        toinsert[toinsert.length - 1].firstChild.textContent = bk_div.children[0].textContent\n",
       "      }\n",
       "      // store reference to server id on output_area\n",
       "      output_area._bokeh_server_id = output.metadata[EXEC_MIME_TYPE][\"server_id\"];\n",
       "    }\n",
       "  }\n",
       "\n",
       "  function register_renderer(events, OutputArea) {\n",
       "\n",
       "    function append_mime(data, metadata, element) {\n",
       "      // create a DOM node to render to\n",
       "      var toinsert = this.create_output_subarea(\n",
       "        metadata,\n",
       "        CLASS_NAME,\n",
       "        EXEC_MIME_TYPE\n",
       "      );\n",
       "      this.keyboard_manager.register_events(toinsert);\n",
       "      // Render to node\n",
       "      var props = {data: data, metadata: metadata[EXEC_MIME_TYPE]};\n",
       "      render(props, toinsert[toinsert.length - 1]);\n",
       "      element.append(toinsert);\n",
       "      return toinsert\n",
       "    }\n",
       "\n",
       "    /* Handle when an output is cleared or removed */\n",
       "    events.on('clear_output.CodeCell', handleClearOutput);\n",
       "    events.on('delete.Cell', handleClearOutput);\n",
       "\n",
       "    /* Handle when a new output is added */\n",
       "    events.on('output_added.OutputArea', handleAddOutput);\n",
       "\n",
       "    /**\n",
       "     * Register the mime type and append_mime function with output_area\n",
       "     */\n",
       "    OutputArea.prototype.register_mime_type(EXEC_MIME_TYPE, append_mime, {\n",
       "      /* Is output safe? */\n",
       "      safe: true,\n",
       "      /* Index of renderer in `output_area.display_order` */\n",
       "      index: 0\n",
       "    });\n",
       "  }\n",
       "\n",
       "  // register the mime type if in Jupyter Notebook environment and previously unregistered\n",
       "  if (root.Jupyter !== undefined) {\n",
       "    var events = require('base/js/events');\n",
       "    var OutputArea = require('notebook/js/outputarea').OutputArea;\n",
       "\n",
       "    if (OutputArea.prototype.mime_types().indexOf(EXEC_MIME_TYPE) == -1) {\n",
       "      register_renderer(events, OutputArea);\n",
       "    }\n",
       "  }\n",
       "\n",
       "  \n",
       "  if (typeof (root._bokeh_timeout) === \"undefined\" || force === true) {\n",
       "    root._bokeh_timeout = Date.now() + 5000;\n",
       "    root._bokeh_failed_load = false;\n",
       "  }\n",
       "\n",
       "  var NB_LOAD_WARNING = {'data': {'text/html':\n",
       "     \"<div style='background-color: #fdd'>\\n\"+\n",
       "     \"<p>\\n\"+\n",
       "     \"BokehJS does not appear to have successfully loaded. If loading BokehJS from CDN, this \\n\"+\n",
       "     \"may be due to a slow or bad network connection. Possible fixes:\\n\"+\n",
       "     \"</p>\\n\"+\n",
       "     \"<ul>\\n\"+\n",
       "     \"<li>re-rerun `output_notebook()` to attempt to load from CDN again, or</li>\\n\"+\n",
       "     \"<li>use INLINE resources instead, as so:</li>\\n\"+\n",
       "     \"</ul>\\n\"+\n",
       "     \"<code>\\n\"+\n",
       "     \"from bokeh.resources import INLINE\\n\"+\n",
       "     \"output_notebook(resources=INLINE)\\n\"+\n",
       "     \"</code>\\n\"+\n",
       "     \"</div>\"}};\n",
       "\n",
       "  function display_loaded() {\n",
       "    var el = document.getElementById(\"1200\");\n",
       "    if (el != null) {\n",
       "      el.textContent = \"BokehJS is loading...\";\n",
       "    }\n",
       "    if (root.Bokeh !== undefined) {\n",
       "      if (el != null) {\n",
       "        el.textContent = \"BokehJS \" + root.Bokeh.version + \" successfully loaded.\";\n",
       "      }\n",
       "    } else if (Date.now() < root._bokeh_timeout) {\n",
       "      setTimeout(display_loaded, 100)\n",
       "    }\n",
       "  }\n",
       "\n",
       "\n",
       "  function run_callbacks() {\n",
       "    try {\n",
       "      root._bokeh_onload_callbacks.forEach(function(callback) {\n",
       "        if (callback != null)\n",
       "          callback();\n",
       "      });\n",
       "    } finally {\n",
       "      delete root._bokeh_onload_callbacks\n",
       "    }\n",
       "    console.debug(\"Bokeh: all callbacks have finished\");\n",
       "  }\n",
       "\n",
       "  function load_libs(css_urls, js_urls, callback) {\n",
       "    if (css_urls == null) css_urls = [];\n",
       "    if (js_urls == null) js_urls = [];\n",
       "\n",
       "    root._bokeh_onload_callbacks.push(callback);\n",
       "    if (root._bokeh_is_loading > 0) {\n",
       "      console.debug(\"Bokeh: BokehJS is being loaded, scheduling callback at\", now());\n",
       "      return null;\n",
       "    }\n",
       "    if (js_urls == null || js_urls.length === 0) {\n",
       "      run_callbacks();\n",
       "      return null;\n",
       "    }\n",
       "    console.debug(\"Bokeh: BokehJS not loaded, scheduling load and callback at\", now());\n",
       "    root._bokeh_is_loading = css_urls.length + js_urls.length;\n",
       "\n",
       "    function on_load() {\n",
       "      root._bokeh_is_loading--;\n",
       "      if (root._bokeh_is_loading === 0) {\n",
       "        console.debug(\"Bokeh: all BokehJS libraries/stylesheets loaded\");\n",
       "        run_callbacks()\n",
       "      }\n",
       "    }\n",
       "\n",
       "    function on_error(url) {\n",
       "      console.error(\"failed to load \" + url);\n",
       "    }\n",
       "\n",
       "    for (let i = 0; i < css_urls.length; i++) {\n",
       "      const url = css_urls[i];\n",
       "      const element = document.createElement(\"link\");\n",
       "      element.onload = on_load;\n",
       "      element.onerror = on_error.bind(null, url);\n",
       "      element.rel = \"stylesheet\";\n",
       "      element.type = \"text/css\";\n",
       "      element.href = url;\n",
       "      console.debug(\"Bokeh: injecting link tag for BokehJS stylesheet: \", url);\n",
       "      document.body.appendChild(element);\n",
       "    }\n",
       "\n",
       "    const hashes = {\"https://cdn.bokeh.org/bokeh/release/bokeh-2.3.1.min.js\": \"YF85VygJKMVnHE+lLv2AM93Vbstr0yo2TbIu5v8se5Rq3UQAUmcuh4aaJwNlpKwa\", \"https://cdn.bokeh.org/bokeh/release/bokeh-widgets-2.3.1.min.js\": \"KKuas3gevv3PvrlkyCMzffFeaMq5we/a2QsP5AUoS3mJ0jmaCL7jirFJN3GoE/lM\", \"https://cdn.bokeh.org/bokeh/release/bokeh-tables-2.3.1.min.js\": \"MK/uFc3YT18pkvvXRl66tTHjP0/dxoSH2e/eiNMFIguKlun2+WVqaPTWmUy/zvh4\"};\n",
       "\n",
       "    for (let i = 0; i < js_urls.length; i++) {\n",
       "      const url = js_urls[i];\n",
       "      const element = document.createElement('script');\n",
       "      element.onload = on_load;\n",
       "      element.onerror = on_error.bind(null, url);\n",
       "      element.async = false;\n",
       "      element.src = url;\n",
       "      if (url in hashes) {\n",
       "        element.crossOrigin = \"anonymous\";\n",
       "        element.integrity = \"sha384-\" + hashes[url];\n",
       "      }\n",
       "      console.debug(\"Bokeh: injecting script tag for BokehJS library: \", url);\n",
       "      document.head.appendChild(element);\n",
       "    }\n",
       "  };\n",
       "\n",
       "  function inject_raw_css(css) {\n",
       "    const element = document.createElement(\"style\");\n",
       "    element.appendChild(document.createTextNode(css));\n",
       "    document.body.appendChild(element);\n",
       "  }\n",
       "\n",
       "  \n",
       "  var js_urls = [\"https://unpkg.com/tabulator-tables@4.9.3/dist/js/tabulator.js\", \"https://unpkg.com/moment@2.27.0/moment.js\", \"https://cdn.bokeh.org/bokeh/release/bokeh-2.3.1.min.js\", \"https://cdn.bokeh.org/bokeh/release/bokeh-widgets-2.3.1.min.js\", \"https://cdn.bokeh.org/bokeh/release/bokeh-tables-2.3.1.min.js\", \"https://unpkg.com/@holoviz/panel@^0.11.3/dist/panel.min.js\"];\n",
       "  var css_urls = [\"https://unpkg.com/tabulator-tables@4.9.3/dist/css/tabulator_simple.min.css\"];\n",
       "  \n",
       "\n",
       "  var inline_js = [\n",
       "    function(Bokeh) {\n",
       "      Bokeh.set_log_level(\"info\");\n",
       "    },\n",
       "    function(Bokeh) {\n",
       "    \n",
       "    \n",
       "    }\n",
       "  ];\n",
       "\n",
       "  function run_inline_js() {\n",
       "    \n",
       "    if (root.Bokeh !== undefined || force === true) {\n",
       "      \n",
       "    for (var i = 0; i < inline_js.length; i++) {\n",
       "      inline_js[i].call(root, root.Bokeh);\n",
       "    }\n",
       "    if (force === true) {\n",
       "        display_loaded();\n",
       "      }} else if (Date.now() < root._bokeh_timeout) {\n",
       "      setTimeout(run_inline_js, 100);\n",
       "    } else if (!root._bokeh_failed_load) {\n",
       "      console.log(\"Bokeh: BokehJS failed to load within specified timeout.\");\n",
       "      root._bokeh_failed_load = true;\n",
       "    } else if (force !== true) {\n",
       "      var cell = $(document.getElementById(\"1200\")).parents('.cell').data().cell;\n",
       "      cell.output_area.append_execute_result(NB_LOAD_WARNING)\n",
       "    }\n",
       "\n",
       "  }\n",
       "\n",
       "  if (root._bokeh_is_loading === 0) {\n",
       "    console.debug(\"Bokeh: BokehJS loaded, going straight to plotting\");\n",
       "    run_inline_js();\n",
       "  } else {\n",
       "    load_libs(css_urls, js_urls, function() {\n",
       "      console.debug(\"Bokeh: BokehJS plotting callback run at\", now());\n",
       "      run_inline_js();\n",
       "    });\n",
       "  }\n",
       "}(window));"
      ],
      "application/vnd.bokehjs_load.v0+json": "\n(function(root) {\n  function now() {\n    return new Date();\n  }\n\n  var force = true;\n\n  if (typeof root._bokeh_onload_callbacks === \"undefined\" || force === true) {\n    root._bokeh_onload_callbacks = [];\n    root._bokeh_is_loading = undefined;\n  }\n\n  \n\n  \n  if (typeof (root._bokeh_timeout) === \"undefined\" || force === true) {\n    root._bokeh_timeout = Date.now() + 5000;\n    root._bokeh_failed_load = false;\n  }\n\n  var NB_LOAD_WARNING = {'data': {'text/html':\n     \"<div style='background-color: #fdd'>\\n\"+\n     \"<p>\\n\"+\n     \"BokehJS does not appear to have successfully loaded. If loading BokehJS from CDN, this \\n\"+\n     \"may be due to a slow or bad network connection. Possible fixes:\\n\"+\n     \"</p>\\n\"+\n     \"<ul>\\n\"+\n     \"<li>re-rerun `output_notebook()` to attempt to load from CDN again, or</li>\\n\"+\n     \"<li>use INLINE resources instead, as so:</li>\\n\"+\n     \"</ul>\\n\"+\n     \"<code>\\n\"+\n     \"from bokeh.resources import INLINE\\n\"+\n     \"output_notebook(resources=INLINE)\\n\"+\n     \"</code>\\n\"+\n     \"</div>\"}};\n\n  function display_loaded() {\n    var el = document.getElementById(\"1200\");\n    if (el != null) {\n      el.textContent = \"BokehJS is loading...\";\n    }\n    if (root.Bokeh !== undefined) {\n      if (el != null) {\n        el.textContent = \"BokehJS \" + root.Bokeh.version + \" successfully loaded.\";\n      }\n    } else if (Date.now() < root._bokeh_timeout) {\n      setTimeout(display_loaded, 100)\n    }\n  }\n\n\n  function run_callbacks() {\n    try {\n      root._bokeh_onload_callbacks.forEach(function(callback) {\n        if (callback != null)\n          callback();\n      });\n    } finally {\n      delete root._bokeh_onload_callbacks\n    }\n    console.debug(\"Bokeh: all callbacks have finished\");\n  }\n\n  function load_libs(css_urls, js_urls, callback) {\n    if (css_urls == null) css_urls = [];\n    if (js_urls == null) js_urls = [];\n\n    root._bokeh_onload_callbacks.push(callback);\n    if (root._bokeh_is_loading > 0) {\n      console.debug(\"Bokeh: BokehJS is being loaded, scheduling callback at\", now());\n      return null;\n    }\n    if (js_urls == null || js_urls.length === 0) {\n      run_callbacks();\n      return null;\n    }\n    console.debug(\"Bokeh: BokehJS not loaded, scheduling load and callback at\", now());\n    root._bokeh_is_loading = css_urls.length + js_urls.length;\n\n    function on_load() {\n      root._bokeh_is_loading--;\n      if (root._bokeh_is_loading === 0) {\n        console.debug(\"Bokeh: all BokehJS libraries/stylesheets loaded\");\n        run_callbacks()\n      }\n    }\n\n    function on_error(url) {\n      console.error(\"failed to load \" + url);\n    }\n\n    for (let i = 0; i < css_urls.length; i++) {\n      const url = css_urls[i];\n      const element = document.createElement(\"link\");\n      element.onload = on_load;\n      element.onerror = on_error.bind(null, url);\n      element.rel = \"stylesheet\";\n      element.type = \"text/css\";\n      element.href = url;\n      console.debug(\"Bokeh: injecting link tag for BokehJS stylesheet: \", url);\n      document.body.appendChild(element);\n    }\n\n    const hashes = {\"https://cdn.bokeh.org/bokeh/release/bokeh-2.3.1.min.js\": \"YF85VygJKMVnHE+lLv2AM93Vbstr0yo2TbIu5v8se5Rq3UQAUmcuh4aaJwNlpKwa\", \"https://cdn.bokeh.org/bokeh/release/bokeh-widgets-2.3.1.min.js\": \"KKuas3gevv3PvrlkyCMzffFeaMq5we/a2QsP5AUoS3mJ0jmaCL7jirFJN3GoE/lM\", \"https://cdn.bokeh.org/bokeh/release/bokeh-tables-2.3.1.min.js\": \"MK/uFc3YT18pkvvXRl66tTHjP0/dxoSH2e/eiNMFIguKlun2+WVqaPTWmUy/zvh4\"};\n\n    for (let i = 0; i < js_urls.length; i++) {\n      const url = js_urls[i];\n      const element = document.createElement('script');\n      element.onload = on_load;\n      element.onerror = on_error.bind(null, url);\n      element.async = false;\n      element.src = url;\n      if (url in hashes) {\n        element.crossOrigin = \"anonymous\";\n        element.integrity = \"sha384-\" + hashes[url];\n      }\n      console.debug(\"Bokeh: injecting script tag for BokehJS library: \", url);\n      document.head.appendChild(element);\n    }\n  };\n\n  function inject_raw_css(css) {\n    const element = document.createElement(\"style\");\n    element.appendChild(document.createTextNode(css));\n    document.body.appendChild(element);\n  }\n\n  \n  var js_urls = [\"https://unpkg.com/tabulator-tables@4.9.3/dist/js/tabulator.js\", \"https://unpkg.com/moment@2.27.0/moment.js\", \"https://cdn.bokeh.org/bokeh/release/bokeh-2.3.1.min.js\", \"https://cdn.bokeh.org/bokeh/release/bokeh-widgets-2.3.1.min.js\", \"https://cdn.bokeh.org/bokeh/release/bokeh-tables-2.3.1.min.js\", \"https://unpkg.com/@holoviz/panel@^0.11.3/dist/panel.min.js\"];\n  var css_urls = [\"https://unpkg.com/tabulator-tables@4.9.3/dist/css/tabulator_simple.min.css\"];\n  \n\n  var inline_js = [\n    function(Bokeh) {\n      Bokeh.set_log_level(\"info\");\n    },\n    function(Bokeh) {\n    \n    \n    }\n  ];\n\n  function run_inline_js() {\n    \n    if (root.Bokeh !== undefined || force === true) {\n      \n    for (var i = 0; i < inline_js.length; i++) {\n      inline_js[i].call(root, root.Bokeh);\n    }\n    if (force === true) {\n        display_loaded();\n      }} else if (Date.now() < root._bokeh_timeout) {\n      setTimeout(run_inline_js, 100);\n    } else if (!root._bokeh_failed_load) {\n      console.log(\"Bokeh: BokehJS failed to load within specified timeout.\");\n      root._bokeh_failed_load = true;\n    } else if (force !== true) {\n      var cell = $(document.getElementById(\"1200\")).parents('.cell').data().cell;\n      cell.output_area.append_execute_result(NB_LOAD_WARNING)\n    }\n\n  }\n\n  if (root._bokeh_is_loading === 0) {\n    console.debug(\"Bokeh: BokehJS loaded, going straight to plotting\");\n    run_inline_js();\n  } else {\n    load_libs(css_urls, js_urls, function() {\n      console.debug(\"Bokeh: BokehJS plotting callback run at\", now());\n      run_inline_js();\n    });\n  }\n}(window));"
     },
     "metadata": {},
     "output_type": "display_data"
    },
    {
     "data": {
      "text/html": [
       "\n",
       "\n",
       "\n",
       "\n",
       "\n",
       "\n",
       "  <div class=\"bk-root\" id=\"a94dd5f2-5165-40c9-94da-e07b427f16a0\" data-root-id=\"1157\"></div>\n"
      ]
     },
     "metadata": {},
     "output_type": "display_data"
    },
    {
     "data": {
      "application/javascript": [
       "(function(root) {\n",
       "  function embed_document(root) {\n",
       "    \n",
       "  var docs_json = {\"dc70924b-d330-4b03-a595-d35620bd9262\":{\"defs\":[],\"roots\":{\"references\":[{\"attributes\":{\"background_fill_color\":\"white\",\"below\":[{\"id\":\"1166\"}],\"center\":[{\"id\":\"1169\"},{\"id\":\"1173\"}],\"height\":800,\"left\":[{\"id\":\"1170\"}],\"renderers\":[{\"id\":\"1193\"}],\"title\":{\"id\":\"1214\"},\"toolbar\":{\"id\":\"1182\"},\"width\":800,\"x_range\":{\"id\":\"1158\"},\"x_scale\":{\"id\":\"1162\"},\"y_range\":{\"id\":\"1160\"},\"y_scale\":{\"id\":\"1164\"}},\"id\":\"1157\",\"subtype\":\"Figure\",\"type\":\"Plot\"},{\"attributes\":{\"formatter\":{\"id\":\"1219\"},\"major_label_policy\":{\"id\":\"1220\"},\"ticker\":{\"id\":\"1171\"},\"visible\":false},\"id\":\"1170\",\"type\":\"LinearAxis\"},{\"attributes\":{},\"id\":\"1219\",\"type\":\"BasicTickFormatter\"},{\"attributes\":{\"active_multi\":null,\"tools\":[{\"id\":\"1174\"},{\"id\":\"1175\"},{\"id\":\"1176\"},{\"id\":\"1177\"},{\"id\":\"1178\"},{\"id\":\"1179\"},{\"id\":\"1002\"},{\"id\":\"1198\"}]},\"id\":\"1182\",\"type\":\"Toolbar\"},{\"attributes\":{},\"id\":\"1158\",\"type\":\"DataRange1d\"},{\"attributes\":{},\"id\":\"1178\",\"type\":\"ResetTool\"},{\"attributes\":{\"data\":{\"alpha\":[1,1,1,1,1,1,1,1,1,1,1,1,1,1,1,1,1,1,1,1,1,1,1,1,1,1,1,1,1,1,1,1,1,1,1,1,1,1,1,1,1,1,1,1,1,1,1,1,1,1,1,1,1,1,1,1,1,1,1,1,1,1,1,1,1,1,1,1,1,1,1,1,1,1,1,1,1,1,1,1,1,1,1,1,1,1,1,1,1,1,1,1,1,1,1,1,1,1,1,1,1,1,1,1,1,1,1,1,1,1,1,1,1,1,1,1,1,1,1,1,1,1,1,1,1,1,1,1,1,1,1,1,1,1,1,1,1,1,1,1,1,1,1,1,1,1,1,1,1,1,1,1,1,1,1,1,1,1,1,1,1,1,1,1,1,1,1,1,1,1,1,1,1,1,1,1,1,1,1,1,1,1,1,1,1,1,1,1,1,1,1,1,1,1,1,1,1,1,1,1,1,1,1,1,1,1,1,1,1,1,1,1,1,1,1,1,1,1,1,1,1,1,1,1,1,1,1,1,1,1,1,1,1,1,1,1,1,1,1,1,1,1,1,1,1,1,1,1,1,1,1,1,1,1,1,1,1,1,1,1,1,1,1,1,1,1,1,1,1,1,1,1,1,1,1,1,1,1,1,1,1,1,1,1,1,1,1,1,1,1,1,1,1,1,1,1,1,1,1,1],\"class\":[-1,-1,-1,-1,-1,-1,-1,-1,-1,-1,-1,-1,-1,-1,-1,-1,-1,-1,-1,-1,-1,-1,1,1,-1,-1,-1,-1,-1,0,1,-1,-1,-1,-1,1,-1,-1,1,-1,-1,-1,0,-1,-1,-1,-1,-1,-1,-1,-1,-1,-1,-1,-1,1,-1,-1,-1,-1,-1,1,-1,-1,-1,1,-1,-1,-1,1,-1,-1,-1,-1,-1,1,-1,-1,-1,-1,-1,-1,-1,-1,-1,-1,1,-1,-1,-1,-1,-1,-1,-1,0,1,-1,-1,-1,-1,-1,-1,-1,-1,-1,-1,-1,-1,-1,-1,-1,-1,-1,-1,1,-1,-1,-1,-1,-1,-1,-1,-1,-1,1,-1,-1,1,-1,-1,-1,-1,-1,-1,-1,0,-1,-1,-1,-1,-1,-1,-1,-1,0,-1,-1,-1,-1,-1,-1,-1,-1,-1,-1,-1,-1,0,0,-1,-1,-1,-1,1,-1,-1,-1,1,0,-1,-1,1,-1,-1,-1,-1,-1,1,-1,-1,-1,-1,-1,1,1,-1,-1,-1,-1,1,1,-1,-1,-1,-1,-1,-1,-1,1,-1,-1,-1,-1,1,-1,-1,-1,-1,-1,-1,0,-1,1,-1,-1,-1,0,-1,-1,-1,0,0,-1,-1,-1,-1,-1,-1,-1,-1,-1,0,-1,-1,-1,0,-1,-1,-1,-1,-1,1,-1,-1,-1,1,-1,0,-1,-1,-1,-1,-1,-1,-1,-1,1,0,-1,-1,-1,-1,0,-1,-1,-1,-1,-1,-1,-1,-1,-1,-1,-1,-1,-1,-1,-1,-1,-1,-1,-1,-1,-1,-1,-1,-1,1,-1,1,-1,-1,-1,1,1,1,-1,-1,-1,-1],\"color\":[\"#9e0142\",\"#9e0142\",\"#9e0142\",\"#9e0142\",\"#9e0142\",\"#9e0142\",\"#9e0142\",\"#9e0142\",\"#9e0142\",\"#9e0142\",\"#9e0142\",\"#9e0142\",\"#9e0142\",\"#9e0142\",\"#9e0142\",\"#9e0142\",\"#9e0142\",\"#9e0142\",\"#9e0142\",\"#9e0142\",\"#9e0142\",\"#9e0142\",\"#5e4fa2\",\"#5e4fa2\",\"#9e0142\",\"#9e0142\",\"#9e0142\",\"#9e0142\",\"#9e0142\",\"#ffffbe\",\"#5e4fa2\",\"#9e0142\",\"#9e0142\",\"#9e0142\",\"#9e0142\",\"#5e4fa2\",\"#9e0142\",\"#9e0142\",\"#5e4fa2\",\"#9e0142\",\"#9e0142\",\"#9e0142\",\"#ffffbe\",\"#9e0142\",\"#9e0142\",\"#9e0142\",\"#9e0142\",\"#9e0142\",\"#9e0142\",\"#9e0142\",\"#9e0142\",\"#9e0142\",\"#9e0142\",\"#9e0142\",\"#9e0142\",\"#5e4fa2\",\"#9e0142\",\"#9e0142\",\"#9e0142\",\"#9e0142\",\"#9e0142\",\"#5e4fa2\",\"#9e0142\",\"#9e0142\",\"#9e0142\",\"#5e4fa2\",\"#9e0142\",\"#9e0142\",\"#9e0142\",\"#5e4fa2\",\"#9e0142\",\"#9e0142\",\"#9e0142\",\"#9e0142\",\"#9e0142\",\"#5e4fa2\",\"#9e0142\",\"#9e0142\",\"#9e0142\",\"#9e0142\",\"#9e0142\",\"#9e0142\",\"#9e0142\",\"#9e0142\",\"#9e0142\",\"#9e0142\",\"#5e4fa2\",\"#9e0142\",\"#9e0142\",\"#9e0142\",\"#9e0142\",\"#9e0142\",\"#9e0142\",\"#9e0142\",\"#ffffbe\",\"#5e4fa2\",\"#9e0142\",\"#9e0142\",\"#9e0142\",\"#9e0142\",\"#9e0142\",\"#9e0142\",\"#9e0142\",\"#9e0142\",\"#9e0142\",\"#9e0142\",\"#9e0142\",\"#9e0142\",\"#9e0142\",\"#9e0142\",\"#9e0142\",\"#9e0142\",\"#9e0142\",\"#9e0142\",\"#5e4fa2\",\"#9e0142\",\"#9e0142\",\"#9e0142\",\"#9e0142\",\"#9e0142\",\"#9e0142\",\"#9e0142\",\"#9e0142\",\"#9e0142\",\"#5e4fa2\",\"#9e0142\",\"#9e0142\",\"#5e4fa2\",\"#9e0142\",\"#9e0142\",\"#9e0142\",\"#9e0142\",\"#9e0142\",\"#9e0142\",\"#9e0142\",\"#ffffbe\",\"#9e0142\",\"#9e0142\",\"#9e0142\",\"#9e0142\",\"#9e0142\",\"#9e0142\",\"#9e0142\",\"#9e0142\",\"#ffffbe\",\"#9e0142\",\"#9e0142\",\"#9e0142\",\"#9e0142\",\"#9e0142\",\"#9e0142\",\"#9e0142\",\"#9e0142\",\"#9e0142\",\"#9e0142\",\"#9e0142\",\"#9e0142\",\"#ffffbe\",\"#ffffbe\",\"#9e0142\",\"#9e0142\",\"#9e0142\",\"#9e0142\",\"#5e4fa2\",\"#9e0142\",\"#9e0142\",\"#9e0142\",\"#5e4fa2\",\"#ffffbe\",\"#9e0142\",\"#9e0142\",\"#5e4fa2\",\"#9e0142\",\"#9e0142\",\"#9e0142\",\"#9e0142\",\"#9e0142\",\"#5e4fa2\",\"#9e0142\",\"#9e0142\",\"#9e0142\",\"#9e0142\",\"#9e0142\",\"#5e4fa2\",\"#5e4fa2\",\"#9e0142\",\"#9e0142\",\"#9e0142\",\"#9e0142\",\"#5e4fa2\",\"#5e4fa2\",\"#9e0142\",\"#9e0142\",\"#9e0142\",\"#9e0142\",\"#9e0142\",\"#9e0142\",\"#9e0142\",\"#5e4fa2\",\"#9e0142\",\"#9e0142\",\"#9e0142\",\"#9e0142\",\"#5e4fa2\",\"#9e0142\",\"#9e0142\",\"#9e0142\",\"#9e0142\",\"#9e0142\",\"#9e0142\",\"#ffffbe\",\"#9e0142\",\"#5e4fa2\",\"#9e0142\",\"#9e0142\",\"#9e0142\",\"#ffffbe\",\"#9e0142\",\"#9e0142\",\"#9e0142\",\"#ffffbe\",\"#ffffbe\",\"#9e0142\",\"#9e0142\",\"#9e0142\",\"#9e0142\",\"#9e0142\",\"#9e0142\",\"#9e0142\",\"#9e0142\",\"#9e0142\",\"#ffffbe\",\"#9e0142\",\"#9e0142\",\"#9e0142\",\"#ffffbe\",\"#9e0142\",\"#9e0142\",\"#9e0142\",\"#9e0142\",\"#9e0142\",\"#5e4fa2\",\"#9e0142\",\"#9e0142\",\"#9e0142\",\"#5e4fa2\",\"#9e0142\",\"#ffffbe\",\"#9e0142\",\"#9e0142\",\"#9e0142\",\"#9e0142\",\"#9e0142\",\"#9e0142\",\"#9e0142\",\"#9e0142\",\"#5e4fa2\",\"#ffffbe\",\"#9e0142\",\"#9e0142\",\"#9e0142\",\"#9e0142\",\"#ffffbe\",\"#9e0142\",\"#9e0142\",\"#9e0142\",\"#9e0142\",\"#9e0142\",\"#9e0142\",\"#9e0142\",\"#9e0142\",\"#9e0142\",\"#9e0142\",\"#9e0142\",\"#9e0142\",\"#9e0142\",\"#9e0142\",\"#9e0142\",\"#9e0142\",\"#9e0142\",\"#9e0142\",\"#9e0142\",\"#9e0142\",\"#9e0142\",\"#9e0142\",\"#9e0142\",\"#9e0142\",\"#5e4fa2\",\"#9e0142\",\"#5e4fa2\",\"#9e0142\",\"#9e0142\",\"#9e0142\",\"#5e4fa2\",\"#5e4fa2\",\"#5e4fa2\",\"#9e0142\",\"#9e0142\",\"#9e0142\",\"#9e0142\"],\"file\":[\"../images/final_to_match/HG_161020_047_AM_N9.JPG\",\"../images/final_to_match/HG_161020_052_AM_P5.JPG\",\"../images/final_to_match/HG_161020_062_AM_N8.JPG\",\"../images/final_to_match/HG_161020_071_AM_N7.JPG\",\"../images/final_to_match/HG_161023_220_AM_N1.JPG\",\"../images/final_to_match/HG_161023_222_AM_N2.JPG\",\"../images/final_to_match/HG_161023_224_AM_N4.JPG\",\"../images/final_to_match/HG_161023_246_AM_P8.JPG\",\"../images/final_to_match/HG_161023_250_AM_N5.JPG\",\"../images/final_to_match/HG_161023_257_AM_P1.JPG\",\"../images/final_to_match/HG_161023_261_AM_P2.JPG\",\"../images/final_to_match/HG_161023_270_AM_P3.JPG\",\"../images/final_to_match/HG_161023_276_AM_P4.JPG\",\"../images/final_to_match/HG_161023_280_AM_N3.JPG\",\"../images/final_to_match/HG_161023_284_AM_P10.JPG\",\"../images/final_to_match/HG_161023_297_AM_N8.JPG\",\"../images/final_to_match/HG_161023_298_AM_P5.JPG\",\"../images/final_to_match/HG_161023_300_AM_A_N7.JPG\",\"../images/final_to_match/HG_161023_302_AM_N13.JPG\",\"../images/final_to_match/HG_161023_310_AM_N9.JPG\",\"../images/final_to_match/HG_161023_341_AM_N10.JPG\",\"../images/final_to_match/HG_161023_347_AM_A_P6.JPG\",\"../images/final_to_match/HG_161023_348_AM_B_N11.JPG\",\"../images/final_to_match/HG_161023_351_AM_P9.JPG\",\"../images/final_to_match/HG_161023_464_DE_N6.JPG\",\"../images/final_to_match/HG_161023_465_DE_N12.JPG\",\"../images/final_to_match/HG_161023_490_DE_P7.JPG\",\"../images/final_to_match/HG_161031_006_AM_N1.JPG\",\"../images/final_to_match/HG_161031_009_AM_P1.JPG\",\"../images/final_to_match/HG_161031_010_AM_P2.JPG\",\"../images/final_to_match/HG_161031_016_AM_N2.JPG\",\"../images/final_to_match/HG_161101_035_AM_N1.JPG\",\"../images/final_to_match/HG_161101_085_AM_P1.JPG\",\"../images/final_to_match/HG_161101_150_AM_N2.JPG\",\"../images/final_to_match/HG_161101_153_AM_N3.JPG\",\"../images/final_to_match/HG_161101_158_AM_N4.JPG\",\"../images/final_to_match/HG_161101_196_AM_N5.JPG\",\"../images/final_to_match/HG_161105_003_AM_B_N1.JPG\",\"../images/final_to_match/HG_161105_009_AM_N5.JPG\",\"../images/final_to_match/HG_161105_013_AM_N3.JPG\",\"../images/final_to_match/HG_161105_015_AM_N2.JPG\",\"../images/final_to_match/HG_161105_020_AM_N4.JPG\",\"../images/final_to_match/HG_161105_028_AM_N6.JPG\",\"../images/final_to_match/HG_161109_064_AM_B_N1.JPG\",\"../images/final_to_match/HG_161109_067_AM_N2.JPG\",\"../images/final_to_match/HG_161109_072_AM_B_N3.JPG\",\"../images/final_to_match/HG_161019_006_AM_N12.JPG\",\"../images/final_to_match/HG_161019_008_AM_N5.JPG\",\"../images/final_to_match/HG_161019_011_AM_N6.JPG\",\"../images/final_to_match/HG_161019_014_AM_N8.JPG\",\"../images/final_to_match/HG_161019_024_AM_N1.JPG\",\"../images/final_to_match/HG_161019_026_AM_N4.JPG\",\"../images/final_to_match/HG_161019_032_AM_P12.JPG\",\"../images/final_to_match/HG_161019_034_AM_N2.JPG\",\"../images/final_to_match/HG_161019_036_AM_P3.JPG\",\"../images/final_to_match/HG_161019_046_DE_N25.JPG\",\"../images/final_to_match/HG_161019_054_AM_N7.JPG\",\"../images/final_to_match/HG_161019_061_AM_B_P4.JPG\",\"../images/final_to_match/HG_161019_061_AM_D_N9.JPG\",\"../images/final_to_match/HG_161019_074_AM_P1.JPG\",\"../images/final_to_match/HG_161019_085_AM_N3.JPG\",\"../images/final_to_match/HG_161019_086_AM_N20.JPG\",\"../images/final_to_match/HG_161019_097_AM_N10.JPG\",\"../images/final_to_match/HG_161019_100_AM_N11.JPG\",\"../images/final_to_match/HG_161019_104_AM_P8.JPG\",\"../images/final_to_match/HG_161019_112_AM_P19.JPG\",\"../images/final_to_match/HG_161019_118_AM_A_P9.JPG\",\"../images/final_to_match/HG_161019_125_AM_P6.JPG\",\"../images/final_to_match/HG_161019_129_AM_P13.JPG\",\"../images/final_to_match/HG_161019_134_AM_P16.JPG\",\"../images/final_to_match/HG_161019_145_AM_N27.JPG\",\"../images/final_to_match/HG_161019_148_AM_P2.JPG\",\"../images/final_to_match/HG_161019_161_AM_P14.JPG\",\"../images/final_to_match/HG_161019_165_AM_P5.JPG\",\"../images/final_to_match/HG_161019_174_AM_P18.JPG\",\"../images/final_to_match/HG_161019_184_AM_N14.JPG\",\"../images/final_to_match/HG_161019_185_AM_N23.JPG\",\"../images/final_to_match/HG_161019_189_AM_P7.JPG\",\"../images/final_to_match/HG_161019_192_AM_P17.JPG\",\"../images/final_to_match/HG_161019_200_AM_P10.JPG\",\"../images/final_to_match/HG_161019_202_AM_N13.JPG\",\"../images/final_to_match/HG_161019_210_AM_N17.JPG\",\"../images/final_to_match/HG_161019_219_AM_N16.JPG\",\"../images/final_to_match/HG_161019_221_AM_N18.JPG\",\"../images/final_to_match/HG_161019_225_AM_A_N21.JPG\",\"../images/final_to_match/HG_161019_229_AM_N24.JPG\",\"../images/final_to_match/HG_161019_249_AM_P11.JPG\",\"../images/final_to_match/HG_161019_265_AM_N22.JPG\",\"../images/final_to_match/HG_161019_268_AM_N15.JPG\",\"../images/final_to_match/HG_161019_274_AM_P15.JPG\",\"../images/final_to_match/HG_161019_283_AM_N26.JPG\",\"../images/final_to_match/HG_161020_003_AM_N1.JPG\",\"../images/final_to_match/HG_161020_006_AM_P2.JPG\",\"../images/final_to_match/HG_161020_009_AM_N2.JPG\",\"../images/final_to_match/HG_161020_012_AM_N3.JPG\",\"../images/final_to_match/HG_161020_016_AM_N4.JPG\",\"../images/final_to_match/HG_161020_024_AM_N5.JPG\",\"../images/final_to_match/HG_161020_034_AM_P1.JPG\",\"../images/final_to_match/HG_161020_036_AM_P4.JPG\",\"../images/final_to_match/HG_161020_042_AM_N6.JPG\",\"../images/final_to_match/HG_161010_005_AM_P2.jpg\",\"../images/final_to_match/HG_161010_013_AM_N1.jpg\",\"../images/final_to_match/HG_161010_021_AM_N2.jpg\",\"../images/final_to_match/HG_161010_024_AM_N3.jpg\",\"../images/final_to_match/HG_161010_037_AM_N4.JPG\",\"../images/final_to_match/HG_161010_043_AM_N5.jpg\",\"../images/final_to_match/HG_161010_051_AM_N6.JPG\",\"../images/final_to_match/HG_161010_057_AM_N7.JPG\",\"../images/final_to_match/HG_161010_061_AM_N8.jpg\",\"../images/final_to_match/HG_161010_089_AM_N10.jpg\",\"../images/final_to_match/HG_161010_093_AM_N9.JPG\",\"../images/final_to_match/HG_161010_096_AM_N11.JPG\",\"../images/final_to_match/HG_161010_100_DE_N12.JPG\",\"../images/final_to_match/HG_161010_102_AM_N13.jpg\",\"../images/final_to_match/HG_161010_106_AM_N14.jpg\",\"../images/final_to_match/HG_161018_125_AM_N5.JPG\",\"../images/final_to_match/HG_161018_131_AM_P5.JPG\",\"../images/final_to_match/HG_161018_145_DE_P16.JPG\",\"../images/final_to_match/HG_161018_148_AM_N11.JPG\",\"../images/final_to_match/HG_161018_148_DE_N18.JPG\",\"../images/final_to_match/HG_161018_151_AM_N8.JPG\",\"../images/final_to_match/HG_161018_153_AM_P17.JPG\",\"../images/final_to_match/HG_161018_166_AM_N14.JPG\",\"../images/final_to_match/HG_161018_171_AM_N7.JPG\",\"../images/final_to_match/HG_161018_174_AM_N13.JPG\",\"../images/final_to_match/HG_161018_177_AM_P3.JPG\",\"../images/final_to_match/HG_161018_180_AM_N12.JPG\",\"../images/final_to_match/HG_161018_185_AM_N15.JPG\",\"../images/final_to_match/HG_161018_193_AM_N9.JPG\",\"../images/final_to_match/HG_161018_195_AM_P7.JPG\",\"../images/final_to_match/HG_161018_205_AM_P4.JPG\",\"../images/final_to_match/HG_161018_213_AM_N16.JPG\",\"../images/final_to_match/HG_161018_214_AM_P6.JPG\",\"../images/final_to_match/HG_161018_218_AM_N19.JPG\",\"../images/final_to_match/HG_161018_219_AM_P13.JPG\",\"../images/final_to_match/HG_161018_223_AM_N21.JPG\",\"../images/final_to_match/HG_161018_236_AM_N2.JPG\",\"../images/final_to_match/HG_161018_238_AM_N10.JPG\",\"../images/final_to_match/HG_161018_240_AM_P15.JPG\",\"../images/final_to_match/HG_161018_243_AM_N6.JPG\",\"../images/final_to_match/HG_161018_245_AM_N20.JPG\",\"../images/final_to_match/HG_161018_252_AM_P14.JPG\",\"../images/final_to_match/HG_161018_253_AM_P10.JPG\",\"../images/final_to_match/HG_161018_255_AM_P12.JPG\",\"../images/final_to_match/HG_161018_256_AM_P11.JPG\",\"../images/final_to_match/HG_161018_260_AM_A_N17.JPG\",\"../images/final_to_match/HG_161018_264_AM_P1.JPG\",\"../images/final_to_match/HG_161018_266_AM_N1.JPG\",\"../images/final_to_match/HG_161018_273_AM_P2.JPG\",\"../images/final_to_match/HG_161018_275_AM_N3.JPG\",\"../images/final_to_match/HG_161018_282_AM_N4.JPG\",\"../images/final_to_match/HG_161018_332_DE_P8.JPG\",\"../images/final_to_match/HG_161018_334_DE_P9.JPG\",\"../images/final_to_match/HG_161019_001_AM_N19.JPG\",\"../images/final_to_match/HG_160916_042_AM_N3.JPG\",\"../images/final_to_match/HG_160916_043_AM_N2.JPG\",\"../images/final_to_match/HG_160919_006_DE_N1.JPG\",\"../images/final_to_match/HG_160919_012_AM_P1.JPG\",\"../images/final_to_match/HG_160919_017_AM_N2.jpg\",\"../images/final_to_match/HG_160919_021_AM_P2.JPG\",\"../images/final_to_match/HG_160919_028_AM_N4.jpg\",\"../images/final_to_match/HG_160919_048_AM_N3.JPG\",\"../images/final_to_match/HG_160923_0001_AM_N1.JPG\",\"../images/final_to_match/HG_160923_0007_AM_N3.JPG\",\"../images/final_to_match/HG_160923_0009_AM_N4.JPG\",\"../images/final_to_match/HG_160923_0013_AM_N2.JPG\",\"../images/final_to_match/HG_160923_0016_AM_N7.JPG\",\"../images/final_to_match/HG_160923_0020_DE_N5.JPG\",\"../images/final_to_match/HG_160923_0021_AM_N6.JPG\",\"../images/final_to_match/HG_160923_0023_AM_N8.JPG\",\"../images/final_to_match/HG_160926_0040_DE_N1.jpg\",\"../images/final_to_match/HG_160926_0055_DE_N2.JPG\",\"../images/final_to_match/HG_160927_0058_AM_N1.JPG\",\"../images/final_to_match/HG_160927_0061_AM_N2.JPG\",\"../images/final_to_match/HG_160927_0071_AM_N3.JPG\",\"../images/final_to_match/HG_160927_0072_AM_P1.JPG\",\"../images/final_to_match/HG_160927_0074_AM_N12.JPG\",\"../images/final_to_match/HG_160927_0078_AM_N4.JPG\",\"../images/final_to_match/HG_160927_0084_AM_P2.JPG\",\"../images/final_to_match/HG_160927_0097_AM_N5.JPG\",\"../images/final_to_match/HG_160927_0117_AM_N6.JPG\",\"../images/final_to_match/HG_160927_0130_AM_N7.JPG\",\"../images/final_to_match/HG_160927_0133_AM_N13.JPG\",\"../images/final_to_match/HG_160927_0136_AM_N9.jpg\",\"../images/final_to_match/HG_160927_0138_AM_N8.JPG\",\"../images/final_to_match/HG_160927_0159_AM_N11.JPG\",\"../images/final_to_match/HG_160927_0198_AM_N10.JPG\",\"../images/final_to_match/HG_160928_0010_AM_N2.JPG\",\"../images/final_to_match/HG_160928_0036_AM_N1.JPG\",\"../images/final_to_match/HG_161001_040_DE_P1.JPG\",\"../images/final_to_match/HG_161004_161_DE_N1.JPG\",\"../images/final_to_match/HG_161004_184_DE_P2.JPG\",\"../images/final_to_match/HG_161004_189_DE_P1.JPG\",\"../images/final_to_match/HG_161004_190_DE_N2.JPG\",\"../images/final_to_match/HG_161008_002_DE_N6.jpg\",\"../images/final_to_match/HG_161008_004_DE_B_P2.JPG\",\"../images/final_to_match/HG_161008_008_DE_P3.JPG\",\"../images/final_to_match/HG_161008_102_DE_B_P5.jpg\",\"../images/final_to_match/HG_161008_117_DE_A_N1.jpg\",\"../images/final_to_match/HG_161008_117_DE_B_N7.jpg\",\"../images/final_to_match/HG_161008_131_DE_P4.jpg\",\"../images/final_to_match/HG_161008_234_DE_N8.jpg\",\"../images/final_to_match/HG_161008_241_DE_N2.jpg\",\"../images/final_to_match/HG_161008_289_DE_N4.JPG\",\"../images/final_to_match/HG_161008_290_DE_N3.jpg\",\"../images/final_to_match/HG_161008_292_DE_P1.jpg\",\"../images/final_to_match/HG_161008_349_DE_N5.JPG\",\"../images/final_to_match/HG_161010_001_AM_P1.JPG\",\"../images/final_to_match/HG_160902_292_AM_N4.jpg\",\"../images/final_to_match/HG_160902_327_AM_N6.jpg\",\"../images/final_to_match/HG_160902_330_AM_N7.jpg\",\"../images/final_to_match/HG_160902_333_AM_N3.jpg\",\"../images/final_to_match/HG_160902_348_AM_B_N8.jpg\",\"../images/final_to_match/HG_160902_348_AM_C_N5.jpg\",\"../images/final_to_match/HG_160912_036_AM_N1.JPG\",\"../images/final_to_match/HG_160912_051_AM_N6.JPG\",\"../images/final_to_match/HG_160912_061_AM_N12.JPG\",\"../images/final_to_match/HG_160912_071_AM_P2.JPG\",\"../images/final_to_match/HG_160912_073_AM_N2.JPG\",\"../images/final_to_match/HG_160912_076_AM_N9.JPG\",\"../images/final_to_match/HG_160912_084_AM_N10.JPG\",\"../images/final_to_match/HG_160912_093_AM_N11.JPG\",\"../images/final_to_match/HG_160912_102_AM_P5.JPG\",\"../images/final_to_match/HG_160912_136_DE_N8.jpg\",\"../images/final_to_match/HG_160912_143_AM_P1.JPG\",\"../images/final_to_match/HG_160912_151_AM_P3.JPG\",\"../images/final_to_match/HG_160912_166_AM_N7.JPG\",\"../images/final_to_match/HG_160912_167_AM_N3.JPG\",\"../images/final_to_match/HG_160912_178_AM_N4.JPG\",\"../images/final_to_match/HG_160912_235_DE_N14.JPG\",\"../images/final_to_match/HG_160912_259_DE_P4.JPG\",\"../images/final_to_match/HG_160912_288_DE_N13.JPG\",\"../images/final_to_match/HG_160912_292_DE_N5.JPG\",\"../images/final_to_match/HG_160913_013_AM_N1.JPG\",\"../images/final_to_match/HG_160913_086_AM_B_N2.jpg\",\"../images/final_to_match/HG_160913_093_AM_N3.JPG\",\"../images/final_to_match/HG_160913_099_AM_N6.JPG\",\"../images/final_to_match/HG_160913_101_AM_N7.JPG\",\"../images/final_to_match/HG_160913_106_AM_B_P4.jpg\",\"../images/final_to_match/HG_160913_108_AM_P8.JPG\",\"../images/final_to_match/HG_160913_109_AM_B_P5.jpg\",\"../images/final_to_match/HG_160913_112_AM_P2.JPG\",\"../images/final_to_match/HG_160913_115_AM_P3.JPG\",\"../images/final_to_match/HG_160913_118_AM_P6.JPG\",\"../images/final_to_match/HG_160913_125_AM_P1.JPG\",\"../images/final_to_match/HG_160913_139_AM_N5.JPG\",\"../images/final_to_match/HG_160913_153_DE_N4.JPG\",\"../images/final_to_match/HG_160913_155_DE_P7.JPG\",\"../images/final_to_match/HG_160914_007_AM_N9.jpg\",\"../images/final_to_match/HG_160914_010_AM_N1.jpg\",\"../images/final_to_match/HG_160914_012_AM_N2.jpg\",\"../images/final_to_match/HG_160914_019_AM_N6.jpg\",\"../images/final_to_match/HG_160914_167_DE_N8.jpg\",\"../images/final_to_match/HG_160914_212_AM_N3.jpg\",\"../images/final_to_match/HG_160914_215_AM_N7.jpg\",\"../images/final_to_match/HG_160914_225_AM_N5.jpg\",\"../images/final_to_match/HG_160914_227_AM_N4.jpg\",\"../images/final_to_match/HG_160916_018_AM_P2.jpg\",\"../images/final_to_match/HG_160916_020_AM_N1.JPG\",\"../images/final_to_match/HG_160916_023_AM_P1.JPG\",\"../images/final_to_match/HG_160916_025_AM_P4.JPG\",\"../images/final_to_match/HG_160916_036_AM_A_P3.JPG\",\"../images/final_to_match/HG_160725_040_DE_P3.JPG\",\"../images/final_to_match/HG_160725_048_DE_P2.JPG\",\"../images/final_to_match/HG_160725_151_DE_N1.JPG\",\"../images/final_to_match/HG_160801_063_DE_P1.jpg\",\"../images/final_to_match/HG_160801_104_DE_P4.jpg\",\"../images/final_to_match/HG_160801_113_DE_N1.JPG\",\"../images/final_to_match/HG_160801_114_DE_P3.JPG\",\"../images/final_to_match/HG_160801_116_DE_P5.jpg\",\"../images/final_to_match/HG_160801_176_DE_P2.JPG\",\"../images/final_to_match/HG_160802_018_DE_N1.JPG\",\"../images/final_to_match/HG_160802_059_DE_P1.JPG\",\"../images/final_to_match/HG_160802_066_DE_P2.JPG\",\"../images/final_to_match/HG_160802_073_DE_N4.JPG\",\"../images/final_to_match/HG_160802_125_DE_N3.JPG\",\"../images/final_to_match/HG_160802_142_DE_N2.JPG\",\"../images/final_to_match/HG_160803_017_DE_P1.JPG\",\"../images/final_to_match/HG_160803_040_DE_A_N1.jpg\",\"../images/final_to_match/HG_160804_018_DE_N1.JPG\",\"../images/final_to_match/HG_160804_047_DE_N2.JPG\",\"../images/final_to_match/HG_160812_021_DE_N1.jpg\",\"../images/final_to_match/HG_160813_039_DE_P1.JPG\",\"../images/final_to_match/HG_160814_051_DE_N1.jpg\",\"../images/final_to_match/HG_160815_157_DE_N2.JPG\",\"../images/final_to_match/HG_160815_173_DE_N1.JPG\",\"../images/final_to_match/HG_160816_003_DE_N1.JPG\",\"../images/final_to_match/HG_160816_005_DE_N2.JPG\",\"../images/final_to_match/HG_160816_024_DE_P2.JPG\",\"../images/final_to_match/HG_160816_025_DE_P1.JPG\",\"../images/final_to_match/HG_160817_224_DE_N1.jpg\",\"../images/final_to_match/HG_160818_004_DE_N1.jpg\",\"../images/final_to_match/HG_160821_045_DE_N1.JPG\",\"../images/final_to_match/HG_160822_082_DE_N1.JPG\",\"../images/final_to_match/HG_160823_098_DE_N1.JPG\",\"../images/final_to_match/HG_160823_102_DE_N2.JPG\",\"../images/final_to_match/HG_160823_106_DE_P1.JPG\",\"../images/final_to_match/HG_160823_115_DE_N3.JPG\",\"../images/final_to_match/HG_160823_117_DE_N4.JPG\",\"../images/final_to_match/HG_160824_012_DE_N1.JPG\"],\"index\":[0,1,2,3,4,5,6,7,8,9,10,11,12,13,14,15,16,17,18,19,20,21,22,23,24,25,26,27,28,29,30,31,32,33,34,35,36,37,38,39,40,41,42,43,44,45,46,47,48,49,50,51,52,53,54,55,56,57,58,59,60,61,62,63,64,65,66,67,68,69,70,71,72,73,74,75,76,77,78,79,80,81,82,83,84,85,86,87,88,89,90,91,92,93,94,95,96,97,98,99,100,101,102,103,104,105,106,107,108,109,110,111,112,113,114,115,116,117,118,119,120,121,122,123,124,125,126,127,128,129,130,131,132,133,134,135,136,137,138,139,140,141,142,143,144,145,146,147,148,149,150,151,152,153,154,155,156,157,158,159,160,161,162,163,164,165,166,167,168,169,170,171,172,173,174,175,176,177,178,179,180,181,182,183,184,185,186,187,188,189,190,191,192,193,194,195,196,197,198,199,200,201,202,203,204,205,206,207,208,209,210,211,212,213,214,215,216,217,218,219,220,221,222,223,224,225,226,227,228,229,230,231,232,233,234,235,236,237,238,239,240,241,242,243,244,245,246,247,248,249,250,251,252,253,254,255,256,257,258,259,260,261,262,263,264,265,266,267,268,269,270,271,272,273,274,275,276,277,278,279,280,281,282,283,284,285,286,287,288,289,290,291,292,293,294,295,296,297,298,299],\"label\":[-1,-1,-1,-1,-1,-1,-1,-1,-1,-1,-1,-1,-1,-1,-1,-1,-1,-1,-1,-1,-1,-1,1,1,-1,-1,-1,-1,-1,0,1,-1,-1,-1,-1,1,-1,-1,1,-1,-1,-1,0,-1,-1,-1,-1,-1,-1,-1,-1,-1,-1,-1,-1,1,-1,-1,-1,-1,-1,1,-1,-1,-1,1,-1,-1,-1,1,-1,-1,-1,-1,-1,1,-1,-1,-1,-1,-1,-1,-1,-1,-1,-1,1,-1,-1,-1,-1,-1,-1,-1,0,1,-1,-1,-1,-1,-1,-1,-1,-1,-1,-1,-1,-1,-1,-1,-1,-1,-1,-1,1,-1,-1,-1,-1,-1,-1,-1,-1,-1,1,-1,-1,1,-1,-1,-1,-1,-1,-1,-1,0,-1,-1,-1,-1,-1,-1,-1,-1,0,-1,-1,-1,-1,-1,-1,-1,-1,-1,-1,-1,-1,0,0,-1,-1,-1,-1,1,-1,-1,-1,1,0,-1,-1,1,-1,-1,-1,-1,-1,1,-1,-1,-1,-1,-1,1,1,-1,-1,-1,-1,1,1,-1,-1,-1,-1,-1,-1,-1,1,-1,-1,-1,-1,1,-1,-1,-1,-1,-1,-1,0,-1,1,-1,-1,-1,0,-1,-1,-1,0,0,-1,-1,-1,-1,-1,-1,-1,-1,-1,0,-1,-1,-1,0,-1,-1,-1,-1,-1,1,-1,-1,-1,1,-1,0,-1,-1,-1,-1,-1,-1,-1,-1,1,0,-1,-1,-1,-1,0,-1,-1,-1,-1,-1,-1,-1,-1,-1,-1,-1,-1,-1,-1,-1,-1,-1,-1,-1,-1,-1,-1,-1,-1,1,-1,1,-1,-1,-1,1,1,1,-1,-1,-1,-1],\"level_0\":[0,1,2,3,4,5,6,7,8,9,10,11,12,13,14,15,16,17,18,19,20,21,22,23,24,25,26,27,28,29,30,31,32,33,34,35,36,37,38,39,40,41,42,43,44,45,46,47,48,49,50,51,52,53,54,55,56,57,58,59,60,61,62,63,64,65,66,67,68,69,70,71,72,73,74,75,76,77,78,79,80,81,82,83,84,85,86,87,88,89,90,91,92,93,94,95,96,97,98,99,100,101,102,103,104,105,106,107,108,109,110,111,112,113,114,115,116,117,118,119,120,121,122,123,124,125,126,127,128,129,130,131,132,133,134,135,136,137,138,139,140,141,142,143,144,145,146,147,148,149,150,151,152,153,154,155,156,157,158,159,160,161,162,163,164,165,166,167,168,169,170,171,172,173,174,175,176,177,178,179,180,181,182,183,184,185,186,187,188,189,190,191,192,193,194,195,196,197,198,199,200,201,202,203,204,205,206,207,208,209,210,211,212,213,214,215,216,217,218,219,220,221,222,223,224,225,226,227,228,229,230,231,232,233,234,235,236,237,238,239,240,241,242,243,244,245,246,247,248,249,250,251,252,253,254,255,256,257,258,259,260,261,262,263,264,265,266,267,268,269,270,271,272,273,274,275,276,277,278,279,280,281,282,283,284,285,286,287,288,289,290,291,292,293,294,295,296,297,298,299],\"name\":[\"HG_161020_047_AM_N9\",\"HG_161020_052_AM_P5\",\"HG_161020_062_AM_N8\",\"HG_161020_071_AM_N7\",\"HG_161023_220_AM_N1\",\"HG_161023_222_AM_N2\",\"HG_161023_224_AM_N4\",\"HG_161023_246_AM_P8\",\"HG_161023_250_AM_N5\",\"HG_161023_257_AM_P1\",\"HG_161023_261_AM_P2\",\"HG_161023_270_AM_P3\",\"HG_161023_276_AM_P4\",\"HG_161023_280_AM_N3\",\"HG_161023_284_AM_P10\",\"HG_161023_297_AM_N8\",\"HG_161023_298_AM_P5\",\"HG_161023_300_AM_A_N7\",\"HG_161023_302_AM_N13\",\"HG_161023_310_AM_N9\",\"HG_161023_341_AM_N10\",\"HG_161023_347_AM_A_P6\",\"HG_161023_348_AM_B_N11\",\"HG_161023_351_AM_P9\",\"HG_161023_464_DE_N6\",\"HG_161023_465_DE_N12\",\"HG_161023_490_DE_P7\",\"HG_161031_006_AM_N1\",\"HG_161031_009_AM_P1\",\"HG_161031_010_AM_P2\",\"HG_161031_016_AM_N2\",\"HG_161101_035_AM_N1\",\"HG_161101_085_AM_P1\",\"HG_161101_150_AM_N2\",\"HG_161101_153_AM_N3\",\"HG_161101_158_AM_N4\",\"HG_161101_196_AM_N5\",\"HG_161105_003_AM_B_N1\",\"HG_161105_009_AM_N5\",\"HG_161105_013_AM_N3\",\"HG_161105_015_AM_N2\",\"HG_161105_020_AM_N4\",\"HG_161105_028_AM_N6\",\"HG_161109_064_AM_B_N1\",\"HG_161109_067_AM_N2\",\"HG_161109_072_AM_B_N3\",\"HG_161019_006_AM_N12\",\"HG_161019_008_AM_N5\",\"HG_161019_011_AM_N6\",\"HG_161019_014_AM_N8\",\"HG_161019_024_AM_N1\",\"HG_161019_026_AM_N4\",\"HG_161019_032_AM_P12\",\"HG_161019_034_AM_N2\",\"HG_161019_036_AM_P3\",\"HG_161019_046_DE_N25\",\"HG_161019_054_AM_N7\",\"HG_161019_061_AM_B_P4\",\"HG_161019_061_AM_D_N9\",\"HG_161019_074_AM_P1\",\"HG_161019_085_AM_N3\",\"HG_161019_086_AM_N20\",\"HG_161019_097_AM_N10\",\"HG_161019_100_AM_N11\",\"HG_161019_104_AM_P8\",\"HG_161019_112_AM_P19\",\"HG_161019_118_AM_A_P9\",\"HG_161019_125_AM_P6\",\"HG_161019_129_AM_P13\",\"HG_161019_134_AM_P16\",\"HG_161019_145_AM_N27\",\"HG_161019_148_AM_P2\",\"HG_161019_161_AM_P14\",\"HG_161019_165_AM_P5\",\"HG_161019_174_AM_P18\",\"HG_161019_184_AM_N14\",\"HG_161019_185_AM_N23\",\"HG_161019_189_AM_P7\",\"HG_161019_192_AM_P17\",\"HG_161019_200_AM_P10\",\"HG_161019_202_AM_N13\",\"HG_161019_210_AM_N17\",\"HG_161019_219_AM_N16\",\"HG_161019_221_AM_N18\",\"HG_161019_225_AM_A_N21\",\"HG_161019_229_AM_N24\",\"HG_161019_249_AM_P11\",\"HG_161019_265_AM_N22\",\"HG_161019_268_AM_N15\",\"HG_161019_274_AM_P15\",\"HG_161019_283_AM_N26\",\"HG_161020_003_AM_N1\",\"HG_161020_006_AM_P2\",\"HG_161020_009_AM_N2\",\"HG_161020_012_AM_N3\",\"HG_161020_016_AM_N4\",\"HG_161020_024_AM_N5\",\"HG_161020_034_AM_P1\",\"HG_161020_036_AM_P4\",\"HG_161020_042_AM_N6\",\"HG_161010_005_AM_P2\",\"HG_161010_013_AM_N1\",\"HG_161010_021_AM_N2\",\"HG_161010_024_AM_N3\",\"HG_161010_037_AM_N4\",\"HG_161010_043_AM_N5\",\"HG_161010_051_AM_N6\",\"HG_161010_057_AM_N7\",\"HG_161010_061_AM_N8\",\"HG_161010_089_AM_N10\",\"HG_161010_093_AM_N9\",\"HG_161010_096_AM_N11\",\"HG_161010_100_DE_N12\",\"HG_161010_102_AM_N13\",\"HG_161010_106_AM_N14\",\"HG_161018_125_AM_N5\",\"HG_161018_131_AM_P5\",\"HG_161018_145_DE_P16\",\"HG_161018_148_AM_N11\",\"HG_161018_148_DE_N18\",\"HG_161018_151_AM_N8\",\"HG_161018_153_AM_P17\",\"HG_161018_166_AM_N14\",\"HG_161018_171_AM_N7\",\"HG_161018_174_AM_N13\",\"HG_161018_177_AM_P3\",\"HG_161018_180_AM_N12\",\"HG_161018_185_AM_N15\",\"HG_161018_193_AM_N9\",\"HG_161018_195_AM_P7\",\"HG_161018_205_AM_P4\",\"HG_161018_213_AM_N16\",\"HG_161018_214_AM_P6\",\"HG_161018_218_AM_N19\",\"HG_161018_219_AM_P13\",\"HG_161018_223_AM_N21\",\"HG_161018_236_AM_N2\",\"HG_161018_238_AM_N10\",\"HG_161018_240_AM_P15\",\"HG_161018_243_AM_N6\",\"HG_161018_245_AM_N20\",\"HG_161018_252_AM_P14\",\"HG_161018_253_AM_P10\",\"HG_161018_255_AM_P12\",\"HG_161018_256_AM_P11\",\"HG_161018_260_AM_A_N17\",\"HG_161018_264_AM_P1\",\"HG_161018_266_AM_N1\",\"HG_161018_273_AM_P2\",\"HG_161018_275_AM_N3\",\"HG_161018_282_AM_N4\",\"HG_161018_332_DE_P8\",\"HG_161018_334_DE_P9\",\"HG_161019_001_AM_N19\",\"HG_160916_042_AM_N3\",\"HG_160916_043_AM_N2\",\"HG_160919_006_DE_N1\",\"HG_160919_012_AM_P1\",\"HG_160919_017_AM_N2\",\"HG_160919_021_AM_P2\",\"HG_160919_028_AM_N4\",\"HG_160919_048_AM_N3\",\"HG_160923_0001_AM_N1\",\"HG_160923_0007_AM_N3\",\"HG_160923_0009_AM_N4\",\"HG_160923_0013_AM_N2\",\"HG_160923_0016_AM_N7\",\"HG_160923_0020_DE_N5\",\"HG_160923_0021_AM_N6\",\"HG_160923_0023_AM_N8\",\"HG_160926_0040_DE_N1\",\"HG_160926_0055_DE_N2\",\"HG_160927_0058_AM_N1\",\"HG_160927_0061_AM_N2\",\"HG_160927_0071_AM_N3\",\"HG_160927_0072_AM_P1\",\"HG_160927_0074_AM_N12\",\"HG_160927_0078_AM_N4\",\"HG_160927_0084_AM_P2\",\"HG_160927_0097_AM_N5\",\"HG_160927_0117_AM_N6\",\"HG_160927_0130_AM_N7\",\"HG_160927_0133_AM_N13\",\"HG_160927_0136_AM_N9\",\"HG_160927_0138_AM_N8\",\"HG_160927_0159_AM_N11\",\"HG_160927_0198_AM_N10\",\"HG_160928_0010_AM_N2\",\"HG_160928_0036_AM_N1\",\"HG_161001_040_DE_P1\",\"HG_161004_161_DE_N1\",\"HG_161004_184_DE_P2\",\"HG_161004_189_DE_P1\",\"HG_161004_190_DE_N2\",\"HG_161008_002_DE_N6\",\"HG_161008_004_DE_B_P2\",\"HG_161008_008_DE_P3\",\"HG_161008_102_DE_B_P5\",\"HG_161008_117_DE_A_N1\",\"HG_161008_117_DE_B_N7\",\"HG_161008_131_DE_P4\",\"HG_161008_234_DE_N8\",\"HG_161008_241_DE_N2\",\"HG_161008_289_DE_N4\",\"HG_161008_290_DE_N3\",\"HG_161008_292_DE_P1\",\"HG_161008_349_DE_N5\",\"HG_161010_001_AM_P1\",\"HG_160902_292_AM_N4\",\"HG_160902_327_AM_N6\",\"HG_160902_330_AM_N7\",\"HG_160902_333_AM_N3\",\"HG_160902_348_AM_B_N8\",\"HG_160902_348_AM_C_N5\",\"HG_160912_036_AM_N1\",\"HG_160912_051_AM_N6\",\"HG_160912_061_AM_N12\",\"HG_160912_071_AM_P2\",\"HG_160912_073_AM_N2\",\"HG_160912_076_AM_N9\",\"HG_160912_084_AM_N10\",\"HG_160912_093_AM_N11\",\"HG_160912_102_AM_P5\",\"HG_160912_136_DE_N8\",\"HG_160912_143_AM_P1\",\"HG_160912_151_AM_P3\",\"HG_160912_166_AM_N7\",\"HG_160912_167_AM_N3\",\"HG_160912_178_AM_N4\",\"HG_160912_235_DE_N14\",\"HG_160912_259_DE_P4\",\"HG_160912_288_DE_N13\",\"HG_160912_292_DE_N5\",\"HG_160913_013_AM_N1\",\"HG_160913_086_AM_B_N2\",\"HG_160913_093_AM_N3\",\"HG_160913_099_AM_N6\",\"HG_160913_101_AM_N7\",\"HG_160913_106_AM_B_P4\",\"HG_160913_108_AM_P8\",\"HG_160913_109_AM_B_P5\",\"HG_160913_112_AM_P2\",\"HG_160913_115_AM_P3\",\"HG_160913_118_AM_P6\",\"HG_160913_125_AM_P1\",\"HG_160913_139_AM_N5\",\"HG_160913_153_DE_N4\",\"HG_160913_155_DE_P7\",\"HG_160914_007_AM_N9\",\"HG_160914_010_AM_N1\",\"HG_160914_012_AM_N2\",\"HG_160914_019_AM_N6\",\"HG_160914_167_DE_N8\",\"HG_160914_212_AM_N3\",\"HG_160914_215_AM_N7\",\"HG_160914_225_AM_N5\",\"HG_160914_227_AM_N4\",\"HG_160916_018_AM_P2\",\"HG_160916_020_AM_N1\",\"HG_160916_023_AM_P1\",\"HG_160916_025_AM_P4\",\"HG_160916_036_AM_A_P3\",\"HG_160725_040_DE_P3\",\"HG_160725_048_DE_P2\",\"HG_160725_151_DE_N1\",\"HG_160801_063_DE_P1\",\"HG_160801_104_DE_P4\",\"HG_160801_113_DE_N1\",\"HG_160801_114_DE_P3\",\"HG_160801_116_DE_P5\",\"HG_160801_176_DE_P2\",\"HG_160802_018_DE_N1\",\"HG_160802_059_DE_P1\",\"HG_160802_066_DE_P2\",\"HG_160802_073_DE_N4\",\"HG_160802_125_DE_N3\",\"HG_160802_142_DE_N2\",\"HG_160803_017_DE_P1\",\"HG_160803_040_DE_A_N1\",\"HG_160804_018_DE_N1\",\"HG_160804_047_DE_N2\",\"HG_160812_021_DE_N1\",\"HG_160813_039_DE_P1\",\"HG_160814_051_DE_N1\",\"HG_160815_157_DE_N2\",\"HG_160815_173_DE_N1\",\"HG_160816_003_DE_N1\",\"HG_160816_005_DE_N2\",\"HG_160816_024_DE_P2\",\"HG_160816_025_DE_P1\",\"HG_160817_224_DE_N1\",\"HG_160818_004_DE_N1\",\"HG_160821_045_DE_N1\",\"HG_160822_082_DE_N1\",\"HG_160823_098_DE_N1\",\"HG_160823_102_DE_N2\",\"HG_160823_106_DE_P1\",\"HG_160823_115_DE_N3\",\"HG_160823_117_DE_N4\",\"HG_160824_012_DE_N1\"],\"outlier\":[1,1,1,1,1,1,1,1,1,1,1,1,1,1,1,1,1,1,1,1,1,1,0,0,1,1,1,1,1,0,0,1,1,1,1,0,1,1,0,1,1,1,0,1,1,1,1,1,1,1,1,1,1,1,1,0,1,1,1,1,1,0,1,1,1,0,1,1,1,0,1,1,1,1,1,0,1,1,1,1,1,1,1,1,1,1,0,1,1,1,1,1,1,1,0,0,1,1,1,1,1,1,1,1,1,1,1,1,1,1,1,1,1,1,0,1,1,1,1,1,1,1,1,1,0,1,1,0,1,1,1,1,1,1,1,0,1,1,1,1,1,1,1,1,0,1,1,1,1,1,1,1,1,1,1,1,1,0,0,1,1,1,1,0,1,1,1,0,0,1,1,0,1,1,1,1,1,0,1,1,1,1,1,0,0,1,1,1,1,0,0,1,1,1,1,1,1,1,0,1,1,1,1,0,1,1,1,1,1,1,0,1,0,1,1,1,0,1,1,1,0,0,1,1,1,1,1,1,1,1,1,0,1,1,1,0,1,1,1,1,1,0,1,1,1,0,1,0,1,1,1,1,1,1,1,1,0,0,1,1,1,1,0,1,1,1,1,1,1,1,1,1,1,1,1,1,1,1,1,1,1,1,1,1,1,1,1,0,1,0,1,1,1,0,0,0,1,1,1,1],\"probability\":{\"__ndarray__\":\"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\",\"dtype\":\"float64\",\"order\":\"little\",\"shape\":[300]},\"x\":{\"__ndarray__\":\"gnAdQGRFX0A9jli/EqRkQCgvkUDIbXtA73wOQICnbECvkWxAcPEJQEyH1z//aIBAWDZ1P8hsjEDxa2RApVqbP7+Skz+wFBRArA2pP/55D7+0hPA/DMsXwPBcs7+oYWy+6sIRwP6qEsAV82m/VIdOQMzuREByjJA/hNhJvi//bkDENDVA7f3gPxaFwT8IIHG/1lK2P+Wzbz+JTE2/bfV2QC0+sT+SAsa+dEScPyIe1j7/x2A/L4BVQGRsGECWsBA/h9/9v5hMdj+UPRNApJTevtiXk79Agdg+IkwqwC57iD4Kc5W9JvVLPzNGQ0DlcXO/YdisvkJypr67IALAYjpYP6pJMr/7hcs/5XmoPwIlsb+/QR/A1v/sPgvlxr+G+Yi+zCEUwMIMpL/iCBLA4pEwP9+nxD8wjBc/SMGlvyQhDsDA6e2/dvyEv6xLO8CTfI2/Mhr/v/iAK8DoxBi/JLWyv6mDFz757w1AZl+tP6TXxz/G7gPAMDpSP6H7wD/N4RU9nDQcQMuAuD/8d0o+Dgu2P7TCCEDoYTZAoi3HPwOtOz/9vBlAL043PyrAZ0Dmg/g/uFa5PxFQP0AjDYU+e+UcQDPHU0At5ztASX/EP+8/CUDl0d8/La8dvvg16z8QYsK/yvTCP7CgSD8YKEC9wxymvwlII74WcodAeM9NQIDYeD6o3wVAkN17Pznye0BPY19AM/iEQOPvSEBc+GVAxt7lP6KMjEAYrHtADHRmQOGNL0AIwYVAe8UrQAlWj0CPlC5ARJYTQMVAckD3KmBA3wDEP8WeKECzahpA7+0tQHiKML/2wJI/reToP4fAfj4ftOs+/9hPQMCU0z8wbYA/2IgdQBFI7b5tvwi/bpSgv9ZpAT9p5ta/T/uHP44cn75TYNm/1YTzP58PAj8owH6/cjTAv7zyG76eB6++mQbMvuuc778KC8k/zmo2v9DIQL8U9DFA0bAwQBQKpz7HR/W/lJIhPoVAib9Otto/tElsvZzZfDy4wUw/wOMHPw9Jsr5RHlJA7ROKP3jyez/hqsc/hdw+QBDt4j6a0h8/Q2t8PEDjrL9h81M/awMvvzk3jT21H9a+dLUDPgFKEkBqXHK/oTHLv6A9BEDOCqE/oYyUP1ivJUAETI0/s5x9P9zVKb8pyXY/G/CSPyngAMAh4wlA4SYePwBtsj/Goag/PmlAvorJWL+A/IM+bYV0v7p19L8jD4e/HOckwOKuIz9FJxW+LxktQE3N9j/fpSY/3PbRvxcDsj9kwmQ+bPJSPiBHWz3g6CNA6IErv6mQqD5W2Ny/IZn1P3EDjz9NG4U+JewTwCLb1j9d5qw//aOQv09GCEBKwBE/g0MMP2O4Kr06egJA/gybv4u2z79evFM/BdVWP9SSkr9GUAZACP1DQNBp5D9C4hdAf9HGP4gIBEBImjhAYfa4P60VEUD20RxAJBCAPt9XxL/zuIs/aEsPwODI+b9b2eK/W01mv5XTLL7BAvS/0R/sv3qJMMAVRzhAgM3/v8UiW74WnYI9apYtwHK9pD57nt4+E/vav3biGr6IcZU/cSgcwK9LoL8xCzQ+WOHcP6CAir1GWRVAwho2QJc45T/PQeW+\",\"dtype\":\"float32\",\"order\":\"little\",\"shape\":[300]},\"y\":{\"__ndarray__\":\"rrLXPzfuF0Bd3lZA1aUBQNSYlEA8U2VASXEyQFZYlkAkmYZAnRuEQNMtuUASlJRAFc2wQPLEm0B/BZ1AubnAQJzqo0CeW6dAFChhQNdgA0AAru0/UUxIQDXSCUAhLQhAyVboPxutBkCFZ0VAo/0fQA3cNUD+P4FAhy05QGdmgEBX3q1AwJbQQIzAxkAA5iVADUjJPvSUDT+TbzdAtVWhQLQxKUBDFYRAFCJRQOvqE0CYjpRAq42BQGNNL0CnXK5AmWoXQPgjhEDtbFBA+JGAP4Basj/AcIs/12hxQLj5qj/Wg0dA68KEP7sjpUCBALM/wRsSQNqjI0BNCzZANJxfP5Q7az/IGsM/biysP5m2FEBOR4JA6k8aQCj/XEDXNq5AMTQjQPJbkEBCAHlAXoUVQBiMk0BvqJtAEPZBQJZaikDuyhdAb5IQQC0AXkBRTQ1AnDcKQNo6bUB2VBxAFaf+P3VeRT8kxH0/x2xjP2UoP0CBmXxADcFvQObuZkB9gBxA6Xh6QJikIEBS6KNA3e5QPzbu2T+XTCJAWegcQKDHQkCN8e0/QvQsQK/YHUAV40tAmyG4P78n/D9Pyzg/PqCZPyMH6z82NwtAry/4P+cclj+/UzA/k9aXQEiAh0Bt6J9ALEOFP1vhMEDZtEJAG+WJQD/h7T8n4opA4BqGQLgsYkA5BcBAsEqtQH63o0BnLKBAUiehQBfKkkAk9nxAzO+YQOpDc0B211BA/gKCQORuYUC79Y1AVIOBQGDVhECzXqZADOiUQFbDnUAA8alAa8eeQB06wEAPOcdAT/u8QCedlEDF3UJAwpVHQASQsUDytpNAXZV8QNKKiECylHJAtDWgQMAxpkA/vCQ//duQPwCIHEB/UdU/K3XEP5yYcUA76AdAj1CTQGJ7DEDC0ss/uH/pP5dicUC11RNAsqmQQJVacUAqRLlAiRYzQG4YWEDnU1lAZcuYQLhHxj5yLERA/RCoP70g/D/H9W8/OI0xP/T7wz8Be8g/UudTQBWYPUBtod4/Hf3iP2KE3j+p9JtA1PSMQNAdhEAzUGhAFvtiQP23UUDyJXhAjGl/QAj5g0CzL05AjjyDQJ8uC0Du/a1AOOZyQOION0DEFAdAfUqVQG4DLEB+5AtAbJ4yQJlje0DMPcZAJGyFQEPlj0An5GZA6xHHQHGaqEClCZNATlnDQFlstkD12b1AOpq2P13JhEDx6ZtAcdxCQBrGu0D04bNARGqIQEJlh0BxTsZADE9hQHfScEAF7qNAxKekQG0Il0DQkoZAek6MQH1NPECtF5VAOfu2QHQijEBFPec/fWpfQNdDcUDbbwpAWjMoQNpxF0CEJpFAzyVUP4ECzj+h5VFAHMWHQJbt6D/TpqNAF3+aQCGYl0CwYqxAdrBdQFeefUD6mJpAjxgNQI6bpUAVe5RACOHLQA2+lEAxr3hAkybPQMAybkBFRbJAs8eXQFuXkECsZkJATJiBQG1Bnz8Ic90/IaquP7PnSkCk5m5AbnCXQKE8xD/EwF0/rgJVQGiMWkCn1Ok/iqWdQC+wYkAeaWtAsv+JQN0mQ0BXTPM/Ki+tP46wKECrD8E//t+/P9kJQj8YUc0/\",\"dtype\":\"float32\",\"order\":\"little\",\"shape\":[300]}},\"selected\":{\"id\":\"1224\"},\"selection_policy\":{\"id\":\"1223\"}},\"id\":\"1156\",\"type\":\"ColumnDataSource\"},{\"attributes\":{},\"id\":\"1217\",\"type\":\"AllLabels\"},{\"attributes\":{\"formatter\":{\"id\":\"1216\"},\"major_label_policy\":{\"id\":\"1217\"},\"ticker\":{\"id\":\"1167\"},\"visible\":false},\"id\":\"1166\",\"type\":\"LinearAxis\"},{\"attributes\":{\"overlay\":{\"id\":\"1180\"}},\"id\":\"1176\",\"type\":\"BoxZoomTool\"},{\"attributes\":{},\"id\":\"1167\",\"type\":\"BasicTicker\"},{\"attributes\":{},\"id\":\"1177\",\"type\":\"SaveTool\"},{\"attributes\":{},\"id\":\"1160\",\"type\":\"DataRange1d\"},{\"attributes\":{\"axis\":{\"id\":\"1166\"},\"ticker\":null,\"visible\":false},\"id\":\"1169\",\"type\":\"Grid\"},{\"attributes\":{},\"id\":\"1162\",\"type\":\"LinearScale\"},{\"attributes\":{\"fill_alpha\":{\"value\":0.1},\"fill_color\":{\"field\":\"color\"},\"line_alpha\":{\"value\":0.1},\"line_color\":{\"field\":\"color\"},\"size\":{\"value\":5},\"x\":{\"field\":\"x\"},\"y\":{\"field\":\"y\"}},\"id\":\"1192\",\"type\":\"Circle\"},{\"attributes\":{\"data_source\":{\"id\":\"1156\"},\"glyph\":{\"id\":\"1191\"},\"hover_glyph\":null,\"muted_glyph\":null,\"nonselection_glyph\":{\"id\":\"1192\"},\"view\":{\"id\":\"1194\"}},\"id\":\"1193\",\"type\":\"GlyphRenderer\"},{\"attributes\":{\"overlay\":{\"id\":\"1222\"}},\"id\":\"1198\",\"type\":\"LassoSelectTool\"},{\"attributes\":{},\"id\":\"1214\",\"type\":\"Title\"},{\"attributes\":{},\"id\":\"1220\",\"type\":\"AllLabels\"},{\"attributes\":{\"axis\":{\"id\":\"1170\"},\"dimension\":1,\"ticker\":null,\"visible\":false},\"id\":\"1173\",\"type\":\"Grid\"},{\"attributes\":{\"callback\":null,\"tooltips\":\"\\n    <div>\\n        <div>\\n            <img\\n                src=\\\"@file\\\" height=\\\"128\\\" alt=\\\"@file\\\" width=\\\"128\\\"\\n                style=\\\"float: left; margin: 0px 15px 15px 0px;\\\"\\n                border=\\\"2\\\"\\n            ></img>\\n        </div>\\n        <div>\\n            <span style=\\\"font-size: 10px; font-weight: bold;\\\">@name</span>\\n            <span style=\\\"font-size: 10px; color: #966;\\\">[$index]</span>\\n        </div>\\n        <div>\\n            <span style=\\\"font-size: 9px; color: #966;\\\">@file</span>\\n        </div>\\n        <div>\\n            <span style=\\\"font-size: 9px; color: #966;\\\">Class: @class</span>\\n        </div>\\n        <div>\\n            <span style=\\\"font-size: 9px; color: #966;\\\">Probability: @probability</span>\\n        </div>\\n        <div>\\n            <span style=\\\"font-size: 9px; color: #966;\\\">Outlier: @outlier</span>\\n        </div>\\n    </div>\\n    \"},\"id\":\"1002\",\"type\":\"HoverTool\"},{\"attributes\":{},\"id\":\"1224\",\"type\":\"Selection\"},{\"attributes\":{},\"id\":\"1171\",\"type\":\"BasicTicker\"},{\"attributes\":{},\"id\":\"1175\",\"type\":\"WheelZoomTool\"},{\"attributes\":{\"fill_alpha\":{\"field\":\"alpha\"},\"fill_color\":{\"field\":\"color\"},\"line_alpha\":{\"field\":\"alpha\"},\"line_color\":{\"field\":\"color\"},\"size\":{\"value\":5},\"x\":{\"field\":\"x\"},\"y\":{\"field\":\"y\"}},\"id\":\"1191\",\"type\":\"Circle\"},{\"attributes\":{},\"id\":\"1164\",\"type\":\"LinearScale\"},{\"attributes\":{\"source\":{\"id\":\"1156\"}},\"id\":\"1194\",\"type\":\"CDSView\"},{\"attributes\":{\"bottom_units\":\"screen\",\"fill_alpha\":0.5,\"fill_color\":\"lightgrey\",\"left_units\":\"screen\",\"level\":\"overlay\",\"line_alpha\":1.0,\"line_color\":\"black\",\"line_dash\":[4,4],\"line_width\":2,\"right_units\":\"screen\",\"syncable\":false,\"top_units\":\"screen\"},\"id\":\"1180\",\"type\":\"BoxAnnotation\"},{\"attributes\":{\"fill_alpha\":0.5,\"fill_color\":\"lightgrey\",\"level\":\"overlay\",\"line_alpha\":1.0,\"line_color\":\"black\",\"line_dash\":[4,4],\"line_width\":2,\"syncable\":false,\"xs_units\":\"screen\",\"ys_units\":\"screen\"},\"id\":\"1222\",\"type\":\"PolyAnnotation\"},{\"attributes\":{},\"id\":\"1223\",\"type\":\"UnionRenderers\"},{\"attributes\":{},\"id\":\"1216\",\"type\":\"BasicTickFormatter\"},{\"attributes\":{},\"id\":\"1174\",\"type\":\"PanTool\"},{\"attributes\":{},\"id\":\"1179\",\"type\":\"HelpTool\"}],\"root_ids\":[\"1157\"]},\"title\":\"Bokeh Application\",\"version\":\"2.3.1\"}};\n",
       "  var render_items = [{\"docid\":\"dc70924b-d330-4b03-a595-d35620bd9262\",\"root_ids\":[\"1157\"],\"roots\":{\"1157\":\"a94dd5f2-5165-40c9-94da-e07b427f16a0\"}}];\n",
       "  root.Bokeh.embed.embed_items_notebook(docs_json, render_items);\n",
       "\n",
       "  }\n",
       "  if (root.Bokeh !== undefined) {\n",
       "    embed_document(root);\n",
       "  } else {\n",
       "    var attempts = 0;\n",
       "    var timer = setInterval(function(root) {\n",
       "      if (root.Bokeh !== undefined) {\n",
       "        clearInterval(timer);\n",
       "        embed_document(root);\n",
       "      } else {\n",
       "        attempts++;\n",
       "        if (attempts > 100) {\n",
       "          clearInterval(timer);\n",
       "          console.log(\"Bokeh: ERROR: Unable to run BokehJS code because BokehJS library is missing\");\n",
       "        }\n",
       "      }\n",
       "    }, 10, root)\n",
       "  }\n",
       "})(window);"
      ],
      "application/vnd.bokehjs_exec.v0+json": ""
     },
     "metadata": {
      "application/vnd.bokehjs_exec.v0+json": {
       "id": "1157"
      }
     },
     "output_type": "display_data"
    }
   ],
   "source": [
    "p = umap.plot.interactive(mapper, labels = cluster.labels_,hover_data = hover_data, point_size = 5, interactive_text_search = False)\n",
    "del p.tools[len(p.tools)-1]\n",
    "p.add_tools(hover)\n",
    "p.add_tools(LassoSelectTool())\n",
    "output_notebook()\n",
    "bokeh_show(p)"
   ]
  },
  {
   "cell_type": "markdown",
   "id": "2c824841",
   "metadata": {},
   "source": [
    "The front-end has been built using Vue.js. Therefore, the data must be consumable using a JS-friendly format. We can convert the Bokeh plot into a JSON blob, and visualise it using Bokeh.js. "
   ]
  },
  {
   "cell_type": "code",
   "execution_count": 16,
   "id": "c7241d8e",
   "metadata": {},
   "outputs": [
    {
     "data": {
      "text/plain": [
       "'{\"target_id\": null, \"root_id\": \"1157\", \"doc\": {\"defs\": [], \"roots\": {\"references\": [{\"attributes\": {\"background_fill_color\": \"white\", \"below\": [{\"id\":'"
      ]
     },
     "execution_count": 16,
     "metadata": {},
     "output_type": "execute_result"
    }
   ],
   "source": [
    "p_json = json.dumps(json_item(p))\n",
    "p_json[0:150]"
   ]
  },
  {
   "cell_type": "code",
   "execution_count": 17,
   "id": "b75658f8",
   "metadata": {},
   "outputs": [
    {
     "data": {
      "text/html": [
       "<div id=\"umap\"></div>"
      ],
      "text/plain": [
       "<IPython.core.display.HTML object>"
      ]
     },
     "metadata": {},
     "output_type": "display_data"
    },
    {
     "data": {
      "application/javascript": [
       "Bokeh.embed.embed_item({\"target_id\": null, \"root_id\": \"1157\", \"doc\": {\"defs\": [], \"roots\": {\"references\": [{\"attributes\": {\"background_fill_color\": \"white\", \"below\": [{\"id\": \"1166\"}], \"center\": [{\"id\": \"1169\"}, {\"id\": \"1173\"}], \"height\": 800, \"left\": [{\"id\": \"1170\"}], \"renderers\": [{\"id\": \"1193\"}], \"title\": {\"id\": \"1214\"}, \"toolbar\": {\"id\": \"1182\"}, \"width\": 800, \"x_range\": {\"id\": \"1158\"}, \"x_scale\": {\"id\": \"1162\"}, \"y_range\": {\"id\": \"1160\"}, \"y_scale\": {\"id\": \"1164\"}}, \"id\": \"1157\", \"subtype\": \"Figure\", \"type\": \"Plot\"}, {\"attributes\": {\"formatter\": {\"id\": \"1219\"}, \"major_label_policy\": {\"id\": \"1220\"}, \"ticker\": {\"id\": \"1171\"}, \"visible\": false}, \"id\": \"1170\", \"type\": \"LinearAxis\"}, {\"attributes\": {}, \"id\": \"1219\", \"type\": \"BasicTickFormatter\"}, {\"attributes\": {\"active_multi\": null, \"tools\": [{\"id\": \"1174\"}, {\"id\": \"1175\"}, {\"id\": \"1176\"}, {\"id\": \"1177\"}, {\"id\": \"1178\"}, {\"id\": \"1179\"}, {\"id\": \"1002\"}, {\"id\": \"1198\"}]}, \"id\": \"1182\", \"type\": \"Toolbar\"}, {\"attributes\": {}, \"id\": \"1158\", \"type\": \"DataRange1d\"}, {\"attributes\": {}, \"id\": \"1178\", \"type\": \"ResetTool\"}, {\"attributes\": {\"data\": {\"alpha\": [1, 1, 1, 1, 1, 1, 1, 1, 1, 1, 1, 1, 1, 1, 1, 1, 1, 1, 1, 1, 1, 1, 1, 1, 1, 1, 1, 1, 1, 1, 1, 1, 1, 1, 1, 1, 1, 1, 1, 1, 1, 1, 1, 1, 1, 1, 1, 1, 1, 1, 1, 1, 1, 1, 1, 1, 1, 1, 1, 1, 1, 1, 1, 1, 1, 1, 1, 1, 1, 1, 1, 1, 1, 1, 1, 1, 1, 1, 1, 1, 1, 1, 1, 1, 1, 1, 1, 1, 1, 1, 1, 1, 1, 1, 1, 1, 1, 1, 1, 1, 1, 1, 1, 1, 1, 1, 1, 1, 1, 1, 1, 1, 1, 1, 1, 1, 1, 1, 1, 1, 1, 1, 1, 1, 1, 1, 1, 1, 1, 1, 1, 1, 1, 1, 1, 1, 1, 1, 1, 1, 1, 1, 1, 1, 1, 1, 1, 1, 1, 1, 1, 1, 1, 1, 1, 1, 1, 1, 1, 1, 1, 1, 1, 1, 1, 1, 1, 1, 1, 1, 1, 1, 1, 1, 1, 1, 1, 1, 1, 1, 1, 1, 1, 1, 1, 1, 1, 1, 1, 1, 1, 1, 1, 1, 1, 1, 1, 1, 1, 1, 1, 1, 1, 1, 1, 1, 1, 1, 1, 1, 1, 1, 1, 1, 1, 1, 1, 1, 1, 1, 1, 1, 1, 1, 1, 1, 1, 1, 1, 1, 1, 1, 1, 1, 1, 1, 1, 1, 1, 1, 1, 1, 1, 1, 1, 1, 1, 1, 1, 1, 1, 1, 1, 1, 1, 1, 1, 1, 1, 1, 1, 1, 1, 1, 1, 1, 1, 1, 1, 1, 1, 1, 1, 1, 1, 1, 1, 1, 1, 1, 1, 1, 1, 1, 1, 1, 1, 1, 1, 1, 1, 1, 1, 1, 1, 1, 1, 1, 1, 1], \"class\": [-1, -1, -1, -1, -1, -1, -1, -1, -1, -1, -1, -1, -1, -1, -1, -1, -1, -1, -1, -1, -1, -1, 1, 1, -1, -1, -1, -1, -1, 0, 1, -1, -1, -1, -1, 1, -1, -1, 1, -1, -1, -1, 0, -1, -1, -1, -1, -1, -1, -1, -1, -1, -1, -1, -1, 1, -1, -1, -1, -1, -1, 1, -1, -1, -1, 1, -1, -1, -1, 1, -1, -1, -1, -1, -1, 1, -1, -1, -1, -1, -1, -1, -1, -1, -1, -1, 1, -1, -1, -1, -1, -1, -1, -1, 0, 1, -1, -1, -1, -1, -1, -1, -1, -1, -1, -1, -1, -1, -1, -1, -1, -1, -1, -1, 1, -1, -1, -1, -1, -1, -1, -1, -1, -1, 1, -1, -1, 1, -1, -1, -1, -1, -1, -1, -1, 0, -1, -1, -1, -1, -1, -1, -1, -1, 0, -1, -1, -1, -1, -1, -1, -1, -1, -1, -1, -1, -1, 0, 0, -1, -1, -1, -1, 1, -1, -1, -1, 1, 0, -1, -1, 1, -1, -1, -1, -1, -1, 1, -1, -1, -1, -1, -1, 1, 1, -1, -1, -1, -1, 1, 1, -1, -1, -1, -1, -1, -1, -1, 1, -1, -1, -1, -1, 1, -1, -1, -1, -1, -1, -1, 0, -1, 1, -1, -1, -1, 0, -1, -1, -1, 0, 0, -1, -1, -1, -1, -1, -1, -1, -1, -1, 0, -1, -1, -1, 0, -1, -1, -1, -1, -1, 1, -1, -1, -1, 1, -1, 0, -1, -1, -1, -1, -1, -1, -1, -1, 1, 0, -1, -1, -1, -1, 0, -1, -1, -1, -1, -1, -1, -1, -1, -1, -1, -1, -1, -1, -1, -1, -1, -1, -1, -1, -1, -1, -1, -1, -1, 1, -1, 1, -1, -1, -1, 1, 1, 1, -1, -1, -1, -1], \"color\": [\"#9e0142\", \"#9e0142\", \"#9e0142\", \"#9e0142\", \"#9e0142\", \"#9e0142\", \"#9e0142\", \"#9e0142\", \"#9e0142\", \"#9e0142\", \"#9e0142\", \"#9e0142\", \"#9e0142\", \"#9e0142\", \"#9e0142\", \"#9e0142\", \"#9e0142\", \"#9e0142\", \"#9e0142\", \"#9e0142\", \"#9e0142\", \"#9e0142\", \"#5e4fa2\", \"#5e4fa2\", \"#9e0142\", \"#9e0142\", \"#9e0142\", \"#9e0142\", \"#9e0142\", \"#ffffbe\", \"#5e4fa2\", \"#9e0142\", \"#9e0142\", \"#9e0142\", \"#9e0142\", \"#5e4fa2\", \"#9e0142\", \"#9e0142\", \"#5e4fa2\", \"#9e0142\", \"#9e0142\", \"#9e0142\", \"#ffffbe\", \"#9e0142\", \"#9e0142\", \"#9e0142\", \"#9e0142\", \"#9e0142\", \"#9e0142\", \"#9e0142\", \"#9e0142\", \"#9e0142\", \"#9e0142\", \"#9e0142\", \"#9e0142\", \"#5e4fa2\", \"#9e0142\", \"#9e0142\", \"#9e0142\", \"#9e0142\", \"#9e0142\", \"#5e4fa2\", \"#9e0142\", \"#9e0142\", \"#9e0142\", \"#5e4fa2\", \"#9e0142\", \"#9e0142\", \"#9e0142\", \"#5e4fa2\", \"#9e0142\", \"#9e0142\", \"#9e0142\", \"#9e0142\", \"#9e0142\", \"#5e4fa2\", \"#9e0142\", \"#9e0142\", \"#9e0142\", \"#9e0142\", \"#9e0142\", \"#9e0142\", \"#9e0142\", \"#9e0142\", \"#9e0142\", \"#9e0142\", \"#5e4fa2\", \"#9e0142\", \"#9e0142\", \"#9e0142\", \"#9e0142\", \"#9e0142\", \"#9e0142\", \"#9e0142\", \"#ffffbe\", \"#5e4fa2\", \"#9e0142\", \"#9e0142\", \"#9e0142\", \"#9e0142\", \"#9e0142\", \"#9e0142\", \"#9e0142\", \"#9e0142\", \"#9e0142\", \"#9e0142\", \"#9e0142\", \"#9e0142\", \"#9e0142\", \"#9e0142\", \"#9e0142\", \"#9e0142\", \"#9e0142\", \"#9e0142\", \"#5e4fa2\", \"#9e0142\", \"#9e0142\", \"#9e0142\", \"#9e0142\", \"#9e0142\", \"#9e0142\", \"#9e0142\", \"#9e0142\", \"#9e0142\", \"#5e4fa2\", \"#9e0142\", \"#9e0142\", \"#5e4fa2\", \"#9e0142\", \"#9e0142\", \"#9e0142\", \"#9e0142\", \"#9e0142\", \"#9e0142\", \"#9e0142\", \"#ffffbe\", \"#9e0142\", \"#9e0142\", \"#9e0142\", \"#9e0142\", \"#9e0142\", \"#9e0142\", \"#9e0142\", \"#9e0142\", \"#ffffbe\", \"#9e0142\", \"#9e0142\", \"#9e0142\", \"#9e0142\", \"#9e0142\", \"#9e0142\", \"#9e0142\", \"#9e0142\", \"#9e0142\", \"#9e0142\", \"#9e0142\", \"#9e0142\", \"#ffffbe\", \"#ffffbe\", \"#9e0142\", \"#9e0142\", \"#9e0142\", \"#9e0142\", \"#5e4fa2\", \"#9e0142\", \"#9e0142\", \"#9e0142\", \"#5e4fa2\", \"#ffffbe\", \"#9e0142\", \"#9e0142\", \"#5e4fa2\", \"#9e0142\", \"#9e0142\", \"#9e0142\", \"#9e0142\", \"#9e0142\", \"#5e4fa2\", \"#9e0142\", \"#9e0142\", \"#9e0142\", \"#9e0142\", \"#9e0142\", \"#5e4fa2\", \"#5e4fa2\", \"#9e0142\", \"#9e0142\", \"#9e0142\", \"#9e0142\", \"#5e4fa2\", \"#5e4fa2\", \"#9e0142\", \"#9e0142\", \"#9e0142\", \"#9e0142\", \"#9e0142\", \"#9e0142\", \"#9e0142\", \"#5e4fa2\", \"#9e0142\", \"#9e0142\", \"#9e0142\", \"#9e0142\", \"#5e4fa2\", \"#9e0142\", \"#9e0142\", \"#9e0142\", \"#9e0142\", \"#9e0142\", \"#9e0142\", \"#ffffbe\", \"#9e0142\", \"#5e4fa2\", \"#9e0142\", \"#9e0142\", \"#9e0142\", \"#ffffbe\", \"#9e0142\", \"#9e0142\", \"#9e0142\", \"#ffffbe\", \"#ffffbe\", \"#9e0142\", \"#9e0142\", \"#9e0142\", \"#9e0142\", \"#9e0142\", \"#9e0142\", \"#9e0142\", \"#9e0142\", \"#9e0142\", \"#ffffbe\", \"#9e0142\", \"#9e0142\", \"#9e0142\", \"#ffffbe\", \"#9e0142\", \"#9e0142\", \"#9e0142\", \"#9e0142\", \"#9e0142\", \"#5e4fa2\", \"#9e0142\", \"#9e0142\", \"#9e0142\", \"#5e4fa2\", \"#9e0142\", \"#ffffbe\", \"#9e0142\", \"#9e0142\", \"#9e0142\", \"#9e0142\", \"#9e0142\", \"#9e0142\", \"#9e0142\", \"#9e0142\", \"#5e4fa2\", \"#ffffbe\", \"#9e0142\", \"#9e0142\", \"#9e0142\", \"#9e0142\", \"#ffffbe\", \"#9e0142\", \"#9e0142\", \"#9e0142\", \"#9e0142\", \"#9e0142\", \"#9e0142\", \"#9e0142\", \"#9e0142\", \"#9e0142\", \"#9e0142\", \"#9e0142\", \"#9e0142\", \"#9e0142\", \"#9e0142\", \"#9e0142\", \"#9e0142\", \"#9e0142\", \"#9e0142\", \"#9e0142\", \"#9e0142\", \"#9e0142\", \"#9e0142\", \"#9e0142\", \"#9e0142\", \"#5e4fa2\", \"#9e0142\", \"#5e4fa2\", \"#9e0142\", \"#9e0142\", \"#9e0142\", \"#5e4fa2\", \"#5e4fa2\", \"#5e4fa2\", \"#9e0142\", \"#9e0142\", \"#9e0142\", \"#9e0142\"], \"file\": [\"../images/final_to_match/HG_161020_047_AM_N9.JPG\", \"../images/final_to_match/HG_161020_052_AM_P5.JPG\", \"../images/final_to_match/HG_161020_062_AM_N8.JPG\", \"../images/final_to_match/HG_161020_071_AM_N7.JPG\", \"../images/final_to_match/HG_161023_220_AM_N1.JPG\", \"../images/final_to_match/HG_161023_222_AM_N2.JPG\", \"../images/final_to_match/HG_161023_224_AM_N4.JPG\", \"../images/final_to_match/HG_161023_246_AM_P8.JPG\", \"../images/final_to_match/HG_161023_250_AM_N5.JPG\", \"../images/final_to_match/HG_161023_257_AM_P1.JPG\", \"../images/final_to_match/HG_161023_261_AM_P2.JPG\", \"../images/final_to_match/HG_161023_270_AM_P3.JPG\", \"../images/final_to_match/HG_161023_276_AM_P4.JPG\", \"../images/final_to_match/HG_161023_280_AM_N3.JPG\", \"../images/final_to_match/HG_161023_284_AM_P10.JPG\", \"../images/final_to_match/HG_161023_297_AM_N8.JPG\", \"../images/final_to_match/HG_161023_298_AM_P5.JPG\", \"../images/final_to_match/HG_161023_300_AM_A_N7.JPG\", \"../images/final_to_match/HG_161023_302_AM_N13.JPG\", \"../images/final_to_match/HG_161023_310_AM_N9.JPG\", \"../images/final_to_match/HG_161023_341_AM_N10.JPG\", \"../images/final_to_match/HG_161023_347_AM_A_P6.JPG\", \"../images/final_to_match/HG_161023_348_AM_B_N11.JPG\", \"../images/final_to_match/HG_161023_351_AM_P9.JPG\", \"../images/final_to_match/HG_161023_464_DE_N6.JPG\", \"../images/final_to_match/HG_161023_465_DE_N12.JPG\", \"../images/final_to_match/HG_161023_490_DE_P7.JPG\", \"../images/final_to_match/HG_161031_006_AM_N1.JPG\", \"../images/final_to_match/HG_161031_009_AM_P1.JPG\", \"../images/final_to_match/HG_161031_010_AM_P2.JPG\", \"../images/final_to_match/HG_161031_016_AM_N2.JPG\", \"../images/final_to_match/HG_161101_035_AM_N1.JPG\", \"../images/final_to_match/HG_161101_085_AM_P1.JPG\", \"../images/final_to_match/HG_161101_150_AM_N2.JPG\", \"../images/final_to_match/HG_161101_153_AM_N3.JPG\", \"../images/final_to_match/HG_161101_158_AM_N4.JPG\", \"../images/final_to_match/HG_161101_196_AM_N5.JPG\", \"../images/final_to_match/HG_161105_003_AM_B_N1.JPG\", \"../images/final_to_match/HG_161105_009_AM_N5.JPG\", \"../images/final_to_match/HG_161105_013_AM_N3.JPG\", \"../images/final_to_match/HG_161105_015_AM_N2.JPG\", \"../images/final_to_match/HG_161105_020_AM_N4.JPG\", \"../images/final_to_match/HG_161105_028_AM_N6.JPG\", \"../images/final_to_match/HG_161109_064_AM_B_N1.JPG\", \"../images/final_to_match/HG_161109_067_AM_N2.JPG\", \"../images/final_to_match/HG_161109_072_AM_B_N3.JPG\", \"../images/final_to_match/HG_161019_006_AM_N12.JPG\", \"../images/final_to_match/HG_161019_008_AM_N5.JPG\", \"../images/final_to_match/HG_161019_011_AM_N6.JPG\", \"../images/final_to_match/HG_161019_014_AM_N8.JPG\", \"../images/final_to_match/HG_161019_024_AM_N1.JPG\", \"../images/final_to_match/HG_161019_026_AM_N4.JPG\", \"../images/final_to_match/HG_161019_032_AM_P12.JPG\", \"../images/final_to_match/HG_161019_034_AM_N2.JPG\", \"../images/final_to_match/HG_161019_036_AM_P3.JPG\", \"../images/final_to_match/HG_161019_046_DE_N25.JPG\", \"../images/final_to_match/HG_161019_054_AM_N7.JPG\", \"../images/final_to_match/HG_161019_061_AM_B_P4.JPG\", \"../images/final_to_match/HG_161019_061_AM_D_N9.JPG\", \"../images/final_to_match/HG_161019_074_AM_P1.JPG\", \"../images/final_to_match/HG_161019_085_AM_N3.JPG\", \"../images/final_to_match/HG_161019_086_AM_N20.JPG\", \"../images/final_to_match/HG_161019_097_AM_N10.JPG\", \"../images/final_to_match/HG_161019_100_AM_N11.JPG\", \"../images/final_to_match/HG_161019_104_AM_P8.JPG\", \"../images/final_to_match/HG_161019_112_AM_P19.JPG\", \"../images/final_to_match/HG_161019_118_AM_A_P9.JPG\", \"../images/final_to_match/HG_161019_125_AM_P6.JPG\", \"../images/final_to_match/HG_161019_129_AM_P13.JPG\", \"../images/final_to_match/HG_161019_134_AM_P16.JPG\", \"../images/final_to_match/HG_161019_145_AM_N27.JPG\", \"../images/final_to_match/HG_161019_148_AM_P2.JPG\", \"../images/final_to_match/HG_161019_161_AM_P14.JPG\", \"../images/final_to_match/HG_161019_165_AM_P5.JPG\", \"../images/final_to_match/HG_161019_174_AM_P18.JPG\", \"../images/final_to_match/HG_161019_184_AM_N14.JPG\", \"../images/final_to_match/HG_161019_185_AM_N23.JPG\", \"../images/final_to_match/HG_161019_189_AM_P7.JPG\", \"../images/final_to_match/HG_161019_192_AM_P17.JPG\", \"../images/final_to_match/HG_161019_200_AM_P10.JPG\", \"../images/final_to_match/HG_161019_202_AM_N13.JPG\", \"../images/final_to_match/HG_161019_210_AM_N17.JPG\", \"../images/final_to_match/HG_161019_219_AM_N16.JPG\", \"../images/final_to_match/HG_161019_221_AM_N18.JPG\", \"../images/final_to_match/HG_161019_225_AM_A_N21.JPG\", \"../images/final_to_match/HG_161019_229_AM_N24.JPG\", \"../images/final_to_match/HG_161019_249_AM_P11.JPG\", \"../images/final_to_match/HG_161019_265_AM_N22.JPG\", \"../images/final_to_match/HG_161019_268_AM_N15.JPG\", \"../images/final_to_match/HG_161019_274_AM_P15.JPG\", \"../images/final_to_match/HG_161019_283_AM_N26.JPG\", \"../images/final_to_match/HG_161020_003_AM_N1.JPG\", \"../images/final_to_match/HG_161020_006_AM_P2.JPG\", \"../images/final_to_match/HG_161020_009_AM_N2.JPG\", \"../images/final_to_match/HG_161020_012_AM_N3.JPG\", \"../images/final_to_match/HG_161020_016_AM_N4.JPG\", \"../images/final_to_match/HG_161020_024_AM_N5.JPG\", \"../images/final_to_match/HG_161020_034_AM_P1.JPG\", \"../images/final_to_match/HG_161020_036_AM_P4.JPG\", \"../images/final_to_match/HG_161020_042_AM_N6.JPG\", \"../images/final_to_match/HG_161010_005_AM_P2.jpg\", \"../images/final_to_match/HG_161010_013_AM_N1.jpg\", \"../images/final_to_match/HG_161010_021_AM_N2.jpg\", \"../images/final_to_match/HG_161010_024_AM_N3.jpg\", \"../images/final_to_match/HG_161010_037_AM_N4.JPG\", \"../images/final_to_match/HG_161010_043_AM_N5.jpg\", \"../images/final_to_match/HG_161010_051_AM_N6.JPG\", \"../images/final_to_match/HG_161010_057_AM_N7.JPG\", \"../images/final_to_match/HG_161010_061_AM_N8.jpg\", \"../images/final_to_match/HG_161010_089_AM_N10.jpg\", \"../images/final_to_match/HG_161010_093_AM_N9.JPG\", \"../images/final_to_match/HG_161010_096_AM_N11.JPG\", \"../images/final_to_match/HG_161010_100_DE_N12.JPG\", \"../images/final_to_match/HG_161010_102_AM_N13.jpg\", \"../images/final_to_match/HG_161010_106_AM_N14.jpg\", \"../images/final_to_match/HG_161018_125_AM_N5.JPG\", \"../images/final_to_match/HG_161018_131_AM_P5.JPG\", \"../images/final_to_match/HG_161018_145_DE_P16.JPG\", \"../images/final_to_match/HG_161018_148_AM_N11.JPG\", \"../images/final_to_match/HG_161018_148_DE_N18.JPG\", \"../images/final_to_match/HG_161018_151_AM_N8.JPG\", \"../images/final_to_match/HG_161018_153_AM_P17.JPG\", \"../images/final_to_match/HG_161018_166_AM_N14.JPG\", \"../images/final_to_match/HG_161018_171_AM_N7.JPG\", \"../images/final_to_match/HG_161018_174_AM_N13.JPG\", \"../images/final_to_match/HG_161018_177_AM_P3.JPG\", \"../images/final_to_match/HG_161018_180_AM_N12.JPG\", \"../images/final_to_match/HG_161018_185_AM_N15.JPG\", \"../images/final_to_match/HG_161018_193_AM_N9.JPG\", \"../images/final_to_match/HG_161018_195_AM_P7.JPG\", \"../images/final_to_match/HG_161018_205_AM_P4.JPG\", \"../images/final_to_match/HG_161018_213_AM_N16.JPG\", \"../images/final_to_match/HG_161018_214_AM_P6.JPG\", \"../images/final_to_match/HG_161018_218_AM_N19.JPG\", \"../images/final_to_match/HG_161018_219_AM_P13.JPG\", \"../images/final_to_match/HG_161018_223_AM_N21.JPG\", \"../images/final_to_match/HG_161018_236_AM_N2.JPG\", \"../images/final_to_match/HG_161018_238_AM_N10.JPG\", \"../images/final_to_match/HG_161018_240_AM_P15.JPG\", \"../images/final_to_match/HG_161018_243_AM_N6.JPG\", \"../images/final_to_match/HG_161018_245_AM_N20.JPG\", \"../images/final_to_match/HG_161018_252_AM_P14.JPG\", \"../images/final_to_match/HG_161018_253_AM_P10.JPG\", \"../images/final_to_match/HG_161018_255_AM_P12.JPG\", \"../images/final_to_match/HG_161018_256_AM_P11.JPG\", \"../images/final_to_match/HG_161018_260_AM_A_N17.JPG\", \"../images/final_to_match/HG_161018_264_AM_P1.JPG\", \"../images/final_to_match/HG_161018_266_AM_N1.JPG\", \"../images/final_to_match/HG_161018_273_AM_P2.JPG\", \"../images/final_to_match/HG_161018_275_AM_N3.JPG\", \"../images/final_to_match/HG_161018_282_AM_N4.JPG\", \"../images/final_to_match/HG_161018_332_DE_P8.JPG\", \"../images/final_to_match/HG_161018_334_DE_P9.JPG\", \"../images/final_to_match/HG_161019_001_AM_N19.JPG\", \"../images/final_to_match/HG_160916_042_AM_N3.JPG\", \"../images/final_to_match/HG_160916_043_AM_N2.JPG\", \"../images/final_to_match/HG_160919_006_DE_N1.JPG\", \"../images/final_to_match/HG_160919_012_AM_P1.JPG\", \"../images/final_to_match/HG_160919_017_AM_N2.jpg\", \"../images/final_to_match/HG_160919_021_AM_P2.JPG\", \"../images/final_to_match/HG_160919_028_AM_N4.jpg\", \"../images/final_to_match/HG_160919_048_AM_N3.JPG\", \"../images/final_to_match/HG_160923_0001_AM_N1.JPG\", \"../images/final_to_match/HG_160923_0007_AM_N3.JPG\", \"../images/final_to_match/HG_160923_0009_AM_N4.JPG\", \"../images/final_to_match/HG_160923_0013_AM_N2.JPG\", \"../images/final_to_match/HG_160923_0016_AM_N7.JPG\", \"../images/final_to_match/HG_160923_0020_DE_N5.JPG\", \"../images/final_to_match/HG_160923_0021_AM_N6.JPG\", \"../images/final_to_match/HG_160923_0023_AM_N8.JPG\", \"../images/final_to_match/HG_160926_0040_DE_N1.jpg\", \"../images/final_to_match/HG_160926_0055_DE_N2.JPG\", \"../images/final_to_match/HG_160927_0058_AM_N1.JPG\", \"../images/final_to_match/HG_160927_0061_AM_N2.JPG\", \"../images/final_to_match/HG_160927_0071_AM_N3.JPG\", \"../images/final_to_match/HG_160927_0072_AM_P1.JPG\", \"../images/final_to_match/HG_160927_0074_AM_N12.JPG\", \"../images/final_to_match/HG_160927_0078_AM_N4.JPG\", \"../images/final_to_match/HG_160927_0084_AM_P2.JPG\", \"../images/final_to_match/HG_160927_0097_AM_N5.JPG\", \"../images/final_to_match/HG_160927_0117_AM_N6.JPG\", \"../images/final_to_match/HG_160927_0130_AM_N7.JPG\", \"../images/final_to_match/HG_160927_0133_AM_N13.JPG\", \"../images/final_to_match/HG_160927_0136_AM_N9.jpg\", \"../images/final_to_match/HG_160927_0138_AM_N8.JPG\", \"../images/final_to_match/HG_160927_0159_AM_N11.JPG\", \"../images/final_to_match/HG_160927_0198_AM_N10.JPG\", \"../images/final_to_match/HG_160928_0010_AM_N2.JPG\", \"../images/final_to_match/HG_160928_0036_AM_N1.JPG\", \"../images/final_to_match/HG_161001_040_DE_P1.JPG\", \"../images/final_to_match/HG_161004_161_DE_N1.JPG\", \"../images/final_to_match/HG_161004_184_DE_P2.JPG\", \"../images/final_to_match/HG_161004_189_DE_P1.JPG\", \"../images/final_to_match/HG_161004_190_DE_N2.JPG\", \"../images/final_to_match/HG_161008_002_DE_N6.jpg\", \"../images/final_to_match/HG_161008_004_DE_B_P2.JPG\", \"../images/final_to_match/HG_161008_008_DE_P3.JPG\", \"../images/final_to_match/HG_161008_102_DE_B_P5.jpg\", \"../images/final_to_match/HG_161008_117_DE_A_N1.jpg\", \"../images/final_to_match/HG_161008_117_DE_B_N7.jpg\", \"../images/final_to_match/HG_161008_131_DE_P4.jpg\", \"../images/final_to_match/HG_161008_234_DE_N8.jpg\", \"../images/final_to_match/HG_161008_241_DE_N2.jpg\", \"../images/final_to_match/HG_161008_289_DE_N4.JPG\", \"../images/final_to_match/HG_161008_290_DE_N3.jpg\", \"../images/final_to_match/HG_161008_292_DE_P1.jpg\", \"../images/final_to_match/HG_161008_349_DE_N5.JPG\", \"../images/final_to_match/HG_161010_001_AM_P1.JPG\", \"../images/final_to_match/HG_160902_292_AM_N4.jpg\", \"../images/final_to_match/HG_160902_327_AM_N6.jpg\", \"../images/final_to_match/HG_160902_330_AM_N7.jpg\", \"../images/final_to_match/HG_160902_333_AM_N3.jpg\", \"../images/final_to_match/HG_160902_348_AM_B_N8.jpg\", \"../images/final_to_match/HG_160902_348_AM_C_N5.jpg\", \"../images/final_to_match/HG_160912_036_AM_N1.JPG\", \"../images/final_to_match/HG_160912_051_AM_N6.JPG\", \"../images/final_to_match/HG_160912_061_AM_N12.JPG\", \"../images/final_to_match/HG_160912_071_AM_P2.JPG\", \"../images/final_to_match/HG_160912_073_AM_N2.JPG\", \"../images/final_to_match/HG_160912_076_AM_N9.JPG\", \"../images/final_to_match/HG_160912_084_AM_N10.JPG\", \"../images/final_to_match/HG_160912_093_AM_N11.JPG\", \"../images/final_to_match/HG_160912_102_AM_P5.JPG\", \"../images/final_to_match/HG_160912_136_DE_N8.jpg\", \"../images/final_to_match/HG_160912_143_AM_P1.JPG\", \"../images/final_to_match/HG_160912_151_AM_P3.JPG\", \"../images/final_to_match/HG_160912_166_AM_N7.JPG\", \"../images/final_to_match/HG_160912_167_AM_N3.JPG\", \"../images/final_to_match/HG_160912_178_AM_N4.JPG\", \"../images/final_to_match/HG_160912_235_DE_N14.JPG\", \"../images/final_to_match/HG_160912_259_DE_P4.JPG\", \"../images/final_to_match/HG_160912_288_DE_N13.JPG\", \"../images/final_to_match/HG_160912_292_DE_N5.JPG\", \"../images/final_to_match/HG_160913_013_AM_N1.JPG\", \"../images/final_to_match/HG_160913_086_AM_B_N2.jpg\", \"../images/final_to_match/HG_160913_093_AM_N3.JPG\", \"../images/final_to_match/HG_160913_099_AM_N6.JPG\", \"../images/final_to_match/HG_160913_101_AM_N7.JPG\", \"../images/final_to_match/HG_160913_106_AM_B_P4.jpg\", \"../images/final_to_match/HG_160913_108_AM_P8.JPG\", \"../images/final_to_match/HG_160913_109_AM_B_P5.jpg\", \"../images/final_to_match/HG_160913_112_AM_P2.JPG\", \"../images/final_to_match/HG_160913_115_AM_P3.JPG\", \"../images/final_to_match/HG_160913_118_AM_P6.JPG\", \"../images/final_to_match/HG_160913_125_AM_P1.JPG\", \"../images/final_to_match/HG_160913_139_AM_N5.JPG\", \"../images/final_to_match/HG_160913_153_DE_N4.JPG\", \"../images/final_to_match/HG_160913_155_DE_P7.JPG\", \"../images/final_to_match/HG_160914_007_AM_N9.jpg\", \"../images/final_to_match/HG_160914_010_AM_N1.jpg\", \"../images/final_to_match/HG_160914_012_AM_N2.jpg\", \"../images/final_to_match/HG_160914_019_AM_N6.jpg\", \"../images/final_to_match/HG_160914_167_DE_N8.jpg\", \"../images/final_to_match/HG_160914_212_AM_N3.jpg\", \"../images/final_to_match/HG_160914_215_AM_N7.jpg\", \"../images/final_to_match/HG_160914_225_AM_N5.jpg\", \"../images/final_to_match/HG_160914_227_AM_N4.jpg\", \"../images/final_to_match/HG_160916_018_AM_P2.jpg\", \"../images/final_to_match/HG_160916_020_AM_N1.JPG\", \"../images/final_to_match/HG_160916_023_AM_P1.JPG\", \"../images/final_to_match/HG_160916_025_AM_P4.JPG\", \"../images/final_to_match/HG_160916_036_AM_A_P3.JPG\", \"../images/final_to_match/HG_160725_040_DE_P3.JPG\", \"../images/final_to_match/HG_160725_048_DE_P2.JPG\", \"../images/final_to_match/HG_160725_151_DE_N1.JPG\", \"../images/final_to_match/HG_160801_063_DE_P1.jpg\", \"../images/final_to_match/HG_160801_104_DE_P4.jpg\", \"../images/final_to_match/HG_160801_113_DE_N1.JPG\", \"../images/final_to_match/HG_160801_114_DE_P3.JPG\", \"../images/final_to_match/HG_160801_116_DE_P5.jpg\", \"../images/final_to_match/HG_160801_176_DE_P2.JPG\", \"../images/final_to_match/HG_160802_018_DE_N1.JPG\", \"../images/final_to_match/HG_160802_059_DE_P1.JPG\", \"../images/final_to_match/HG_160802_066_DE_P2.JPG\", \"../images/final_to_match/HG_160802_073_DE_N4.JPG\", \"../images/final_to_match/HG_160802_125_DE_N3.JPG\", \"../images/final_to_match/HG_160802_142_DE_N2.JPG\", \"../images/final_to_match/HG_160803_017_DE_P1.JPG\", \"../images/final_to_match/HG_160803_040_DE_A_N1.jpg\", \"../images/final_to_match/HG_160804_018_DE_N1.JPG\", \"../images/final_to_match/HG_160804_047_DE_N2.JPG\", \"../images/final_to_match/HG_160812_021_DE_N1.jpg\", \"../images/final_to_match/HG_160813_039_DE_P1.JPG\", \"../images/final_to_match/HG_160814_051_DE_N1.jpg\", \"../images/final_to_match/HG_160815_157_DE_N2.JPG\", \"../images/final_to_match/HG_160815_173_DE_N1.JPG\", \"../images/final_to_match/HG_160816_003_DE_N1.JPG\", \"../images/final_to_match/HG_160816_005_DE_N2.JPG\", \"../images/final_to_match/HG_160816_024_DE_P2.JPG\", \"../images/final_to_match/HG_160816_025_DE_P1.JPG\", \"../images/final_to_match/HG_160817_224_DE_N1.jpg\", \"../images/final_to_match/HG_160818_004_DE_N1.jpg\", \"../images/final_to_match/HG_160821_045_DE_N1.JPG\", \"../images/final_to_match/HG_160822_082_DE_N1.JPG\", \"../images/final_to_match/HG_160823_098_DE_N1.JPG\", \"../images/final_to_match/HG_160823_102_DE_N2.JPG\", \"../images/final_to_match/HG_160823_106_DE_P1.JPG\", \"../images/final_to_match/HG_160823_115_DE_N3.JPG\", \"../images/final_to_match/HG_160823_117_DE_N4.JPG\", \"../images/final_to_match/HG_160824_012_DE_N1.JPG\"], \"index\": [0, 1, 2, 3, 4, 5, 6, 7, 8, 9, 10, 11, 12, 13, 14, 15, 16, 17, 18, 19, 20, 21, 22, 23, 24, 25, 26, 27, 28, 29, 30, 31, 32, 33, 34, 35, 36, 37, 38, 39, 40, 41, 42, 43, 44, 45, 46, 47, 48, 49, 50, 51, 52, 53, 54, 55, 56, 57, 58, 59, 60, 61, 62, 63, 64, 65, 66, 67, 68, 69, 70, 71, 72, 73, 74, 75, 76, 77, 78, 79, 80, 81, 82, 83, 84, 85, 86, 87, 88, 89, 90, 91, 92, 93, 94, 95, 96, 97, 98, 99, 100, 101, 102, 103, 104, 105, 106, 107, 108, 109, 110, 111, 112, 113, 114, 115, 116, 117, 118, 119, 120, 121, 122, 123, 124, 125, 126, 127, 128, 129, 130, 131, 132, 133, 134, 135, 136, 137, 138, 139, 140, 141, 142, 143, 144, 145, 146, 147, 148, 149, 150, 151, 152, 153, 154, 155, 156, 157, 158, 159, 160, 161, 162, 163, 164, 165, 166, 167, 168, 169, 170, 171, 172, 173, 174, 175, 176, 177, 178, 179, 180, 181, 182, 183, 184, 185, 186, 187, 188, 189, 190, 191, 192, 193, 194, 195, 196, 197, 198, 199, 200, 201, 202, 203, 204, 205, 206, 207, 208, 209, 210, 211, 212, 213, 214, 215, 216, 217, 218, 219, 220, 221, 222, 223, 224, 225, 226, 227, 228, 229, 230, 231, 232, 233, 234, 235, 236, 237, 238, 239, 240, 241, 242, 243, 244, 245, 246, 247, 248, 249, 250, 251, 252, 253, 254, 255, 256, 257, 258, 259, 260, 261, 262, 263, 264, 265, 266, 267, 268, 269, 270, 271, 272, 273, 274, 275, 276, 277, 278, 279, 280, 281, 282, 283, 284, 285, 286, 287, 288, 289, 290, 291, 292, 293, 294, 295, 296, 297, 298, 299], \"label\": [-1, -1, -1, -1, -1, -1, -1, -1, -1, -1, -1, -1, -1, -1, -1, -1, -1, -1, -1, -1, -1, -1, 1, 1, -1, -1, -1, -1, -1, 0, 1, -1, -1, -1, -1, 1, -1, -1, 1, -1, -1, -1, 0, -1, -1, -1, -1, -1, -1, -1, -1, -1, -1, -1, -1, 1, -1, -1, -1, -1, -1, 1, -1, -1, -1, 1, -1, -1, -1, 1, -1, -1, -1, -1, -1, 1, -1, -1, -1, -1, -1, -1, -1, -1, -1, -1, 1, -1, -1, -1, -1, -1, -1, -1, 0, 1, -1, -1, -1, -1, -1, -1, -1, -1, -1, -1, -1, -1, -1, -1, -1, -1, -1, -1, 1, -1, -1, -1, -1, -1, -1, -1, -1, -1, 1, -1, -1, 1, -1, -1, -1, -1, -1, -1, -1, 0, -1, -1, -1, -1, -1, -1, -1, -1, 0, -1, -1, -1, -1, -1, -1, -1, -1, -1, -1, -1, -1, 0, 0, -1, -1, -1, -1, 1, -1, -1, -1, 1, 0, -1, -1, 1, -1, -1, -1, -1, -1, 1, -1, -1, -1, -1, -1, 1, 1, -1, -1, -1, -1, 1, 1, -1, -1, -1, -1, -1, -1, -1, 1, -1, -1, -1, -1, 1, -1, -1, -1, -1, -1, -1, 0, -1, 1, -1, -1, -1, 0, -1, -1, -1, 0, 0, -1, -1, -1, -1, -1, -1, -1, -1, -1, 0, -1, -1, -1, 0, -1, -1, -1, -1, -1, 1, -1, -1, -1, 1, -1, 0, -1, -1, -1, -1, -1, -1, -1, -1, 1, 0, -1, -1, -1, -1, 0, -1, -1, -1, -1, -1, -1, -1, -1, -1, -1, -1, -1, -1, -1, -1, -1, -1, -1, -1, -1, -1, -1, -1, -1, 1, -1, 1, -1, -1, -1, 1, 1, 1, -1, -1, -1, -1], \"level_0\": [0, 1, 2, 3, 4, 5, 6, 7, 8, 9, 10, 11, 12, 13, 14, 15, 16, 17, 18, 19, 20, 21, 22, 23, 24, 25, 26, 27, 28, 29, 30, 31, 32, 33, 34, 35, 36, 37, 38, 39, 40, 41, 42, 43, 44, 45, 46, 47, 48, 49, 50, 51, 52, 53, 54, 55, 56, 57, 58, 59, 60, 61, 62, 63, 64, 65, 66, 67, 68, 69, 70, 71, 72, 73, 74, 75, 76, 77, 78, 79, 80, 81, 82, 83, 84, 85, 86, 87, 88, 89, 90, 91, 92, 93, 94, 95, 96, 97, 98, 99, 100, 101, 102, 103, 104, 105, 106, 107, 108, 109, 110, 111, 112, 113, 114, 115, 116, 117, 118, 119, 120, 121, 122, 123, 124, 125, 126, 127, 128, 129, 130, 131, 132, 133, 134, 135, 136, 137, 138, 139, 140, 141, 142, 143, 144, 145, 146, 147, 148, 149, 150, 151, 152, 153, 154, 155, 156, 157, 158, 159, 160, 161, 162, 163, 164, 165, 166, 167, 168, 169, 170, 171, 172, 173, 174, 175, 176, 177, 178, 179, 180, 181, 182, 183, 184, 185, 186, 187, 188, 189, 190, 191, 192, 193, 194, 195, 196, 197, 198, 199, 200, 201, 202, 203, 204, 205, 206, 207, 208, 209, 210, 211, 212, 213, 214, 215, 216, 217, 218, 219, 220, 221, 222, 223, 224, 225, 226, 227, 228, 229, 230, 231, 232, 233, 234, 235, 236, 237, 238, 239, 240, 241, 242, 243, 244, 245, 246, 247, 248, 249, 250, 251, 252, 253, 254, 255, 256, 257, 258, 259, 260, 261, 262, 263, 264, 265, 266, 267, 268, 269, 270, 271, 272, 273, 274, 275, 276, 277, 278, 279, 280, 281, 282, 283, 284, 285, 286, 287, 288, 289, 290, 291, 292, 293, 294, 295, 296, 297, 298, 299], \"name\": [\"HG_161020_047_AM_N9\", \"HG_161020_052_AM_P5\", \"HG_161020_062_AM_N8\", \"HG_161020_071_AM_N7\", \"HG_161023_220_AM_N1\", \"HG_161023_222_AM_N2\", \"HG_161023_224_AM_N4\", \"HG_161023_246_AM_P8\", \"HG_161023_250_AM_N5\", \"HG_161023_257_AM_P1\", \"HG_161023_261_AM_P2\", \"HG_161023_270_AM_P3\", \"HG_161023_276_AM_P4\", \"HG_161023_280_AM_N3\", \"HG_161023_284_AM_P10\", \"HG_161023_297_AM_N8\", \"HG_161023_298_AM_P5\", \"HG_161023_300_AM_A_N7\", \"HG_161023_302_AM_N13\", \"HG_161023_310_AM_N9\", \"HG_161023_341_AM_N10\", \"HG_161023_347_AM_A_P6\", \"HG_161023_348_AM_B_N11\", \"HG_161023_351_AM_P9\", \"HG_161023_464_DE_N6\", \"HG_161023_465_DE_N12\", \"HG_161023_490_DE_P7\", \"HG_161031_006_AM_N1\", \"HG_161031_009_AM_P1\", \"HG_161031_010_AM_P2\", \"HG_161031_016_AM_N2\", \"HG_161101_035_AM_N1\", \"HG_161101_085_AM_P1\", \"HG_161101_150_AM_N2\", \"HG_161101_153_AM_N3\", \"HG_161101_158_AM_N4\", \"HG_161101_196_AM_N5\", \"HG_161105_003_AM_B_N1\", \"HG_161105_009_AM_N5\", \"HG_161105_013_AM_N3\", \"HG_161105_015_AM_N2\", \"HG_161105_020_AM_N4\", \"HG_161105_028_AM_N6\", \"HG_161109_064_AM_B_N1\", \"HG_161109_067_AM_N2\", \"HG_161109_072_AM_B_N3\", \"HG_161019_006_AM_N12\", \"HG_161019_008_AM_N5\", \"HG_161019_011_AM_N6\", \"HG_161019_014_AM_N8\", \"HG_161019_024_AM_N1\", \"HG_161019_026_AM_N4\", \"HG_161019_032_AM_P12\", \"HG_161019_034_AM_N2\", \"HG_161019_036_AM_P3\", \"HG_161019_046_DE_N25\", \"HG_161019_054_AM_N7\", \"HG_161019_061_AM_B_P4\", \"HG_161019_061_AM_D_N9\", \"HG_161019_074_AM_P1\", \"HG_161019_085_AM_N3\", \"HG_161019_086_AM_N20\", \"HG_161019_097_AM_N10\", \"HG_161019_100_AM_N11\", \"HG_161019_104_AM_P8\", \"HG_161019_112_AM_P19\", \"HG_161019_118_AM_A_P9\", \"HG_161019_125_AM_P6\", \"HG_161019_129_AM_P13\", \"HG_161019_134_AM_P16\", \"HG_161019_145_AM_N27\", \"HG_161019_148_AM_P2\", \"HG_161019_161_AM_P14\", \"HG_161019_165_AM_P5\", \"HG_161019_174_AM_P18\", \"HG_161019_184_AM_N14\", \"HG_161019_185_AM_N23\", \"HG_161019_189_AM_P7\", \"HG_161019_192_AM_P17\", \"HG_161019_200_AM_P10\", \"HG_161019_202_AM_N13\", \"HG_161019_210_AM_N17\", \"HG_161019_219_AM_N16\", \"HG_161019_221_AM_N18\", \"HG_161019_225_AM_A_N21\", \"HG_161019_229_AM_N24\", \"HG_161019_249_AM_P11\", \"HG_161019_265_AM_N22\", \"HG_161019_268_AM_N15\", \"HG_161019_274_AM_P15\", \"HG_161019_283_AM_N26\", \"HG_161020_003_AM_N1\", \"HG_161020_006_AM_P2\", \"HG_161020_009_AM_N2\", \"HG_161020_012_AM_N3\", \"HG_161020_016_AM_N4\", \"HG_161020_024_AM_N5\", \"HG_161020_034_AM_P1\", \"HG_161020_036_AM_P4\", \"HG_161020_042_AM_N6\", \"HG_161010_005_AM_P2\", \"HG_161010_013_AM_N1\", \"HG_161010_021_AM_N2\", \"HG_161010_024_AM_N3\", \"HG_161010_037_AM_N4\", \"HG_161010_043_AM_N5\", \"HG_161010_051_AM_N6\", \"HG_161010_057_AM_N7\", \"HG_161010_061_AM_N8\", \"HG_161010_089_AM_N10\", \"HG_161010_093_AM_N9\", \"HG_161010_096_AM_N11\", \"HG_161010_100_DE_N12\", \"HG_161010_102_AM_N13\", \"HG_161010_106_AM_N14\", \"HG_161018_125_AM_N5\", \"HG_161018_131_AM_P5\", \"HG_161018_145_DE_P16\", \"HG_161018_148_AM_N11\", \"HG_161018_148_DE_N18\", \"HG_161018_151_AM_N8\", \"HG_161018_153_AM_P17\", \"HG_161018_166_AM_N14\", \"HG_161018_171_AM_N7\", \"HG_161018_174_AM_N13\", \"HG_161018_177_AM_P3\", \"HG_161018_180_AM_N12\", \"HG_161018_185_AM_N15\", \"HG_161018_193_AM_N9\", \"HG_161018_195_AM_P7\", \"HG_161018_205_AM_P4\", \"HG_161018_213_AM_N16\", \"HG_161018_214_AM_P6\", \"HG_161018_218_AM_N19\", \"HG_161018_219_AM_P13\", \"HG_161018_223_AM_N21\", \"HG_161018_236_AM_N2\", \"HG_161018_238_AM_N10\", \"HG_161018_240_AM_P15\", \"HG_161018_243_AM_N6\", \"HG_161018_245_AM_N20\", \"HG_161018_252_AM_P14\", \"HG_161018_253_AM_P10\", \"HG_161018_255_AM_P12\", \"HG_161018_256_AM_P11\", \"HG_161018_260_AM_A_N17\", \"HG_161018_264_AM_P1\", \"HG_161018_266_AM_N1\", \"HG_161018_273_AM_P2\", \"HG_161018_275_AM_N3\", \"HG_161018_282_AM_N4\", \"HG_161018_332_DE_P8\", \"HG_161018_334_DE_P9\", \"HG_161019_001_AM_N19\", \"HG_160916_042_AM_N3\", \"HG_160916_043_AM_N2\", \"HG_160919_006_DE_N1\", \"HG_160919_012_AM_P1\", \"HG_160919_017_AM_N2\", \"HG_160919_021_AM_P2\", \"HG_160919_028_AM_N4\", \"HG_160919_048_AM_N3\", \"HG_160923_0001_AM_N1\", \"HG_160923_0007_AM_N3\", \"HG_160923_0009_AM_N4\", \"HG_160923_0013_AM_N2\", \"HG_160923_0016_AM_N7\", \"HG_160923_0020_DE_N5\", \"HG_160923_0021_AM_N6\", \"HG_160923_0023_AM_N8\", \"HG_160926_0040_DE_N1\", \"HG_160926_0055_DE_N2\", \"HG_160927_0058_AM_N1\", \"HG_160927_0061_AM_N2\", \"HG_160927_0071_AM_N3\", \"HG_160927_0072_AM_P1\", \"HG_160927_0074_AM_N12\", \"HG_160927_0078_AM_N4\", \"HG_160927_0084_AM_P2\", \"HG_160927_0097_AM_N5\", \"HG_160927_0117_AM_N6\", \"HG_160927_0130_AM_N7\", \"HG_160927_0133_AM_N13\", \"HG_160927_0136_AM_N9\", \"HG_160927_0138_AM_N8\", \"HG_160927_0159_AM_N11\", \"HG_160927_0198_AM_N10\", \"HG_160928_0010_AM_N2\", \"HG_160928_0036_AM_N1\", \"HG_161001_040_DE_P1\", \"HG_161004_161_DE_N1\", \"HG_161004_184_DE_P2\", \"HG_161004_189_DE_P1\", \"HG_161004_190_DE_N2\", \"HG_161008_002_DE_N6\", \"HG_161008_004_DE_B_P2\", \"HG_161008_008_DE_P3\", \"HG_161008_102_DE_B_P5\", \"HG_161008_117_DE_A_N1\", \"HG_161008_117_DE_B_N7\", \"HG_161008_131_DE_P4\", \"HG_161008_234_DE_N8\", \"HG_161008_241_DE_N2\", \"HG_161008_289_DE_N4\", \"HG_161008_290_DE_N3\", \"HG_161008_292_DE_P1\", \"HG_161008_349_DE_N5\", \"HG_161010_001_AM_P1\", \"HG_160902_292_AM_N4\", \"HG_160902_327_AM_N6\", \"HG_160902_330_AM_N7\", \"HG_160902_333_AM_N3\", \"HG_160902_348_AM_B_N8\", \"HG_160902_348_AM_C_N5\", \"HG_160912_036_AM_N1\", \"HG_160912_051_AM_N6\", \"HG_160912_061_AM_N12\", \"HG_160912_071_AM_P2\", \"HG_160912_073_AM_N2\", \"HG_160912_076_AM_N9\", \"HG_160912_084_AM_N10\", \"HG_160912_093_AM_N11\", \"HG_160912_102_AM_P5\", \"HG_160912_136_DE_N8\", \"HG_160912_143_AM_P1\", \"HG_160912_151_AM_P3\", \"HG_160912_166_AM_N7\", \"HG_160912_167_AM_N3\", \"HG_160912_178_AM_N4\", \"HG_160912_235_DE_N14\", \"HG_160912_259_DE_P4\", \"HG_160912_288_DE_N13\", \"HG_160912_292_DE_N5\", \"HG_160913_013_AM_N1\", \"HG_160913_086_AM_B_N2\", \"HG_160913_093_AM_N3\", \"HG_160913_099_AM_N6\", \"HG_160913_101_AM_N7\", \"HG_160913_106_AM_B_P4\", \"HG_160913_108_AM_P8\", \"HG_160913_109_AM_B_P5\", \"HG_160913_112_AM_P2\", \"HG_160913_115_AM_P3\", \"HG_160913_118_AM_P6\", \"HG_160913_125_AM_P1\", \"HG_160913_139_AM_N5\", \"HG_160913_153_DE_N4\", \"HG_160913_155_DE_P7\", \"HG_160914_007_AM_N9\", \"HG_160914_010_AM_N1\", \"HG_160914_012_AM_N2\", \"HG_160914_019_AM_N6\", \"HG_160914_167_DE_N8\", \"HG_160914_212_AM_N3\", \"HG_160914_215_AM_N7\", \"HG_160914_225_AM_N5\", \"HG_160914_227_AM_N4\", \"HG_160916_018_AM_P2\", \"HG_160916_020_AM_N1\", \"HG_160916_023_AM_P1\", \"HG_160916_025_AM_P4\", \"HG_160916_036_AM_A_P3\", \"HG_160725_040_DE_P3\", \"HG_160725_048_DE_P2\", \"HG_160725_151_DE_N1\", \"HG_160801_063_DE_P1\", \"HG_160801_104_DE_P4\", \"HG_160801_113_DE_N1\", \"HG_160801_114_DE_P3\", \"HG_160801_116_DE_P5\", \"HG_160801_176_DE_P2\", \"HG_160802_018_DE_N1\", \"HG_160802_059_DE_P1\", \"HG_160802_066_DE_P2\", \"HG_160802_073_DE_N4\", \"HG_160802_125_DE_N3\", \"HG_160802_142_DE_N2\", \"HG_160803_017_DE_P1\", \"HG_160803_040_DE_A_N1\", \"HG_160804_018_DE_N1\", \"HG_160804_047_DE_N2\", \"HG_160812_021_DE_N1\", \"HG_160813_039_DE_P1\", \"HG_160814_051_DE_N1\", \"HG_160815_157_DE_N2\", \"HG_160815_173_DE_N1\", \"HG_160816_003_DE_N1\", \"HG_160816_005_DE_N2\", \"HG_160816_024_DE_P2\", \"HG_160816_025_DE_P1\", \"HG_160817_224_DE_N1\", \"HG_160818_004_DE_N1\", \"HG_160821_045_DE_N1\", \"HG_160822_082_DE_N1\", \"HG_160823_098_DE_N1\", \"HG_160823_102_DE_N2\", \"HG_160823_106_DE_P1\", \"HG_160823_115_DE_N3\", \"HG_160823_117_DE_N4\", \"HG_160824_012_DE_N1\"], \"outlier\": [1, 1, 1, 1, 1, 1, 1, 1, 1, 1, 1, 1, 1, 1, 1, 1, 1, 1, 1, 1, 1, 1, 0, 0, 1, 1, 1, 1, 1, 0, 0, 1, 1, 1, 1, 0, 1, 1, 0, 1, 1, 1, 0, 1, 1, 1, 1, 1, 1, 1, 1, 1, 1, 1, 1, 0, 1, 1, 1, 1, 1, 0, 1, 1, 1, 0, 1, 1, 1, 0, 1, 1, 1, 1, 1, 0, 1, 1, 1, 1, 1, 1, 1, 1, 1, 1, 0, 1, 1, 1, 1, 1, 1, 1, 0, 0, 1, 1, 1, 1, 1, 1, 1, 1, 1, 1, 1, 1, 1, 1, 1, 1, 1, 1, 0, 1, 1, 1, 1, 1, 1, 1, 1, 1, 0, 1, 1, 0, 1, 1, 1, 1, 1, 1, 1, 0, 1, 1, 1, 1, 1, 1, 1, 1, 0, 1, 1, 1, 1, 1, 1, 1, 1, 1, 1, 1, 1, 0, 0, 1, 1, 1, 1, 0, 1, 1, 1, 0, 0, 1, 1, 0, 1, 1, 1, 1, 1, 0, 1, 1, 1, 1, 1, 0, 0, 1, 1, 1, 1, 0, 0, 1, 1, 1, 1, 1, 1, 1, 0, 1, 1, 1, 1, 0, 1, 1, 1, 1, 1, 1, 0, 1, 0, 1, 1, 1, 0, 1, 1, 1, 0, 0, 1, 1, 1, 1, 1, 1, 1, 1, 1, 0, 1, 1, 1, 0, 1, 1, 1, 1, 1, 0, 1, 1, 1, 0, 1, 0, 1, 1, 1, 1, 1, 1, 1, 1, 0, 0, 1, 1, 1, 1, 0, 1, 1, 1, 1, 1, 1, 1, 1, 1, 1, 1, 1, 1, 1, 1, 1, 1, 1, 1, 1, 1, 1, 1, 1, 0, 1, 0, 1, 1, 1, 0, 0, 0, 1, 1, 1, 1], \"probability\": {\"__ndarray__\": \"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\", \"dtype\": \"float64\", \"order\": \"little\", \"shape\": [300]}, \"x\": {\"__ndarray__\": \"gnAdQGRFX0A9jli/EqRkQCgvkUDIbXtA73wOQICnbECvkWxAcPEJQEyH1z//aIBAWDZ1P8hsjEDxa2RApVqbP7+Skz+wFBRArA2pP/55D7+0hPA/DMsXwPBcs7+oYWy+6sIRwP6qEsAV82m/VIdOQMzuREByjJA/hNhJvi//bkDENDVA7f3gPxaFwT8IIHG/1lK2P+Wzbz+JTE2/bfV2QC0+sT+SAsa+dEScPyIe1j7/x2A/L4BVQGRsGECWsBA/h9/9v5hMdj+UPRNApJTevtiXk79Agdg+IkwqwC57iD4Kc5W9JvVLPzNGQ0DlcXO/YdisvkJypr67IALAYjpYP6pJMr/7hcs/5XmoPwIlsb+/QR/A1v/sPgvlxr+G+Yi+zCEUwMIMpL/iCBLA4pEwP9+nxD8wjBc/SMGlvyQhDsDA6e2/dvyEv6xLO8CTfI2/Mhr/v/iAK8DoxBi/JLWyv6mDFz757w1AZl+tP6TXxz/G7gPAMDpSP6H7wD/N4RU9nDQcQMuAuD/8d0o+Dgu2P7TCCEDoYTZAoi3HPwOtOz/9vBlAL043PyrAZ0Dmg/g/uFa5PxFQP0AjDYU+e+UcQDPHU0At5ztASX/EP+8/CUDl0d8/La8dvvg16z8QYsK/yvTCP7CgSD8YKEC9wxymvwlII74WcodAeM9NQIDYeD6o3wVAkN17Pznye0BPY19AM/iEQOPvSEBc+GVAxt7lP6KMjEAYrHtADHRmQOGNL0AIwYVAe8UrQAlWj0CPlC5ARJYTQMVAckD3KmBA3wDEP8WeKECzahpA7+0tQHiKML/2wJI/reToP4fAfj4ftOs+/9hPQMCU0z8wbYA/2IgdQBFI7b5tvwi/bpSgv9ZpAT9p5ta/T/uHP44cn75TYNm/1YTzP58PAj8owH6/cjTAv7zyG76eB6++mQbMvuuc778KC8k/zmo2v9DIQL8U9DFA0bAwQBQKpz7HR/W/lJIhPoVAib9Otto/tElsvZzZfDy4wUw/wOMHPw9Jsr5RHlJA7ROKP3jyez/hqsc/hdw+QBDt4j6a0h8/Q2t8PEDjrL9h81M/awMvvzk3jT21H9a+dLUDPgFKEkBqXHK/oTHLv6A9BEDOCqE/oYyUP1ivJUAETI0/s5x9P9zVKb8pyXY/G/CSPyngAMAh4wlA4SYePwBtsj/Goag/PmlAvorJWL+A/IM+bYV0v7p19L8jD4e/HOckwOKuIz9FJxW+LxktQE3N9j/fpSY/3PbRvxcDsj9kwmQ+bPJSPiBHWz3g6CNA6IErv6mQqD5W2Ny/IZn1P3EDjz9NG4U+JewTwCLb1j9d5qw//aOQv09GCEBKwBE/g0MMP2O4Kr06egJA/gybv4u2z79evFM/BdVWP9SSkr9GUAZACP1DQNBp5D9C4hdAf9HGP4gIBEBImjhAYfa4P60VEUD20RxAJBCAPt9XxL/zuIs/aEsPwODI+b9b2eK/W01mv5XTLL7BAvS/0R/sv3qJMMAVRzhAgM3/v8UiW74WnYI9apYtwHK9pD57nt4+E/vav3biGr6IcZU/cSgcwK9LoL8xCzQ+WOHcP6CAir1GWRVAwho2QJc45T/PQeW+\", \"dtype\": \"float32\", \"order\": \"little\", \"shape\": [300]}, \"y\": {\"__ndarray__\": \"rrLXPzfuF0Bd3lZA1aUBQNSYlEA8U2VASXEyQFZYlkAkmYZAnRuEQNMtuUASlJRAFc2wQPLEm0B/BZ1AubnAQJzqo0CeW6dAFChhQNdgA0AAru0/UUxIQDXSCUAhLQhAyVboPxutBkCFZ0VAo/0fQA3cNUD+P4FAhy05QGdmgEBX3q1AwJbQQIzAxkAA5iVADUjJPvSUDT+TbzdAtVWhQLQxKUBDFYRAFCJRQOvqE0CYjpRAq42BQGNNL0CnXK5AmWoXQPgjhEDtbFBA+JGAP4Basj/AcIs/12hxQLj5qj/Wg0dA68KEP7sjpUCBALM/wRsSQNqjI0BNCzZANJxfP5Q7az/IGsM/biysP5m2FEBOR4JA6k8aQCj/XEDXNq5AMTQjQPJbkEBCAHlAXoUVQBiMk0BvqJtAEPZBQJZaikDuyhdAb5IQQC0AXkBRTQ1AnDcKQNo6bUB2VBxAFaf+P3VeRT8kxH0/x2xjP2UoP0CBmXxADcFvQObuZkB9gBxA6Xh6QJikIEBS6KNA3e5QPzbu2T+XTCJAWegcQKDHQkCN8e0/QvQsQK/YHUAV40tAmyG4P78n/D9Pyzg/PqCZPyMH6z82NwtAry/4P+cclj+/UzA/k9aXQEiAh0Bt6J9ALEOFP1vhMEDZtEJAG+WJQD/h7T8n4opA4BqGQLgsYkA5BcBAsEqtQH63o0BnLKBAUiehQBfKkkAk9nxAzO+YQOpDc0B211BA/gKCQORuYUC79Y1AVIOBQGDVhECzXqZADOiUQFbDnUAA8alAa8eeQB06wEAPOcdAT/u8QCedlEDF3UJAwpVHQASQsUDytpNAXZV8QNKKiECylHJAtDWgQMAxpkA/vCQ//duQPwCIHEB/UdU/K3XEP5yYcUA76AdAj1CTQGJ7DEDC0ss/uH/pP5dicUC11RNAsqmQQJVacUAqRLlAiRYzQG4YWEDnU1lAZcuYQLhHxj5yLERA/RCoP70g/D/H9W8/OI0xP/T7wz8Be8g/UudTQBWYPUBtod4/Hf3iP2KE3j+p9JtA1PSMQNAdhEAzUGhAFvtiQP23UUDyJXhAjGl/QAj5g0CzL05AjjyDQJ8uC0Du/a1AOOZyQOION0DEFAdAfUqVQG4DLEB+5AtAbJ4yQJlje0DMPcZAJGyFQEPlj0An5GZA6xHHQHGaqEClCZNATlnDQFlstkD12b1AOpq2P13JhEDx6ZtAcdxCQBrGu0D04bNARGqIQEJlh0BxTsZADE9hQHfScEAF7qNAxKekQG0Il0DQkoZAek6MQH1NPECtF5VAOfu2QHQijEBFPec/fWpfQNdDcUDbbwpAWjMoQNpxF0CEJpFAzyVUP4ECzj+h5VFAHMWHQJbt6D/TpqNAF3+aQCGYl0CwYqxAdrBdQFeefUD6mJpAjxgNQI6bpUAVe5RACOHLQA2+lEAxr3hAkybPQMAybkBFRbJAs8eXQFuXkECsZkJATJiBQG1Bnz8Ic90/IaquP7PnSkCk5m5AbnCXQKE8xD/EwF0/rgJVQGiMWkCn1Ok/iqWdQC+wYkAeaWtAsv+JQN0mQ0BXTPM/Ki+tP46wKECrD8E//t+/P9kJQj8YUc0/\", \"dtype\": \"float32\", \"order\": \"little\", \"shape\": [300]}}, \"selected\": {\"id\": \"1224\"}, \"selection_policy\": {\"id\": \"1223\"}}, \"id\": \"1156\", \"type\": \"ColumnDataSource\"}, {\"attributes\": {}, \"id\": \"1217\", \"type\": \"AllLabels\"}, {\"attributes\": {\"formatter\": {\"id\": \"1216\"}, \"major_label_policy\": {\"id\": \"1217\"}, \"ticker\": {\"id\": \"1167\"}, \"visible\": false}, \"id\": \"1166\", \"type\": \"LinearAxis\"}, {\"attributes\": {\"overlay\": {\"id\": \"1180\"}}, \"id\": \"1176\", \"type\": \"BoxZoomTool\"}, {\"attributes\": {}, \"id\": \"1167\", \"type\": \"BasicTicker\"}, {\"attributes\": {}, \"id\": \"1177\", \"type\": \"SaveTool\"}, {\"attributes\": {}, \"id\": \"1160\", \"type\": \"DataRange1d\"}, {\"attributes\": {\"axis\": {\"id\": \"1166\"}, \"ticker\": null, \"visible\": false}, \"id\": \"1169\", \"type\": \"Grid\"}, {\"attributes\": {}, \"id\": \"1162\", \"type\": \"LinearScale\"}, {\"attributes\": {\"fill_alpha\": {\"value\": 0.1}, \"fill_color\": {\"field\": \"color\"}, \"line_alpha\": {\"value\": 0.1}, \"line_color\": {\"field\": \"color\"}, \"size\": {\"value\": 5}, \"x\": {\"field\": \"x\"}, \"y\": {\"field\": \"y\"}}, \"id\": \"1192\", \"type\": \"Circle\"}, {\"attributes\": {\"data_source\": {\"id\": \"1156\"}, \"glyph\": {\"id\": \"1191\"}, \"hover_glyph\": null, \"muted_glyph\": null, \"nonselection_glyph\": {\"id\": \"1192\"}, \"view\": {\"id\": \"1194\"}}, \"id\": \"1193\", \"type\": \"GlyphRenderer\"}, {\"attributes\": {\"overlay\": {\"id\": \"1222\"}}, \"id\": \"1198\", \"type\": \"LassoSelectTool\"}, {\"attributes\": {}, \"id\": \"1214\", \"type\": \"Title\"}, {\"attributes\": {}, \"id\": \"1220\", \"type\": \"AllLabels\"}, {\"attributes\": {\"axis\": {\"id\": \"1170\"}, \"dimension\": 1, \"ticker\": null, \"visible\": false}, \"id\": \"1173\", \"type\": \"Grid\"}, {\"attributes\": {\"callback\": null, \"tooltips\": \"\\n    <div>\\n        <div>\\n            <img\\n                src=\\\"@file\\\" height=\\\"128\\\" alt=\\\"@file\\\" width=\\\"128\\\"\\n                style=\\\"float: left; margin: 0px 15px 15px 0px;\\\"\\n                border=\\\"2\\\"\\n            ></img>\\n        </div>\\n        <div>\\n            <span style=\\\"font-size: 10px; font-weight: bold;\\\">@name</span>\\n            <span style=\\\"font-size: 10px; color: #966;\\\">[$index]</span>\\n        </div>\\n        <div>\\n            <span style=\\\"font-size: 9px; color: #966;\\\">@file</span>\\n        </div>\\n        <div>\\n            <span style=\\\"font-size: 9px; color: #966;\\\">Class: @class</span>\\n        </div>\\n        <div>\\n            <span style=\\\"font-size: 9px; color: #966;\\\">Probability: @probability</span>\\n        </div>\\n        <div>\\n            <span style=\\\"font-size: 9px; color: #966;\\\">Outlier: @outlier</span>\\n        </div>\\n    </div>\\n    \"}, \"id\": \"1002\", \"type\": \"HoverTool\"}, {\"attributes\": {}, \"id\": \"1224\", \"type\": \"Selection\"}, {\"attributes\": {}, \"id\": \"1171\", \"type\": \"BasicTicker\"}, {\"attributes\": {}, \"id\": \"1175\", \"type\": \"WheelZoomTool\"}, {\"attributes\": {\"fill_alpha\": {\"field\": \"alpha\"}, \"fill_color\": {\"field\": \"color\"}, \"line_alpha\": {\"field\": \"alpha\"}, \"line_color\": {\"field\": \"color\"}, \"size\": {\"value\": 5}, \"x\": {\"field\": \"x\"}, \"y\": {\"field\": \"y\"}}, \"id\": \"1191\", \"type\": \"Circle\"}, {\"attributes\": {}, \"id\": \"1164\", \"type\": \"LinearScale\"}, {\"attributes\": {\"source\": {\"id\": \"1156\"}}, \"id\": \"1194\", \"type\": \"CDSView\"}, {\"attributes\": {\"bottom_units\": \"screen\", \"fill_alpha\": 0.5, \"fill_color\": \"lightgrey\", \"left_units\": \"screen\", \"level\": \"overlay\", \"line_alpha\": 1.0, \"line_color\": \"black\", \"line_dash\": [4, 4], \"line_width\": 2, \"right_units\": \"screen\", \"syncable\": false, \"top_units\": \"screen\"}, \"id\": \"1180\", \"type\": \"BoxAnnotation\"}, {\"attributes\": {\"fill_alpha\": 0.5, \"fill_color\": \"lightgrey\", \"level\": \"overlay\", \"line_alpha\": 1.0, \"line_color\": \"black\", \"line_dash\": [4, 4], \"line_width\": 2, \"syncable\": false, \"xs_units\": \"screen\", \"ys_units\": \"screen\"}, \"id\": \"1222\", \"type\": \"PolyAnnotation\"}, {\"attributes\": {}, \"id\": \"1223\", \"type\": \"UnionRenderers\"}, {\"attributes\": {}, \"id\": \"1216\", \"type\": \"BasicTickFormatter\"}, {\"attributes\": {}, \"id\": \"1174\", \"type\": \"PanTool\"}, {\"attributes\": {}, \"id\": \"1179\", \"type\": \"HelpTool\"}], \"root_ids\": [\"1157\"]}, \"title\": \"\", \"version\": \"2.3.1\"}}, \"umap\")"
      ],
      "text/plain": [
       "<IPython.core.display.Javascript object>"
      ]
     },
     "execution_count": 17,
     "metadata": {},
     "output_type": "execute_result"
    }
   ],
   "source": [
    "display(HTML('<div id=\"umap\"></div>'))\n",
    "Javascript(f'''Bokeh.embed.embed_item({p_json}, \"umap\")''')"
   ]
  },
  {
   "cell_type": "code",
   "execution_count": null,
   "id": "ba7cdf4d",
   "metadata": {},
   "outputs": [],
   "source": []
  }
 ],
 "metadata": {
  "kernelspec": {
   "display_name": "Python 3",
   "language": "python",
   "name": "python3"
  },
  "language_info": {
   "codemirror_mode": {
    "name": "ipython",
    "version": 3
   },
   "file_extension": ".py",
   "mimetype": "text/x-python",
   "name": "python",
   "nbconvert_exporter": "python",
   "pygments_lexer": "ipython3",
   "version": "3.8.8"
  }
 },
 "nbformat": 4,
 "nbformat_minor": 5
}
