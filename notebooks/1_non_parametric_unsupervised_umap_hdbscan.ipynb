{
 "cells": [
  {
   "cell_type": "markdown",
   "id": "af7f5c7b",
   "metadata": {},
   "source": [
    "# Non-Parametric, Unsupervised UMAP and HDBSCAN"
   ]
  },
  {
   "cell_type": "code",
   "execution_count": 198,
   "id": "d8620c25",
   "metadata": {},
   "outputs": [],
   "source": [
    "#Imports\n",
    "\n",
    "### Unfortunately, UMAP takes a while to import. One of its dependencies (pynndescent) uses numba, \n",
    "### which is the cause of the performance bottleneck here.\n",
    "\n",
    "import cv2\n",
    "import hdbscan\n",
    "import json \n",
    "import matplotlib.pyplot as plt\n",
    "import numpy as np\n",
    "import os\n",
    "import pandas as pd\n",
    "import random\n",
    "import re\n",
    "import seaborn as sns\n",
    "import skimage \n",
    "import umap\n",
    "import umap.plot\n",
    "\n",
    "from bokeh.embed import json_item\n",
    "from bokeh.plotting import show as bokeh_show, output_notebook\n",
    "from glob import glob\n",
    "from hdbscan import HDBSCAN\n",
    "from IPython.display import display, HTML, Image, Javascript\n",
    "from pathlib import Path\n",
    "from sklearn.preprocessing import StandardScaler"
   ]
  },
  {
   "cell_type": "code",
   "execution_count": 97,
   "id": "dba028a4",
   "metadata": {},
   "outputs": [],
   "source": [
    "#Constants\n",
    "IMG_SIZE = 256\n",
    "IMAGES_DIR = '../images/final_to_match'\n",
    "MAX_FILES = 300"
   ]
  },
  {
   "cell_type": "markdown",
   "id": "32e8827d",
   "metadata": {},
   "source": [
    "We first load the images..."
   ]
  },
  {
   "cell_type": "code",
   "execution_count": 98,
   "id": "6c3aa98f",
   "metadata": {},
   "outputs": [
    {
     "data": {
      "text/plain": [
       "[PosixPath('../images/final_to_match/HG_170305_0027_DE_P4.jpg'),\n",
       " PosixPath('../images/final_to_match/HG_170305_0041_GF_P5.JPG'),\n",
       " PosixPath('../images/final_to_match/HG_170305_0046_GF_P6.JPG'),\n",
       " PosixPath('../images/final_to_match/HG_170305_0051_GF_P1.JPG')]"
      ]
     },
     "execution_count": 98,
     "metadata": {},
     "output_type": "execute_result"
    }
   ],
   "source": [
    "files = Path(IMAGES_DIR) \n",
    "image_files = []\n",
    "\n",
    "for file in files.rglob('*'):\n",
    "    ext = file.suffix.lower()\n",
    "    if ext == \".jpg\": image_files.append(file)\n",
    "    if len(image_files) >= MAX_FILES: break\n",
    "    \n",
    "image_files[0:4]"
   ]
  },
  {
   "cell_type": "markdown",
   "id": "09a2bd24",
   "metadata": {},
   "source": [
    "Then apply additional preprocessing..."
   ]
  },
  {
   "cell_type": "code",
   "execution_count": 163,
   "id": "635adaee",
   "metadata": {},
   "outputs": [
    {
     "name": "stdout",
     "output_type": "stream",
     "text": [
      "0.0% done\n",
      "5.0% done\n",
      "10.0% done\n",
      "15.0% done\n",
      "20.0% done\n",
      "25.0% done\n",
      "30.0% done\n",
      "35.0% done\n",
      "40.0% done\n",
      "45.0% done\n",
      "50.0% done\n",
      "60.0% done\n",
      "65.0% done\n",
      "70.0% done\n",
      "75.0% done\n",
      "80.0% done\n",
      "85.0% done\n",
      "90.0% done\n",
      "95.0% done\n",
      "Complete!\n"
     ]
    }
   ],
   "source": [
    "images = []\n",
    "names = []\n",
    "files = []\n",
    "\n",
    "for i, file in enumerate(image_files):\n",
    "    file_str = str(file)\n",
    "    image = cv2.imread(file_str)\n",
    "    names.append(file.stem)\n",
    "    files.append(file_str)\n",
    "    image = cv2.cvtColor(image, cv2.COLOR_BGR2GRAY)\n",
    "    image = cv2.resize(image, (IMG_SIZE, IMG_SIZE))\n",
    "    image = image.astype('float32')\n",
    "    #image = (image - image.mean(axis=(0, 1), keepdims = True)) / image.std(axis=(0, 1), keepdims = True)\n",
    "    #image = cv2.normalize(image, None, 0, 1, cv2.NORM_MINMAX)\n",
    "    images.append(image)\n",
    "    \n",
    "    progress = i/MAX_FILES * 100\n",
    "    if progress % 5 == 0: print(f'{progress}% done')\n",
    "        \n",
    "print(\"Complete!\")"
   ]
  },
  {
   "cell_type": "markdown",
   "id": "38ca558a",
   "metadata": {},
   "source": [
    "We then convert it to a numpy array."
   ]
  },
  {
   "cell_type": "code",
   "execution_count": 199,
   "id": "913e02d2",
   "metadata": {},
   "outputs": [
    {
     "data": {
      "text/plain": [
       "(300, 256, 256)"
      ]
     },
     "execution_count": 199,
     "metadata": {},
     "output_type": "execute_result"
    }
   ],
   "source": [
    "images = np.asarray(images)\n",
    "images.shape"
   ]
  },
  {
   "cell_type": "code",
   "execution_count": 223,
   "id": "cc610e0d",
   "metadata": {},
   "outputs": [
    {
     "data": {
      "text/plain": [
       "(300, 65536)"
      ]
     },
     "execution_count": 223,
     "metadata": {},
     "output_type": "execute_result"
    }
   ],
   "source": [
    "data = images.reshape((images.shape[0], -1))\n",
    "#data = StandardScaler().fit_transform(data)\n",
    "data.shape"
   ]
  },
  {
   "cell_type": "markdown",
   "id": "f06d6383",
   "metadata": {},
   "source": [
    "We then fit UMAP to the data."
   ]
  },
  {
   "cell_type": "code",
   "execution_count": 224,
   "id": "8b3c3857",
   "metadata": {},
   "outputs": [],
   "source": [
    "mapper = umap.UMAP(\n",
    "    n_neighbors = 200,\n",
    "    min_dist = 0.5,\n",
    "    n_components = 2,\n",
    "    metric = 'euclidean',\n",
    "    random_state = 100,\n",
    ").fit(data)\n",
    "\n",
    "umap_res = mapper.transform(data)"
   ]
  },
  {
   "cell_type": "markdown",
   "id": "7283a14c",
   "metadata": {},
   "source": [
    "We apply HDBSCAN to the UMAP results."
   ]
  },
  {
   "cell_type": "code",
   "execution_count": 225,
   "id": "bdd50f1c",
   "metadata": {},
   "outputs": [],
   "source": [
    "cluster = HDBSCAN(\n",
    "    algorithm ='best', \n",
    "    approx_min_span_tree = True,\n",
    "    gen_min_span_tree = False, \n",
    "    leaf_size = 40, \n",
    "    metric='euclidean', \n",
    "    min_cluster_size = 15,\n",
    "    min_samples = 15, \n",
    "    p = None\n",
    ").fit(umap_res)"
   ]
  },
  {
   "cell_type": "code",
   "execution_count": 226,
   "id": "19ce67c6",
   "metadata": {},
   "outputs": [],
   "source": [
    "hover_data = pd.DataFrame(\n",
    "    index = np.arange(\n",
    "        data.shape[0] \n",
    "    ), \n",
    "    data = {\n",
    "        'index' : np.arange(data.shape[0]),\n",
    "        'name': names,\n",
    "        \"file\": files,\n",
    "        'class': cluster.labels_,\n",
    "        'probability': cluster.probabilities_,\n",
    "        'outlier': [ 1 if item == -1 else 0 for item in cluster.labels_ ]\n",
    "    }\n",
    ")"
   ]
  },
  {
   "cell_type": "code",
   "execution_count": 227,
   "id": "aee881ac",
   "metadata": {},
   "outputs": [
    {
     "data": {
      "text/html": [
       "<div>\n",
       "<style scoped>\n",
       "    .dataframe tbody tr th:only-of-type {\n",
       "        vertical-align: middle;\n",
       "    }\n",
       "\n",
       "    .dataframe tbody tr th {\n",
       "        vertical-align: top;\n",
       "    }\n",
       "\n",
       "    .dataframe thead th {\n",
       "        text-align: right;\n",
       "    }\n",
       "</style>\n",
       "<table border=\"1\" class=\"dataframe\">\n",
       "  <thead>\n",
       "    <tr style=\"text-align: right;\">\n",
       "      <th></th>\n",
       "      <th>name</th>\n",
       "      <th>file</th>\n",
       "      <th>class</th>\n",
       "      <th>probability</th>\n",
       "      <th>outlier</th>\n",
       "    </tr>\n",
       "  </thead>\n",
       "  <tbody>\n",
       "    <tr>\n",
       "      <th>0</th>\n",
       "      <td>HG_170305_0027_DE_P4</td>\n",
       "      <td>../images/final_to_match/HG_170305_0027_DE_P4.jpg</td>\n",
       "      <td>1</td>\n",
       "      <td>1.000000</td>\n",
       "      <td>0</td>\n",
       "    </tr>\n",
       "    <tr>\n",
       "      <th>1</th>\n",
       "      <td>HG_170305_0041_GF_P5</td>\n",
       "      <td>../images/final_to_match/HG_170305_0041_GF_P5.JPG</td>\n",
       "      <td>1</td>\n",
       "      <td>0.995755</td>\n",
       "      <td>0</td>\n",
       "    </tr>\n",
       "    <tr>\n",
       "      <th>2</th>\n",
       "      <td>HG_170305_0046_GF_P6</td>\n",
       "      <td>../images/final_to_match/HG_170305_0046_GF_P6.JPG</td>\n",
       "      <td>-1</td>\n",
       "      <td>0.000000</td>\n",
       "      <td>1</td>\n",
       "    </tr>\n",
       "    <tr>\n",
       "      <th>3</th>\n",
       "      <td>HG_170305_0051_GF_P1</td>\n",
       "      <td>../images/final_to_match/HG_170305_0051_GF_P1.JPG</td>\n",
       "      <td>1</td>\n",
       "      <td>0.983698</td>\n",
       "      <td>0</td>\n",
       "    </tr>\n",
       "    <tr>\n",
       "      <th>4</th>\n",
       "      <td>HG_170305_0067_GF_P7</td>\n",
       "      <td>../images/final_to_match/HG_170305_0067_GF_P7.JPG</td>\n",
       "      <td>-1</td>\n",
       "      <td>0.000000</td>\n",
       "      <td>1</td>\n",
       "    </tr>\n",
       "    <tr>\n",
       "      <th>5</th>\n",
       "      <td>HG_170305_0073_GF_N3</td>\n",
       "      <td>../images/final_to_match/HG_170305_0073_GF_N3.JPG</td>\n",
       "      <td>-1</td>\n",
       "      <td>0.000000</td>\n",
       "      <td>1</td>\n",
       "    </tr>\n",
       "    <tr>\n",
       "      <th>6</th>\n",
       "      <td>HG_170305_0091_GF_P8</td>\n",
       "      <td>../images/final_to_match/HG_170305_0091_GF_P8.JPG</td>\n",
       "      <td>-1</td>\n",
       "      <td>0.000000</td>\n",
       "      <td>1</td>\n",
       "    </tr>\n",
       "    <tr>\n",
       "      <th>7</th>\n",
       "      <td>HG_170305_0110_GF_N6</td>\n",
       "      <td>../images/final_to_match/HG_170305_0110_GF_N6.JPG</td>\n",
       "      <td>-1</td>\n",
       "      <td>0.000000</td>\n",
       "      <td>1</td>\n",
       "    </tr>\n",
       "    <tr>\n",
       "      <th>8</th>\n",
       "      <td>HG_170305_0115_GF_N5</td>\n",
       "      <td>../images/final_to_match/HG_170305_0115_GF_N5.JPG</td>\n",
       "      <td>-1</td>\n",
       "      <td>0.000000</td>\n",
       "      <td>1</td>\n",
       "    </tr>\n",
       "    <tr>\n",
       "      <th>9</th>\n",
       "      <td>HG_170305_0140_GF_N4</td>\n",
       "      <td>../images/final_to_match/HG_170305_0140_GF_N4.JPG</td>\n",
       "      <td>-1</td>\n",
       "      <td>0.000000</td>\n",
       "      <td>1</td>\n",
       "    </tr>\n",
       "  </tbody>\n",
       "</table>\n",
       "</div>"
      ],
      "text/plain": [
       "                   name                                               file  \\\n",
       "0  HG_170305_0027_DE_P4  ../images/final_to_match/HG_170305_0027_DE_P4.jpg   \n",
       "1  HG_170305_0041_GF_P5  ../images/final_to_match/HG_170305_0041_GF_P5.JPG   \n",
       "2  HG_170305_0046_GF_P6  ../images/final_to_match/HG_170305_0046_GF_P6.JPG   \n",
       "3  HG_170305_0051_GF_P1  ../images/final_to_match/HG_170305_0051_GF_P1.JPG   \n",
       "4  HG_170305_0067_GF_P7  ../images/final_to_match/HG_170305_0067_GF_P7.JPG   \n",
       "5  HG_170305_0073_GF_N3  ../images/final_to_match/HG_170305_0073_GF_N3.JPG   \n",
       "6  HG_170305_0091_GF_P8  ../images/final_to_match/HG_170305_0091_GF_P8.JPG   \n",
       "7  HG_170305_0110_GF_N6  ../images/final_to_match/HG_170305_0110_GF_N6.JPG   \n",
       "8  HG_170305_0115_GF_N5  ../images/final_to_match/HG_170305_0115_GF_N5.JPG   \n",
       "9  HG_170305_0140_GF_N4  ../images/final_to_match/HG_170305_0140_GF_N4.JPG   \n",
       "\n",
       "   class  probability  outlier  \n",
       "0      1     1.000000        0  \n",
       "1      1     0.995755        0  \n",
       "2     -1     0.000000        1  \n",
       "3      1     0.983698        0  \n",
       "4     -1     0.000000        1  \n",
       "5     -1     0.000000        1  \n",
       "6     -1     0.000000        1  \n",
       "7     -1     0.000000        1  \n",
       "8     -1     0.000000        1  \n",
       "9     -1     0.000000        1  "
      ]
     },
     "execution_count": 227,
     "metadata": {},
     "output_type": "execute_result"
    }
   ],
   "source": [
    "hover_data.head(10).drop(\"index\", axis = 1)"
   ]
  },
  {
   "cell_type": "code",
   "execution_count": 228,
   "id": "f95216ce",
   "metadata": {},
   "outputs": [
    {
     "data": {
      "text/html": [
       "\n",
       "    <div class=\"bk-root\">\n",
       "        <a href=\"https://bokeh.org\" target=\"_blank\" class=\"bk-logo bk-logo-small bk-logo-notebook\"></a>\n",
       "        <span id=\"6295\">Loading BokehJS ...</span>\n",
       "    </div>"
      ]
     },
     "metadata": {},
     "output_type": "display_data"
    },
    {
     "data": {
      "application/javascript": [
       "\n",
       "(function(root) {\n",
       "  function now() {\n",
       "    return new Date();\n",
       "  }\n",
       "\n",
       "  var force = true;\n",
       "\n",
       "  if (typeof root._bokeh_onload_callbacks === \"undefined\" || force === true) {\n",
       "    root._bokeh_onload_callbacks = [];\n",
       "    root._bokeh_is_loading = undefined;\n",
       "  }\n",
       "\n",
       "  var JS_MIME_TYPE = 'application/javascript';\n",
       "  var HTML_MIME_TYPE = 'text/html';\n",
       "  var EXEC_MIME_TYPE = 'application/vnd.bokehjs_exec.v0+json';\n",
       "  var CLASS_NAME = 'output_bokeh rendered_html';\n",
       "\n",
       "  /**\n",
       "   * Render data to the DOM node\n",
       "   */\n",
       "  function render(props, node) {\n",
       "    var script = document.createElement(\"script\");\n",
       "    node.appendChild(script);\n",
       "  }\n",
       "\n",
       "  /**\n",
       "   * Handle when an output is cleared or removed\n",
       "   */\n",
       "  function handleClearOutput(event, handle) {\n",
       "    var cell = handle.cell;\n",
       "\n",
       "    var id = cell.output_area._bokeh_element_id;\n",
       "    var server_id = cell.output_area._bokeh_server_id;\n",
       "    // Clean up Bokeh references\n",
       "    if (id != null && id in Bokeh.index) {\n",
       "      Bokeh.index[id].model.document.clear();\n",
       "      delete Bokeh.index[id];\n",
       "    }\n",
       "\n",
       "    if (server_id !== undefined) {\n",
       "      // Clean up Bokeh references\n",
       "      var cmd = \"from bokeh.io.state import curstate; print(curstate().uuid_to_server['\" + server_id + \"'].get_sessions()[0].document.roots[0]._id)\";\n",
       "      cell.notebook.kernel.execute(cmd, {\n",
       "        iopub: {\n",
       "          output: function(msg) {\n",
       "            var id = msg.content.text.trim();\n",
       "            if (id in Bokeh.index) {\n",
       "              Bokeh.index[id].model.document.clear();\n",
       "              delete Bokeh.index[id];\n",
       "            }\n",
       "          }\n",
       "        }\n",
       "      });\n",
       "      // Destroy server and session\n",
       "      var cmd = \"import bokeh.io.notebook as ion; ion.destroy_server('\" + server_id + \"')\";\n",
       "      cell.notebook.kernel.execute(cmd);\n",
       "    }\n",
       "  }\n",
       "\n",
       "  /**\n",
       "   * Handle when a new output is added\n",
       "   */\n",
       "  function handleAddOutput(event, handle) {\n",
       "    var output_area = handle.output_area;\n",
       "    var output = handle.output;\n",
       "\n",
       "    // limit handleAddOutput to display_data with EXEC_MIME_TYPE content only\n",
       "    if ((output.output_type != \"display_data\") || (!Object.prototype.hasOwnProperty.call(output.data, EXEC_MIME_TYPE))) {\n",
       "      return\n",
       "    }\n",
       "\n",
       "    var toinsert = output_area.element.find(\".\" + CLASS_NAME.split(' ')[0]);\n",
       "\n",
       "    if (output.metadata[EXEC_MIME_TYPE][\"id\"] !== undefined) {\n",
       "      toinsert[toinsert.length - 1].firstChild.textContent = output.data[JS_MIME_TYPE];\n",
       "      // store reference to embed id on output_area\n",
       "      output_area._bokeh_element_id = output.metadata[EXEC_MIME_TYPE][\"id\"];\n",
       "    }\n",
       "    if (output.metadata[EXEC_MIME_TYPE][\"server_id\"] !== undefined) {\n",
       "      var bk_div = document.createElement(\"div\");\n",
       "      bk_div.innerHTML = output.data[HTML_MIME_TYPE];\n",
       "      var script_attrs = bk_div.children[0].attributes;\n",
       "      for (var i = 0; i < script_attrs.length; i++) {\n",
       "        toinsert[toinsert.length - 1].firstChild.setAttribute(script_attrs[i].name, script_attrs[i].value);\n",
       "        toinsert[toinsert.length - 1].firstChild.textContent = bk_div.children[0].textContent\n",
       "      }\n",
       "      // store reference to server id on output_area\n",
       "      output_area._bokeh_server_id = output.metadata[EXEC_MIME_TYPE][\"server_id\"];\n",
       "    }\n",
       "  }\n",
       "\n",
       "  function register_renderer(events, OutputArea) {\n",
       "\n",
       "    function append_mime(data, metadata, element) {\n",
       "      // create a DOM node to render to\n",
       "      var toinsert = this.create_output_subarea(\n",
       "        metadata,\n",
       "        CLASS_NAME,\n",
       "        EXEC_MIME_TYPE\n",
       "      );\n",
       "      this.keyboard_manager.register_events(toinsert);\n",
       "      // Render to node\n",
       "      var props = {data: data, metadata: metadata[EXEC_MIME_TYPE]};\n",
       "      render(props, toinsert[toinsert.length - 1]);\n",
       "      element.append(toinsert);\n",
       "      return toinsert\n",
       "    }\n",
       "\n",
       "    /* Handle when an output is cleared or removed */\n",
       "    events.on('clear_output.CodeCell', handleClearOutput);\n",
       "    events.on('delete.Cell', handleClearOutput);\n",
       "\n",
       "    /* Handle when a new output is added */\n",
       "    events.on('output_added.OutputArea', handleAddOutput);\n",
       "\n",
       "    /**\n",
       "     * Register the mime type and append_mime function with output_area\n",
       "     */\n",
       "    OutputArea.prototype.register_mime_type(EXEC_MIME_TYPE, append_mime, {\n",
       "      /* Is output safe? */\n",
       "      safe: true,\n",
       "      /* Index of renderer in `output_area.display_order` */\n",
       "      index: 0\n",
       "    });\n",
       "  }\n",
       "\n",
       "  // register the mime type if in Jupyter Notebook environment and previously unregistered\n",
       "  if (root.Jupyter !== undefined) {\n",
       "    var events = require('base/js/events');\n",
       "    var OutputArea = require('notebook/js/outputarea').OutputArea;\n",
       "\n",
       "    if (OutputArea.prototype.mime_types().indexOf(EXEC_MIME_TYPE) == -1) {\n",
       "      register_renderer(events, OutputArea);\n",
       "    }\n",
       "  }\n",
       "\n",
       "  \n",
       "  if (typeof (root._bokeh_timeout) === \"undefined\" || force === true) {\n",
       "    root._bokeh_timeout = Date.now() + 5000;\n",
       "    root._bokeh_failed_load = false;\n",
       "  }\n",
       "\n",
       "  var NB_LOAD_WARNING = {'data': {'text/html':\n",
       "     \"<div style='background-color: #fdd'>\\n\"+\n",
       "     \"<p>\\n\"+\n",
       "     \"BokehJS does not appear to have successfully loaded. If loading BokehJS from CDN, this \\n\"+\n",
       "     \"may be due to a slow or bad network connection. Possible fixes:\\n\"+\n",
       "     \"</p>\\n\"+\n",
       "     \"<ul>\\n\"+\n",
       "     \"<li>re-rerun `output_notebook()` to attempt to load from CDN again, or</li>\\n\"+\n",
       "     \"<li>use INLINE resources instead, as so:</li>\\n\"+\n",
       "     \"</ul>\\n\"+\n",
       "     \"<code>\\n\"+\n",
       "     \"from bokeh.resources import INLINE\\n\"+\n",
       "     \"output_notebook(resources=INLINE)\\n\"+\n",
       "     \"</code>\\n\"+\n",
       "     \"</div>\"}};\n",
       "\n",
       "  function display_loaded() {\n",
       "    var el = document.getElementById(\"6295\");\n",
       "    if (el != null) {\n",
       "      el.textContent = \"BokehJS is loading...\";\n",
       "    }\n",
       "    if (root.Bokeh !== undefined) {\n",
       "      if (el != null) {\n",
       "        el.textContent = \"BokehJS \" + root.Bokeh.version + \" successfully loaded.\";\n",
       "      }\n",
       "    } else if (Date.now() < root._bokeh_timeout) {\n",
       "      setTimeout(display_loaded, 100)\n",
       "    }\n",
       "  }\n",
       "\n",
       "\n",
       "  function run_callbacks() {\n",
       "    try {\n",
       "      root._bokeh_onload_callbacks.forEach(function(callback) {\n",
       "        if (callback != null)\n",
       "          callback();\n",
       "      });\n",
       "    } finally {\n",
       "      delete root._bokeh_onload_callbacks\n",
       "    }\n",
       "    console.debug(\"Bokeh: all callbacks have finished\");\n",
       "  }\n",
       "\n",
       "  function load_libs(css_urls, js_urls, callback) {\n",
       "    if (css_urls == null) css_urls = [];\n",
       "    if (js_urls == null) js_urls = [];\n",
       "\n",
       "    root._bokeh_onload_callbacks.push(callback);\n",
       "    if (root._bokeh_is_loading > 0) {\n",
       "      console.debug(\"Bokeh: BokehJS is being loaded, scheduling callback at\", now());\n",
       "      return null;\n",
       "    }\n",
       "    if (js_urls == null || js_urls.length === 0) {\n",
       "      run_callbacks();\n",
       "      return null;\n",
       "    }\n",
       "    console.debug(\"Bokeh: BokehJS not loaded, scheduling load and callback at\", now());\n",
       "    root._bokeh_is_loading = css_urls.length + js_urls.length;\n",
       "\n",
       "    function on_load() {\n",
       "      root._bokeh_is_loading--;\n",
       "      if (root._bokeh_is_loading === 0) {\n",
       "        console.debug(\"Bokeh: all BokehJS libraries/stylesheets loaded\");\n",
       "        run_callbacks()\n",
       "      }\n",
       "    }\n",
       "\n",
       "    function on_error(url) {\n",
       "      console.error(\"failed to load \" + url);\n",
       "    }\n",
       "\n",
       "    for (let i = 0; i < css_urls.length; i++) {\n",
       "      const url = css_urls[i];\n",
       "      const element = document.createElement(\"link\");\n",
       "      element.onload = on_load;\n",
       "      element.onerror = on_error.bind(null, url);\n",
       "      element.rel = \"stylesheet\";\n",
       "      element.type = \"text/css\";\n",
       "      element.href = url;\n",
       "      console.debug(\"Bokeh: injecting link tag for BokehJS stylesheet: \", url);\n",
       "      document.body.appendChild(element);\n",
       "    }\n",
       "\n",
       "    const hashes = {\"https://cdn.bokeh.org/bokeh/release/bokeh-2.3.1.min.js\": \"YF85VygJKMVnHE+lLv2AM93Vbstr0yo2TbIu5v8se5Rq3UQAUmcuh4aaJwNlpKwa\", \"https://cdn.bokeh.org/bokeh/release/bokeh-widgets-2.3.1.min.js\": \"KKuas3gevv3PvrlkyCMzffFeaMq5we/a2QsP5AUoS3mJ0jmaCL7jirFJN3GoE/lM\", \"https://cdn.bokeh.org/bokeh/release/bokeh-tables-2.3.1.min.js\": \"MK/uFc3YT18pkvvXRl66tTHjP0/dxoSH2e/eiNMFIguKlun2+WVqaPTWmUy/zvh4\"};\n",
       "\n",
       "    for (let i = 0; i < js_urls.length; i++) {\n",
       "      const url = js_urls[i];\n",
       "      const element = document.createElement('script');\n",
       "      element.onload = on_load;\n",
       "      element.onerror = on_error.bind(null, url);\n",
       "      element.async = false;\n",
       "      element.src = url;\n",
       "      if (url in hashes) {\n",
       "        element.crossOrigin = \"anonymous\";\n",
       "        element.integrity = \"sha384-\" + hashes[url];\n",
       "      }\n",
       "      console.debug(\"Bokeh: injecting script tag for BokehJS library: \", url);\n",
       "      document.head.appendChild(element);\n",
       "    }\n",
       "  };\n",
       "\n",
       "  function inject_raw_css(css) {\n",
       "    const element = document.createElement(\"style\");\n",
       "    element.appendChild(document.createTextNode(css));\n",
       "    document.body.appendChild(element);\n",
       "  }\n",
       "\n",
       "  \n",
       "  var js_urls = [\"https://unpkg.com/tabulator-tables@4.9.3/dist/js/tabulator.js\", \"https://unpkg.com/moment@2.27.0/moment.js\", \"https://cdn.bokeh.org/bokeh/release/bokeh-2.3.1.min.js\", \"https://cdn.bokeh.org/bokeh/release/bokeh-widgets-2.3.1.min.js\", \"https://cdn.bokeh.org/bokeh/release/bokeh-tables-2.3.1.min.js\", \"https://unpkg.com/@holoviz/panel@^0.11.3/dist/panel.min.js\"];\n",
       "  var css_urls = [\"https://unpkg.com/tabulator-tables@4.9.3/dist/css/tabulator_simple.min.css\"];\n",
       "  \n",
       "\n",
       "  var inline_js = [\n",
       "    function(Bokeh) {\n",
       "      Bokeh.set_log_level(\"info\");\n",
       "    },\n",
       "    function(Bokeh) {\n",
       "    \n",
       "    \n",
       "    }\n",
       "  ];\n",
       "\n",
       "  function run_inline_js() {\n",
       "    \n",
       "    if (root.Bokeh !== undefined || force === true) {\n",
       "      \n",
       "    for (var i = 0; i < inline_js.length; i++) {\n",
       "      inline_js[i].call(root, root.Bokeh);\n",
       "    }\n",
       "    if (force === true) {\n",
       "        display_loaded();\n",
       "      }} else if (Date.now() < root._bokeh_timeout) {\n",
       "      setTimeout(run_inline_js, 100);\n",
       "    } else if (!root._bokeh_failed_load) {\n",
       "      console.log(\"Bokeh: BokehJS failed to load within specified timeout.\");\n",
       "      root._bokeh_failed_load = true;\n",
       "    } else if (force !== true) {\n",
       "      var cell = $(document.getElementById(\"6295\")).parents('.cell').data().cell;\n",
       "      cell.output_area.append_execute_result(NB_LOAD_WARNING)\n",
       "    }\n",
       "\n",
       "  }\n",
       "\n",
       "  if (root._bokeh_is_loading === 0) {\n",
       "    console.debug(\"Bokeh: BokehJS loaded, going straight to plotting\");\n",
       "    run_inline_js();\n",
       "  } else {\n",
       "    load_libs(css_urls, js_urls, function() {\n",
       "      console.debug(\"Bokeh: BokehJS plotting callback run at\", now());\n",
       "      run_inline_js();\n",
       "    });\n",
       "  }\n",
       "}(window));"
      ],
      "application/vnd.bokehjs_load.v0+json": "\n(function(root) {\n  function now() {\n    return new Date();\n  }\n\n  var force = true;\n\n  if (typeof root._bokeh_onload_callbacks === \"undefined\" || force === true) {\n    root._bokeh_onload_callbacks = [];\n    root._bokeh_is_loading = undefined;\n  }\n\n  \n\n  \n  if (typeof (root._bokeh_timeout) === \"undefined\" || force === true) {\n    root._bokeh_timeout = Date.now() + 5000;\n    root._bokeh_failed_load = false;\n  }\n\n  var NB_LOAD_WARNING = {'data': {'text/html':\n     \"<div style='background-color: #fdd'>\\n\"+\n     \"<p>\\n\"+\n     \"BokehJS does not appear to have successfully loaded. If loading BokehJS from CDN, this \\n\"+\n     \"may be due to a slow or bad network connection. Possible fixes:\\n\"+\n     \"</p>\\n\"+\n     \"<ul>\\n\"+\n     \"<li>re-rerun `output_notebook()` to attempt to load from CDN again, or</li>\\n\"+\n     \"<li>use INLINE resources instead, as so:</li>\\n\"+\n     \"</ul>\\n\"+\n     \"<code>\\n\"+\n     \"from bokeh.resources import INLINE\\n\"+\n     \"output_notebook(resources=INLINE)\\n\"+\n     \"</code>\\n\"+\n     \"</div>\"}};\n\n  function display_loaded() {\n    var el = document.getElementById(\"6295\");\n    if (el != null) {\n      el.textContent = \"BokehJS is loading...\";\n    }\n    if (root.Bokeh !== undefined) {\n      if (el != null) {\n        el.textContent = \"BokehJS \" + root.Bokeh.version + \" successfully loaded.\";\n      }\n    } else if (Date.now() < root._bokeh_timeout) {\n      setTimeout(display_loaded, 100)\n    }\n  }\n\n\n  function run_callbacks() {\n    try {\n      root._bokeh_onload_callbacks.forEach(function(callback) {\n        if (callback != null)\n          callback();\n      });\n    } finally {\n      delete root._bokeh_onload_callbacks\n    }\n    console.debug(\"Bokeh: all callbacks have finished\");\n  }\n\n  function load_libs(css_urls, js_urls, callback) {\n    if (css_urls == null) css_urls = [];\n    if (js_urls == null) js_urls = [];\n\n    root._bokeh_onload_callbacks.push(callback);\n    if (root._bokeh_is_loading > 0) {\n      console.debug(\"Bokeh: BokehJS is being loaded, scheduling callback at\", now());\n      return null;\n    }\n    if (js_urls == null || js_urls.length === 0) {\n      run_callbacks();\n      return null;\n    }\n    console.debug(\"Bokeh: BokehJS not loaded, scheduling load and callback at\", now());\n    root._bokeh_is_loading = css_urls.length + js_urls.length;\n\n    function on_load() {\n      root._bokeh_is_loading--;\n      if (root._bokeh_is_loading === 0) {\n        console.debug(\"Bokeh: all BokehJS libraries/stylesheets loaded\");\n        run_callbacks()\n      }\n    }\n\n    function on_error(url) {\n      console.error(\"failed to load \" + url);\n    }\n\n    for (let i = 0; i < css_urls.length; i++) {\n      const url = css_urls[i];\n      const element = document.createElement(\"link\");\n      element.onload = on_load;\n      element.onerror = on_error.bind(null, url);\n      element.rel = \"stylesheet\";\n      element.type = \"text/css\";\n      element.href = url;\n      console.debug(\"Bokeh: injecting link tag for BokehJS stylesheet: \", url);\n      document.body.appendChild(element);\n    }\n\n    const hashes = {\"https://cdn.bokeh.org/bokeh/release/bokeh-2.3.1.min.js\": \"YF85VygJKMVnHE+lLv2AM93Vbstr0yo2TbIu5v8se5Rq3UQAUmcuh4aaJwNlpKwa\", \"https://cdn.bokeh.org/bokeh/release/bokeh-widgets-2.3.1.min.js\": \"KKuas3gevv3PvrlkyCMzffFeaMq5we/a2QsP5AUoS3mJ0jmaCL7jirFJN3GoE/lM\", \"https://cdn.bokeh.org/bokeh/release/bokeh-tables-2.3.1.min.js\": \"MK/uFc3YT18pkvvXRl66tTHjP0/dxoSH2e/eiNMFIguKlun2+WVqaPTWmUy/zvh4\"};\n\n    for (let i = 0; i < js_urls.length; i++) {\n      const url = js_urls[i];\n      const element = document.createElement('script');\n      element.onload = on_load;\n      element.onerror = on_error.bind(null, url);\n      element.async = false;\n      element.src = url;\n      if (url in hashes) {\n        element.crossOrigin = \"anonymous\";\n        element.integrity = \"sha384-\" + hashes[url];\n      }\n      console.debug(\"Bokeh: injecting script tag for BokehJS library: \", url);\n      document.head.appendChild(element);\n    }\n  };\n\n  function inject_raw_css(css) {\n    const element = document.createElement(\"style\");\n    element.appendChild(document.createTextNode(css));\n    document.body.appendChild(element);\n  }\n\n  \n  var js_urls = [\"https://unpkg.com/tabulator-tables@4.9.3/dist/js/tabulator.js\", \"https://unpkg.com/moment@2.27.0/moment.js\", \"https://cdn.bokeh.org/bokeh/release/bokeh-2.3.1.min.js\", \"https://cdn.bokeh.org/bokeh/release/bokeh-widgets-2.3.1.min.js\", \"https://cdn.bokeh.org/bokeh/release/bokeh-tables-2.3.1.min.js\", \"https://unpkg.com/@holoviz/panel@^0.11.3/dist/panel.min.js\"];\n  var css_urls = [\"https://unpkg.com/tabulator-tables@4.9.3/dist/css/tabulator_simple.min.css\"];\n  \n\n  var inline_js = [\n    function(Bokeh) {\n      Bokeh.set_log_level(\"info\");\n    },\n    function(Bokeh) {\n    \n    \n    }\n  ];\n\n  function run_inline_js() {\n    \n    if (root.Bokeh !== undefined || force === true) {\n      \n    for (var i = 0; i < inline_js.length; i++) {\n      inline_js[i].call(root, root.Bokeh);\n    }\n    if (force === true) {\n        display_loaded();\n      }} else if (Date.now() < root._bokeh_timeout) {\n      setTimeout(run_inline_js, 100);\n    } else if (!root._bokeh_failed_load) {\n      console.log(\"Bokeh: BokehJS failed to load within specified timeout.\");\n      root._bokeh_failed_load = true;\n    } else if (force !== true) {\n      var cell = $(document.getElementById(\"6295\")).parents('.cell').data().cell;\n      cell.output_area.append_execute_result(NB_LOAD_WARNING)\n    }\n\n  }\n\n  if (root._bokeh_is_loading === 0) {\n    console.debug(\"Bokeh: BokehJS loaded, going straight to plotting\");\n    run_inline_js();\n  } else {\n    load_libs(css_urls, js_urls, function() {\n      console.debug(\"Bokeh: BokehJS plotting callback run at\", now());\n      run_inline_js();\n    });\n  }\n}(window));"
     },
     "metadata": {},
     "output_type": "display_data"
    },
    {
     "data": {
      "text/html": [
       "\n",
       "\n",
       "\n",
       "\n",
       "\n",
       "\n",
       "  <div class=\"bk-root\" id=\"e6923415-2e1e-4796-896e-61837b514885\" data-root-id=\"6257\"></div>\n"
      ]
     },
     "metadata": {},
     "output_type": "display_data"
    },
    {
     "data": {
      "application/javascript": [
       "(function(root) {\n",
       "  function embed_document(root) {\n",
       "    \n",
       "  var docs_json = {\"81fc0c1f-1dbb-43a6-ab0e-57590471e346\":{\"defs\":[],\"roots\":{\"references\":[{\"attributes\":{\"background_fill_color\":\"white\",\"below\":[{\"id\":\"6266\"}],\"center\":[{\"id\":\"6269\"},{\"id\":\"6273\"}],\"height\":800,\"left\":[{\"id\":\"6270\"}],\"renderers\":[{\"id\":\"6293\"}],\"title\":{\"id\":\"6505\"},\"toolbar\":{\"id\":\"6282\"},\"width\":800,\"x_range\":{\"id\":\"6258\"},\"x_scale\":{\"id\":\"6262\"},\"y_range\":{\"id\":\"6260\"},\"y_scale\":{\"id\":\"6264\"}},\"id\":\"6257\",\"subtype\":\"Figure\",\"type\":\"Plot\"},{\"attributes\":{},\"id\":\"6508\",\"type\":\"AllLabels\"},{\"attributes\":{},\"id\":\"6260\",\"type\":\"DataRange1d\"},{\"attributes\":{},\"id\":\"6274\",\"type\":\"PanTool\"},{\"attributes\":{\"fill_alpha\":{\"value\":0.1},\"fill_color\":{\"field\":\"color\"},\"line_alpha\":{\"value\":0.1},\"line_color\":{\"field\":\"color\"},\"size\":{\"value\":5},\"x\":{\"field\":\"x\"},\"y\":{\"field\":\"y\"}},\"id\":\"6292\",\"type\":\"Circle\"},{\"attributes\":{\"formatter\":{\"id\":\"6510\"},\"major_label_policy\":{\"id\":\"6511\"},\"ticker\":{\"id\":\"6271\"},\"visible\":false},\"id\":\"6270\",\"type\":\"LinearAxis\"},{\"attributes\":{},\"id\":\"6507\",\"type\":\"BasicTickFormatter\"},{\"attributes\":{},\"id\":\"6275\",\"type\":\"WheelZoomTool\"},{\"attributes\":{},\"id\":\"6510\",\"type\":\"BasicTickFormatter\"},{\"attributes\":{},\"id\":\"6271\",\"type\":\"BasicTicker\"},{\"attributes\":{\"bottom_units\":\"screen\",\"fill_alpha\":0.5,\"fill_color\":\"lightgrey\",\"left_units\":\"screen\",\"level\":\"overlay\",\"line_alpha\":1.0,\"line_color\":\"black\",\"line_dash\":[4,4],\"line_width\":2,\"right_units\":\"screen\",\"syncable\":false,\"top_units\":\"screen\"},\"id\":\"6280\",\"type\":\"BoxAnnotation\"},{\"attributes\":{\"formatter\":{\"id\":\"6507\"},\"major_label_policy\":{\"id\":\"6508\"},\"ticker\":{\"id\":\"6267\"},\"visible\":false},\"id\":\"6266\",\"type\":\"LinearAxis\"},{\"attributes\":{},\"id\":\"6505\",\"type\":\"Title\"},{\"attributes\":{},\"id\":\"6267\",\"type\":\"BasicTicker\"},{\"attributes\":{},\"id\":\"6511\",\"type\":\"AllLabels\"},{\"attributes\":{\"overlay\":{\"id\":\"6280\"}},\"id\":\"6276\",\"type\":\"BoxZoomTool\"},{\"attributes\":{\"data_source\":{\"id\":\"6256\"},\"glyph\":{\"id\":\"6291\"},\"hover_glyph\":null,\"muted_glyph\":null,\"nonselection_glyph\":{\"id\":\"6292\"},\"view\":{\"id\":\"6294\"}},\"id\":\"6293\",\"type\":\"GlyphRenderer\"},{\"attributes\":{},\"id\":\"6279\",\"type\":\"HelpTool\"},{\"attributes\":{\"axis\":{\"id\":\"6270\"},\"dimension\":1,\"ticker\":null,\"visible\":false},\"id\":\"6273\",\"type\":\"Grid\"},{\"attributes\":{\"fill_alpha\":{\"field\":\"alpha\"},\"fill_color\":{\"field\":\"color\"},\"line_alpha\":{\"field\":\"alpha\"},\"line_color\":{\"field\":\"color\"},\"size\":{\"value\":5},\"x\":{\"field\":\"x\"},\"y\":{\"field\":\"y\"}},\"id\":\"6291\",\"type\":\"Circle\"},{\"attributes\":{},\"id\":\"6515\",\"type\":\"UnionRenderers\"},{\"attributes\":{\"data\":{\"alpha\":[1,1,1,1,1,1,1,1,1,1,1,1,1,1,1,1,1,1,1,1,1,1,1,1,1,1,1,1,1,1,1,1,1,1,1,1,1,1,1,1,1,1,1,1,1,1,1,1,1,1,1,1,1,1,1,1,1,1,1,1,1,1,1,1,1,1,1,1,1,1,1,1,1,1,1,1,1,1,1,1,1,1,1,1,1,1,1,1,1,1,1,1,1,1,1,1,1,1,1,1,1,1,1,1,1,1,1,1,1,1,1,1,1,1,1,1,1,1,1,1,1,1,1,1,1,1,1,1,1,1,1,1,1,1,1,1,1,1,1,1,1,1,1,1,1,1,1,1,1,1,1,1,1,1,1,1,1,1,1,1,1,1,1,1,1,1,1,1,1,1,1,1,1,1,1,1,1,1,1,1,1,1,1,1,1,1,1,1,1,1,1,1,1,1,1,1,1,1,1,1,1,1,1,1,1,1,1,1,1,1,1,1,1,1,1,1,1,1,1,1,1,1,1,1,1,1,1,1,1,1,1,1,1,1,1,1,1,1,1,1,1,1,1,1,1,1,1,1,1,1,1,1,1,1,1,1,1,1,1,1,1,1,1,1,1,1,1,1,1,1,1,1,1,1,1,1,1,1,1,1,1,1,1,1,1,1,1,1,1,1,1,1,1,1,1,1,1,1,1,1],\"class\":[1,1,-1,1,-1,-1,-1,-1,-1,-1,1,-1,-1,-1,0,-1,-1,-1,0,-1,0,-1,0,-1,-1,-1,-1,0,0,-1,-1,-1,-1,0,-1,-1,-1,-1,0,-1,-1,0,-1,-1,-1,-1,-1,-1,-1,-1,-1,-1,0,1,-1,1,0,-1,-1,-1,1,-1,-1,-1,0,-1,-1,0,0,-1,-1,0,-1,-1,-1,-1,-1,-1,0,-1,-1,-1,-1,0,-1,-1,-1,-1,-1,-1,-1,-1,1,-1,-1,-1,-1,-1,-1,-1,0,0,1,-1,-1,1,-1,-1,-1,-1,-1,-1,-1,-1,-1,-1,-1,0,-1,-1,-1,0,-1,1,-1,-1,-1,-1,-1,-1,-1,-1,-1,-1,0,-1,0,0,-1,-1,1,-1,-1,-1,-1,-1,-1,-1,0,-1,-1,-1,-1,0,-1,-1,-1,-1,1,-1,-1,-1,-1,0,-1,-1,-1,-1,0,-1,-1,-1,0,-1,-1,-1,-1,-1,-1,-1,-1,-1,-1,-1,0,0,-1,-1,-1,-1,-1,1,0,-1,0,-1,-1,-1,-1,-1,0,-1,-1,-1,-1,-1,-1,1,-1,-1,-1,-1,-1,-1,-1,-1,-1,-1,-1,-1,-1,-1,-1,-1,-1,0,-1,0,1,1,-1,0,-1,-1,-1,0,0,-1,-1,-1,-1,-1,-1,-1,-1,-1,-1,-1,0,-1,-1,-1,-1,-1,0,-1,1,-1,-1,-1,-1,-1,1,-1,-1,-1,-1,0,-1,-1,-1,-1,1,-1,1,0,1,-1,-1,-1,-1,-1,-1,-1,-1,-1,-1,-1,-1,-1,-1,-1,-1,-1,-1,-1,0,-1,-1,0],\"color\":[\"#5e4fa2\",\"#5e4fa2\",\"#9e0142\",\"#5e4fa2\",\"#9e0142\",\"#9e0142\",\"#9e0142\",\"#9e0142\",\"#9e0142\",\"#9e0142\",\"#5e4fa2\",\"#9e0142\",\"#9e0142\",\"#9e0142\",\"#ffffbe\",\"#9e0142\",\"#9e0142\",\"#9e0142\",\"#ffffbe\",\"#9e0142\",\"#ffffbe\",\"#9e0142\",\"#ffffbe\",\"#9e0142\",\"#9e0142\",\"#9e0142\",\"#9e0142\",\"#ffffbe\",\"#ffffbe\",\"#9e0142\",\"#9e0142\",\"#9e0142\",\"#9e0142\",\"#ffffbe\",\"#9e0142\",\"#9e0142\",\"#9e0142\",\"#9e0142\",\"#ffffbe\",\"#9e0142\",\"#9e0142\",\"#ffffbe\",\"#9e0142\",\"#9e0142\",\"#9e0142\",\"#9e0142\",\"#9e0142\",\"#9e0142\",\"#9e0142\",\"#9e0142\",\"#9e0142\",\"#9e0142\",\"#ffffbe\",\"#5e4fa2\",\"#9e0142\",\"#5e4fa2\",\"#ffffbe\",\"#9e0142\",\"#9e0142\",\"#9e0142\",\"#5e4fa2\",\"#9e0142\",\"#9e0142\",\"#9e0142\",\"#ffffbe\",\"#9e0142\",\"#9e0142\",\"#ffffbe\",\"#ffffbe\",\"#9e0142\",\"#9e0142\",\"#ffffbe\",\"#9e0142\",\"#9e0142\",\"#9e0142\",\"#9e0142\",\"#9e0142\",\"#9e0142\",\"#ffffbe\",\"#9e0142\",\"#9e0142\",\"#9e0142\",\"#9e0142\",\"#ffffbe\",\"#9e0142\",\"#9e0142\",\"#9e0142\",\"#9e0142\",\"#9e0142\",\"#9e0142\",\"#9e0142\",\"#9e0142\",\"#5e4fa2\",\"#9e0142\",\"#9e0142\",\"#9e0142\",\"#9e0142\",\"#9e0142\",\"#9e0142\",\"#9e0142\",\"#ffffbe\",\"#ffffbe\",\"#5e4fa2\",\"#9e0142\",\"#9e0142\",\"#5e4fa2\",\"#9e0142\",\"#9e0142\",\"#9e0142\",\"#9e0142\",\"#9e0142\",\"#9e0142\",\"#9e0142\",\"#9e0142\",\"#9e0142\",\"#9e0142\",\"#9e0142\",\"#ffffbe\",\"#9e0142\",\"#9e0142\",\"#9e0142\",\"#ffffbe\",\"#9e0142\",\"#5e4fa2\",\"#9e0142\",\"#9e0142\",\"#9e0142\",\"#9e0142\",\"#9e0142\",\"#9e0142\",\"#9e0142\",\"#9e0142\",\"#9e0142\",\"#9e0142\",\"#ffffbe\",\"#9e0142\",\"#ffffbe\",\"#ffffbe\",\"#9e0142\",\"#9e0142\",\"#5e4fa2\",\"#9e0142\",\"#9e0142\",\"#9e0142\",\"#9e0142\",\"#9e0142\",\"#9e0142\",\"#9e0142\",\"#ffffbe\",\"#9e0142\",\"#9e0142\",\"#9e0142\",\"#9e0142\",\"#ffffbe\",\"#9e0142\",\"#9e0142\",\"#9e0142\",\"#9e0142\",\"#5e4fa2\",\"#9e0142\",\"#9e0142\",\"#9e0142\",\"#9e0142\",\"#ffffbe\",\"#9e0142\",\"#9e0142\",\"#9e0142\",\"#9e0142\",\"#ffffbe\",\"#9e0142\",\"#9e0142\",\"#9e0142\",\"#ffffbe\",\"#9e0142\",\"#9e0142\",\"#9e0142\",\"#9e0142\",\"#9e0142\",\"#9e0142\",\"#9e0142\",\"#9e0142\",\"#9e0142\",\"#9e0142\",\"#9e0142\",\"#ffffbe\",\"#ffffbe\",\"#9e0142\",\"#9e0142\",\"#9e0142\",\"#9e0142\",\"#9e0142\",\"#5e4fa2\",\"#ffffbe\",\"#9e0142\",\"#ffffbe\",\"#9e0142\",\"#9e0142\",\"#9e0142\",\"#9e0142\",\"#9e0142\",\"#ffffbe\",\"#9e0142\",\"#9e0142\",\"#9e0142\",\"#9e0142\",\"#9e0142\",\"#9e0142\",\"#5e4fa2\",\"#9e0142\",\"#9e0142\",\"#9e0142\",\"#9e0142\",\"#9e0142\",\"#9e0142\",\"#9e0142\",\"#9e0142\",\"#9e0142\",\"#9e0142\",\"#9e0142\",\"#9e0142\",\"#9e0142\",\"#9e0142\",\"#9e0142\",\"#9e0142\",\"#9e0142\",\"#ffffbe\",\"#9e0142\",\"#ffffbe\",\"#5e4fa2\",\"#5e4fa2\",\"#9e0142\",\"#ffffbe\",\"#9e0142\",\"#9e0142\",\"#9e0142\",\"#ffffbe\",\"#ffffbe\",\"#9e0142\",\"#9e0142\",\"#9e0142\",\"#9e0142\",\"#9e0142\",\"#9e0142\",\"#9e0142\",\"#9e0142\",\"#9e0142\",\"#9e0142\",\"#9e0142\",\"#ffffbe\",\"#9e0142\",\"#9e0142\",\"#9e0142\",\"#9e0142\",\"#9e0142\",\"#ffffbe\",\"#9e0142\",\"#5e4fa2\",\"#9e0142\",\"#9e0142\",\"#9e0142\",\"#9e0142\",\"#9e0142\",\"#5e4fa2\",\"#9e0142\",\"#9e0142\",\"#9e0142\",\"#9e0142\",\"#ffffbe\",\"#9e0142\",\"#9e0142\",\"#9e0142\",\"#9e0142\",\"#5e4fa2\",\"#9e0142\",\"#5e4fa2\",\"#ffffbe\",\"#5e4fa2\",\"#9e0142\",\"#9e0142\",\"#9e0142\",\"#9e0142\",\"#9e0142\",\"#9e0142\",\"#9e0142\",\"#9e0142\",\"#9e0142\",\"#9e0142\",\"#9e0142\",\"#9e0142\",\"#9e0142\",\"#9e0142\",\"#9e0142\",\"#9e0142\",\"#9e0142\",\"#9e0142\",\"#9e0142\",\"#ffffbe\",\"#9e0142\",\"#9e0142\",\"#ffffbe\"],\"file\":[\"../images/final_to_match/HG_170305_0027_DE_P4.jpg\",\"../images/final_to_match/HG_170305_0041_GF_P5.JPG\",\"../images/final_to_match/HG_170305_0046_GF_P6.JPG\",\"../images/final_to_match/HG_170305_0051_GF_P1.JPG\",\"../images/final_to_match/HG_170305_0067_GF_P7.JPG\",\"../images/final_to_match/HG_170305_0073_GF_N3.JPG\",\"../images/final_to_match/HG_170305_0091_GF_P8.JPG\",\"../images/final_to_match/HG_170305_0110_GF_N6.JPG\",\"../images/final_to_match/HG_170305_0115_GF_N5.JPG\",\"../images/final_to_match/HG_170305_0140_GF_N4.JPG\",\"../images/final_to_match/HG_170305_0154_GF_P2.JPG\",\"../images/final_to_match/HG_170305_0168_DE_N2.JPG\",\"../images/final_to_match/HG_170316_002_FJ_N1.jpg\",\"../images/final_to_match/HG_170316_017_FJ_N3.JPG\",\"../images/final_to_match/HG_170316_062_FJ_N10.JPG\",\"../images/final_to_match/HG_170316_064_FJ_N11.jpg\",\"../images/final_to_match/HG_170316_069_FJ_N12.JPG\",\"../images/final_to_match/HG_170316_091_FJ_N14.JPG\",\"../images/final_to_match/HG_170316_099_FJ_N17.jpg\",\"../images/final_to_match/HG_170316_105_FJ_N15.JPG\",\"../images/final_to_match/HG_170316_117_FJ_N6.jpg\",\"../images/final_to_match/HG_170316_130_FJ_N18.jpg\",\"../images/final_to_match/HG_170316_132_FJ_N7.JPG\",\"../images/final_to_match/HG_170316_134_FJ_N4.JPG\",\"../images/final_to_match/HG_170316_139_FJ_N16.JPG\",\"../images/final_to_match/HG_170316_151_FJ_N5.JPG\",\"../images/final_to_match/HG_170316_160_FJ_N19.jpg\",\"../images/final_to_match/HG_170316_172_FJ_N9.jpg\",\"../images/final_to_match/HG_170316_173_FJ_N13.JPG\",\"../images/final_to_match/HG_170316_190_FJ_21.JPG\",\"../images/final_to_match/HG_170316_192_FJ_N20.JPG\",\"../images/final_to_match/HG_170316_195_FJ_N8.JPG\",\"../images/final_to_match/HG_170316_197_FJ_N22.JPG\",\"../images/final_to_match/HG_170316_198_FJ_N23.jpg\",\"../images/final_to_match/HG_170316_200_FJ_N2.jpg\",\"../images/final_to_match/HG_170318_003_FJ_P2.jpg\",\"../images/final_to_match/HG_170318_005_GF_P3.jpg\",\"../images/final_to_match/HG_170318_014_GF_N1.jpg\",\"../images/final_to_match/HG_170318_022_FJ_P1.jpg\",\"../images/final_to_match/HG_170318_025_GF_N6.jpg\",\"../images/final_to_match/HG_170318_039_FJ_N2jpg.jpg\",\"../images/final_to_match/HG_170318_047_GF_N5.jpg\",\"../images/final_to_match/HG_170318_056_GF_A_N3.jpg\",\"../images/final_to_match/HG_170318_096_GF_N4.jpg\",\"../images/final_to_match/HG_20160330_014_DE_P1.JPG\",\"../images/final_to_match/HG_20160330_052_DE_P2.JPG\",\"../images/final_to_match/HG_20160330_249_DE_B_N1.JPG\",\"../images/final_to_match/HG_170303_023_FJ_B_N3.jpg\",\"../images/final_to_match/HG_170303_028_FJ_N5.jpg\",\"../images/final_to_match/HG_170303_031_GF_P8.jpg\",\"../images/final_to_match/HG_170303_032_DE_3_N7.jpg\",\"../images/final_to_match/HG_170303_036_FJ_N2.jpg\",\"../images/final_to_match/HG_170303_044_FJ_N9.jpg\",\"../images/final_to_match/HG_170303_045_DE_3_N4.jpg\",\"../images/final_to_match/HG_170303_049_FJ_B_P3.jpg\",\"../images/final_to_match/HG_170303_052_FJ_P1.jpg\",\"../images/final_to_match/HG_170303_053_GF_P5.jpg\",\"../images/final_to_match/HG_170303_062_FJ_N6.jpg\",\"../images/final_to_match/HG_170303_071_FJ_P7.jpg\",\"../images/final_to_match/HG_170303_073_FJ_N11.jpg\",\"../images/final_to_match/HG_170303_075_FJ_N10.jpg\",\"../images/final_to_match/HG_170303_076_FJ_P4.jpg\",\"../images/final_to_match/HG_170303_078_GF_N24.jpg\",\"../images/final_to_match/HG_170303_092_GF_N19.jpg\",\"../images/final_to_match/HG_170303_136_GF_N1.jpg\",\"../images/final_to_match/HG_170303_182_GF_N18.jpg\",\"../images/final_to_match/HG_170303_198_GF_N8.jpg\",\"../images/final_to_match/HG_170303_232_GF_B_N13.jpg\",\"../images/final_to_match/HG_170303_234_GF_A_N15.jpg\",\"../images/final_to_match/HG_170303_238_GF_N25.jpg\",\"../images/final_to_match/HG_170303_245_GF_N16.jpg\",\"../images/final_to_match/HG_170303_262_GF_P10.jpg\",\"../images/final_to_match/HG_170303_278_GF_B_P2.jpg\",\"../images/final_to_match/HG_170303_288_GF_N20.jpg\",\"../images/final_to_match/HG_170303_295_GF_N21.jpg\",\"../images/final_to_match/HG_170303_307_GF_N23.jpg\",\"../images/final_to_match/HG_170303_312_GF_N22.jpg\",\"../images/final_to_match/HG_170303_317_GF_N17.jpg\",\"../images/final_to_match/HG_170303_326_GF_N14.jpg\",\"../images/final_to_match/HG_170304_0004_FJ_N1.JPG\",\"../images/final_to_match/HG_170304_0018_FJ_P3.JPG\",\"../images/final_to_match/HG_170304_0021_FJ_N6.JPG\",\"../images/final_to_match/HG_170304_0022_GF_N3.JPG\",\"../images/final_to_match/HG_170304_0043_FJ_N9.JPG\",\"../images/final_to_match/HG_170304_0048_GF_P1.JPG\",\"../images/final_to_match/HG_170304_0084_GF_N15.JPG\",\"../images/final_to_match/HG_170304_0105_GF_P2.JPG\",\"../images/final_to_match/HG_170304_0124_GF_N16.JPG\",\"../images/final_to_match/HG_170304_0131_GF_N17.JPG\",\"../images/final_to_match/HG_170304_0141_GF_N5.JPG\",\"../images/final_to_match/HG_170304_0278_GF_N2.JPG\",\"../images/final_to_match/HG_170304_0310_GF_N8.JPG\",\"../images/final_to_match/HG_170304_0318_GF_N11.JPG\",\"../images/final_to_match/HG_170304_0328_GF_N4.JPG\",\"../images/final_to_match/HG_170304_0338_GF_N7.JPG\",\"../images/final_to_match/HG_170304_0353_GF_N10.JPG\",\"../images/final_to_match/HG_170304_0372_GF_N12.JPG\",\"../images/final_to_match/HG_170304_0400_GF_N13.JPG\",\"../images/final_to_match/HG_170304_0414_GF_N14.JPG\",\"../images/final_to_match/HG_170305_0008_GF_P3.JPG\",\"../images/final_to_match/HG_170305_0018_GF_N1.JPG\",\"../images/final_to_match/HG_170227_181_FJ_N5.jpg\",\"../images/final_to_match/HG_170228_001_DE_P1.JPG\",\"../images/final_to_match/HG_170228_002_GF_2_A_N10.JPG\",\"../images/final_to_match/HG_170228_012_GF_2_P5.JPG\",\"../images/final_to_match/HG_170228_024_GF_2_N5.JPG\",\"../images/final_to_match/HG_170228_034_GF_3_N3.JPG\",\"../images/final_to_match/HG_170228_038_GF_3_N15.JPG\",\"../images/final_to_match/HG_170228_039_FJ_N24.JPG\",\"../images/final_to_match/HG_170228_052_GF_1_A_N22.JPG\",\"../images/final_to_match/HG_170228_054_DE_N18.JPG\",\"../images/final_to_match/HG_170228_054_GF_2_B_N8.JPG\",\"../images/final_to_match/HG_170228_056_GF_3_N17.JPG\",\"../images/final_to_match/HG_170228_060_GF_3_P3.JPG\",\"../images/final_to_match/HG_170228_062_DE_N19.JPG\",\"../images/final_to_match/HG_170228_062_GF_1_P8.JPG\",\"../images/final_to_match/HG_170228_064_GF_1_N7.JPG\",\"../images/final_to_match/HG_170228_068_DE_P2.JPG\",\"../images/final_to_match/HG_170228_073_DE_N20.JPG\",\"../images/final_to_match/HG_170228_077_GF_2_N9.JPG\",\"../images/final_to_match/HG_170228_081_GF_1_P7.JPG\",\"../images/final_to_match/HG_170228_083_DE_N21.JPG\",\"../images/final_to_match/HG_170228_088_FJ_B_P9.JPG\",\"../images/final_to_match/HG_170228_088_FJ_C_N23.JPG\",\"../images/final_to_match/HG_170228_089_GF_1_N11.JPG\",\"../images/final_to_match/HG_170228_092_GF_2_N12.JPG\",\"../images/final_to_match/HG_170228_093_GF_1_A_N13.JPG\",\"../images/final_to_match/HG_170228_096_FJ_P10.JPG\",\"../images/final_to_match/HG_170228_100_FJ_P6.JPG\",\"../images/final_to_match/HG_170228_108_GF_2_N1.JPG\",\"../images/final_to_match/HG_170228_113_FJ_N4.JPG\",\"../images/final_to_match/HG_170228_113_GF_2_N2.JPG\",\"../images/final_to_match/HG_170228_117_GF_3_N16.JPG\",\"../images/final_to_match/HG_170228_126_GF_3_N25.JPG\",\"../images/final_to_match/HG_170228_144_DE_N6.JPG\",\"../images/final_to_match/HG_170228_161_DE_N14.JPG\",\"../images/final_to_match/HG_170228_200_FJ_P12.JPG\",\"../images/final_to_match/HG_170228_203_DE_P4.JPG\",\"../images/final_to_match/HG_170228_204_FJ_N26.JPG\",\"../images/final_to_match/HG_170228_209_FJ_N27.JPG\",\"../images/final_to_match/HG_170228_214_DE_P11.JPG\",\"../images/final_to_match/HG_170302_003_FJ_N2.JPG\",\"../images/final_to_match/HG_170302_008_FJ_N3.JPG\",\"../images/final_to_match/HG_170302_013_DE_1_P1.JPG\",\"../images/final_to_match/HG_170302_015_FJ_N4.jpg\",\"../images/final_to_match/HG_170302_024_FJ_N5.JPG\",\"../images/final_to_match/HG_170302_028_FJ_P2.jpg\",\"../images/final_to_match/HG_170302_032_FJ_P3.JPG\",\"../images/final_to_match/HG_170302_033_FJ_N1.jpg\",\"../images/final_to_match/HG_170302_038_DE_1_P4.JPG\",\"../images/final_to_match/HG_170302_041_FJ_A_N7.jpg\",\"../images/final_to_match/HG_170302_056_FJ_N6.JPG\",\"../images/final_to_match/HG_170303_001_GF_P9.jpg\",\"../images/final_to_match/HG_170303_010_GF_N12.jpg\",\"../images/final_to_match/HG_170303_022_FJ_A_P6.jpg\",\"../images/final_to_match/HG_170225_014_FJ_N1.jpg\",\"../images/final_to_match/HG_170225_016_FJ_N7.jpg\",\"../images/final_to_match/HG_170225_017_FJ_N8.jpg\",\"../images/final_to_match/HG_170225_024_FJ_N2.jpg\",\"../images/final_to_match/HG_170225_038_DE_2_N3.jpg\",\"../images/final_to_match/HG_170225_063_DE_2_A_N6.jpg\",\"../images/final_to_match/HG_170225_063_DE_2_B_N4.jpg\",\"../images/final_to_match/HG_170225_068_DE_2_N5.jpg\",\"../images/final_to_match/HG_170226_049_FJ_P10.JPG\",\"../images/final_to_match/HG_170226_058_FJ_P5.JPG\",\"../images/final_to_match/HG_170226_060_FJ_N18.jpg\",\"../images/final_to_match/HG_170226_062_FJ_P6.JPG\",\"../images/final_to_match/HG_170226_063_GF_P3.JPG\",\"../images/final_to_match/HG_170226_065_FJ_N1.jpg\",\"../images/final_to_match/HG_170226_069_FJ_P11.JPG\",\"../images/final_to_match/HG_170226_072_FJ_N3.JPG\",\"../images/final_to_match/HG_170226_074_GF_N4.jpg\",\"../images/final_to_match/HG_170226_081_FJ_P7.JPG\",\"../images/final_to_match/HG_170226_087_DE_1_N6.jpg\",\"../images/final_to_match/HG_170226_091_FJ_N8.JPG\",\"../images/final_to_match/HG_170226_097_DE_1_N7.jpg\",\"../images/final_to_match/HG_170226_098_FJ_N10.jpg\",\"../images/final_to_match/HG_170226_107_FJ_P1.jpg\",\"../images/final_to_match/HG_170226_137_FJ_N19.jpg\",\"../images/final_to_match/HG_170226_140_DE_1_N24.jpg\",\"../images/final_to_match/HG_170226_142_DE_1_N11.JPG\",\"../images/final_to_match/HG_170226_149_DE_1_N12.jpg\",\"../images/final_to_match/HG_170226_176_GF_N13.jpg\",\"../images/final_to_match/HG_170226_182_GF_N21.JPG\",\"../images/final_to_match/HG_170226_188_GF_P12.JPG\",\"../images/final_to_match/HG_170226_193_DE_1_N14.jpg\",\"../images/final_to_match/HG_170226_205_DE_1_P8.JPG\",\"../images/final_to_match/HG_170226_205_GF_N2.JPG\",\"../images/final_to_match/HG_170226_248_GF_N26.JPG\",\"../images/final_to_match/HG_170226_254_GF_N16.jpg\",\"../images/final_to_match/HG_170226_258_GF_N15.jpg\",\"../images/final_to_match/HG_170226_289_GF_N17.JPG\",\"../images/final_to_match/HG_170226_317_GF_P2.JPG\",\"../images/final_to_match/HG_170226_333_GF_B_N22.jpg\",\"../images/final_to_match/HG_170226_335_GF_A_N20.jpg\",\"../images/final_to_match/HG_170226_343_GF_N23.jpg\",\"../images/final_to_match/HG_170226_348_GF_N9.jpg\",\"../images/final_to_match/HG_170226_379_GF_P9.JPG\",\"../images/final_to_match/HG_170226_383_GF_N5.jpg\",\"../images/final_to_match/HG_170226_389_GF_P4.jpg\",\"../images/final_to_match/HG_170226_413_GF_N25.JPG\",\"../images/final_to_match/HG_170227_013_FJ_N1.jpg\",\"../images/final_to_match/HG_170227_015_FJ_N9.JPG\",\"../images/final_to_match/HG_170227_025_FJ_N3.jpg\",\"../images/final_to_match/HG_170227_027_FJ_N7.jpg\",\"../images/final_to_match/HG_170227_060_FJ_N2.jpg\",\"../images/final_to_match/HG_170227_064_FJ_N8.jpg\",\"../images/final_to_match/HG_170227_168_FJ_N6.jpg\",\"../images/final_to_match/HG_170227_176_FJ_N4.jpg\",\"../images/final_to_match/HG_170223_041_FJ_N3.JPG\",\"../images/final_to_match/HG_170223_043_DE_N5.JPG\",\"../images/final_to_match/HG_170223_046_FJ_P12.JPG\",\"../images/final_to_match/HG_170223_049_FJ_P13.JPG\",\"../images/final_to_match/HG_170223_051_DE_P1.JPG\",\"../images/final_to_match/HG_170223_053_FJ_N8.JPG\",\"../images/final_to_match/HG_170223_055_DE_N2.JPG\",\"../images/final_to_match/HG_170223_057_FJ_P9.JPG\",\"../images/final_to_match/HG_170223_060_FJ_N7.JPG\",\"../images/final_to_match/HG_170223_062_FJ_P4.JPG\",\"../images/final_to_match/HG_170223_063_FJ_N6.JPG\",\"../images/final_to_match/HG_170223_070_FJ_P6.JPG\",\"../images/final_to_match/HG_170223_072_FJ_P5.JPG\",\"../images/final_to_match/HG_170223_073_FJ_N10.JPG\",\"../images/final_to_match/HG_170223_077_FJ_P7.JPG\",\"../images/final_to_match/HG_170223_079_FJ_N11.JPG\",\"../images/final_to_match/HG_170224_006_DE_N1.jpg\",\"../images/final_to_match/HG_170224_011_GF_N3.jpg\",\"../images/final_to_match/HG_170224_032_DE_N11.jpg\",\"../images/final_to_match/HG_170224_032_FJ_A_N7.jpg\",\"../images/final_to_match/HG_170224_032_FJ_B_N12.jpg\",\"../images/final_to_match/HG_170224_036_GF_N4.jpg\",\"../images/final_to_match/HG_170224_042_FJ_N10.jpg\",\"../images/final_to_match/HG_170224_056_GF_N9.jpg\",\"../images/final_to_match/HG_170224_058_DE_N25.jpg\",\"../images/final_to_match/HG_170224_060_GF_N14.jpg\",\"../images/final_to_match/HG_170224_080_DE_N20.jpg\",\"../images/final_to_match/HG_170224_092_GF_N15.jpg\",\"../images/final_to_match/HG_170224_096_GF_N16.jpg\",\"../images/final_to_match/HG_170224_117_GF_N18.jpg\",\"../images/final_to_match/HG_170224_125_DE_N26.jpg\",\"../images/final_to_match/HG_170224_136_GF_N27.jpg\",\"../images/final_to_match/HG_170224_139_GF_N21.jpg\",\"../images/final_to_match/HG_170224_140_DE_N19.jpg\",\"../images/final_to_match/HG_170224_143_DE_N2.jpg\",\"../images/final_to_match/HG_170224_144_GF_N6.jpg\",\"../images/final_to_match/HG_170224_150_GF_P1.jpg\",\"../images/final_to_match/HG_170224_164_GF_P2.jpg\",\"../images/final_to_match/HG_170224_164_PL_N8.jpg\",\"../images/final_to_match/HG_170224_165_DE_N23.jpg\",\"../images/final_to_match/HG_170224_167_GF_P3.jpg\",\"../images/final_to_match/HG_170224_170_DE_N31.jpg\",\"../images/final_to_match/HG_170224_173_DE_N32.jpg\",\"../images/final_to_match/HG_170224_186_DE_N13.jpg\",\"../images/final_to_match/HG_170224_189_DE_N5.jpg\",\"../images/final_to_match/HG_170224_192_DE_N24.jpg\",\"../images/final_to_match/HG_170224_266_GF_N33.JPG\",\"../images/final_to_match/HG_170224_306_GF_B_N29.jpg\",\"../images/final_to_match/HG_170224_315_GF_N28.jpg\",\"../images/final_to_match/HG_170224_319_GF_A_N22.jpg\",\"../images/final_to_match/HG_170224_327_GF_N30.jpg\",\"../images/final_to_match/HG_170224_340_GF_N17.jpg\",\"../images/final_to_match/HG_170224_347_GF_P4.jpg\",\"../images/final_to_match/HG_170224_371_GF_P5.jpg\",\"../images/final_to_match/HG_170217_212_GF_A_N7.JPG\",\"../images/final_to_match/HG_170217_213_GF_A_N12.JPG\",\"../images/final_to_match/HG_170217_213_GF_C_N21.JPG\",\"../images/final_to_match/HG_170217_213_GF_D_N34.JPG\",\"../images/final_to_match/HG_170217_263_GF_A_P12.JPG\",\"../images/final_to_match/HG_170217_267_GF_N22.JPG\",\"../images/final_to_match/HG_170217_271_GF_N17.JPG\",\"../images/final_to_match/HG_170217_313_GF_N28.JPG\",\"../images/final_to_match/HG_170217_317_GF_A_N19.JPG\",\"../images/final_to_match/HG_170217_320_GF_C_N30.JPG\",\"../images/final_to_match/HG_170222_005_DE_N5.JPG\",\"../images/final_to_match/HG_170222_009_FJ_N11.JPG\",\"../images/final_to_match/HG_170222_011_DE_P6.JPG\",\"../images/final_to_match/HG_170222_012_FJ_N6.JPG\",\"../images/final_to_match/HG_170222_018_DE_N7.JPG\",\"../images/final_to_match/HG_170222_019_DE_P1.JPG\",\"../images/final_to_match/HG_170222_030_DE_N9.JPG\",\"../images/final_to_match/HG_170222_036_FJ_P11.JPG\",\"../images/final_to_match/HG_170222_042_DE_A_N13.jpg\",\"../images/final_to_match/HG_170222_042_FJ_N12.JPG\",\"../images/final_to_match/HG_170222_043_FJ_P3.JPG\",\"../images/final_to_match/HG_170222_046_FJ_A_N8.jpg\",\"../images/final_to_match/HG_170222_049_FJ_P2.JPG\",\"../images/final_to_match/HG_170222_054_DE_A_N10.jpg\",\"../images/final_to_match/HG_170222_054_FJ_N1.JPG\",\"../images/final_to_match/HG_170222_057_DE_P9.JPG\",\"../images/final_to_match/HG_170222_058_FJ_B_N19.JPG\",\"../images/final_to_match/HG_170222_059_DE_N14.JPG\",\"../images/final_to_match/HG_170222_064_FJ_B_P5.jpg\",\"../images/final_to_match/HG_170222_074_FJ_B_P7.jpg\",\"../images/final_to_match/HG_170222_083_FJ_P4.JPG\",\"../images/final_to_match/HG_170222_098_DE_P8.JPG\",\"../images/final_to_match/HG_170222_106_DE_P12.JPG\",\"../images/final_to_match/HG_170222_110_FJ_P13.JPG\",\"../images/final_to_match/HG_170222_112_FJ_N15.JPG\",\"../images/final_to_match/HG_170222_125_FJ_N2.JPG\",\"../images/final_to_match/HG_170222_128_DE_P17.JPG\"],\"index\":[0,1,2,3,4,5,6,7,8,9,10,11,12,13,14,15,16,17,18,19,20,21,22,23,24,25,26,27,28,29,30,31,32,33,34,35,36,37,38,39,40,41,42,43,44,45,46,47,48,49,50,51,52,53,54,55,56,57,58,59,60,61,62,63,64,65,66,67,68,69,70,71,72,73,74,75,76,77,78,79,80,81,82,83,84,85,86,87,88,89,90,91,92,93,94,95,96,97,98,99,100,101,102,103,104,105,106,107,108,109,110,111,112,113,114,115,116,117,118,119,120,121,122,123,124,125,126,127,128,129,130,131,132,133,134,135,136,137,138,139,140,141,142,143,144,145,146,147,148,149,150,151,152,153,154,155,156,157,158,159,160,161,162,163,164,165,166,167,168,169,170,171,172,173,174,175,176,177,178,179,180,181,182,183,184,185,186,187,188,189,190,191,192,193,194,195,196,197,198,199,200,201,202,203,204,205,206,207,208,209,210,211,212,213,214,215,216,217,218,219,220,221,222,223,224,225,226,227,228,229,230,231,232,233,234,235,236,237,238,239,240,241,242,243,244,245,246,247,248,249,250,251,252,253,254,255,256,257,258,259,260,261,262,263,264,265,266,267,268,269,270,271,272,273,274,275,276,277,278,279,280,281,282,283,284,285,286,287,288,289,290,291,292,293,294,295,296,297,298,299],\"label\":[1,1,-1,1,-1,-1,-1,-1,-1,-1,1,-1,-1,-1,0,-1,-1,-1,0,-1,0,-1,0,-1,-1,-1,-1,0,0,-1,-1,-1,-1,0,-1,-1,-1,-1,0,-1,-1,0,-1,-1,-1,-1,-1,-1,-1,-1,-1,-1,0,1,-1,1,0,-1,-1,-1,1,-1,-1,-1,0,-1,-1,0,0,-1,-1,0,-1,-1,-1,-1,-1,-1,0,-1,-1,-1,-1,0,-1,-1,-1,-1,-1,-1,-1,-1,1,-1,-1,-1,-1,-1,-1,-1,0,0,1,-1,-1,1,-1,-1,-1,-1,-1,-1,-1,-1,-1,-1,-1,0,-1,-1,-1,0,-1,1,-1,-1,-1,-1,-1,-1,-1,-1,-1,-1,0,-1,0,0,-1,-1,1,-1,-1,-1,-1,-1,-1,-1,0,-1,-1,-1,-1,0,-1,-1,-1,-1,1,-1,-1,-1,-1,0,-1,-1,-1,-1,0,-1,-1,-1,0,-1,-1,-1,-1,-1,-1,-1,-1,-1,-1,-1,0,0,-1,-1,-1,-1,-1,1,0,-1,0,-1,-1,-1,-1,-1,0,-1,-1,-1,-1,-1,-1,1,-1,-1,-1,-1,-1,-1,-1,-1,-1,-1,-1,-1,-1,-1,-1,-1,-1,0,-1,0,1,1,-1,0,-1,-1,-1,0,0,-1,-1,-1,-1,-1,-1,-1,-1,-1,-1,-1,0,-1,-1,-1,-1,-1,0,-1,1,-1,-1,-1,-1,-1,1,-1,-1,-1,-1,0,-1,-1,-1,-1,1,-1,1,0,1,-1,-1,-1,-1,-1,-1,-1,-1,-1,-1,-1,-1,-1,-1,-1,-1,-1,-1,-1,0,-1,-1,0],\"level_0\":[0,1,2,3,4,5,6,7,8,9,10,11,12,13,14,15,16,17,18,19,20,21,22,23,24,25,26,27,28,29,30,31,32,33,34,35,36,37,38,39,40,41,42,43,44,45,46,47,48,49,50,51,52,53,54,55,56,57,58,59,60,61,62,63,64,65,66,67,68,69,70,71,72,73,74,75,76,77,78,79,80,81,82,83,84,85,86,87,88,89,90,91,92,93,94,95,96,97,98,99,100,101,102,103,104,105,106,107,108,109,110,111,112,113,114,115,116,117,118,119,120,121,122,123,124,125,126,127,128,129,130,131,132,133,134,135,136,137,138,139,140,141,142,143,144,145,146,147,148,149,150,151,152,153,154,155,156,157,158,159,160,161,162,163,164,165,166,167,168,169,170,171,172,173,174,175,176,177,178,179,180,181,182,183,184,185,186,187,188,189,190,191,192,193,194,195,196,197,198,199,200,201,202,203,204,205,206,207,208,209,210,211,212,213,214,215,216,217,218,219,220,221,222,223,224,225,226,227,228,229,230,231,232,233,234,235,236,237,238,239,240,241,242,243,244,245,246,247,248,249,250,251,252,253,254,255,256,257,258,259,260,261,262,263,264,265,266,267,268,269,270,271,272,273,274,275,276,277,278,279,280,281,282,283,284,285,286,287,288,289,290,291,292,293,294,295,296,297,298,299],\"name\":[\"HG_170305_0027_DE_P4\",\"HG_170305_0041_GF_P5\",\"HG_170305_0046_GF_P6\",\"HG_170305_0051_GF_P1\",\"HG_170305_0067_GF_P7\",\"HG_170305_0073_GF_N3\",\"HG_170305_0091_GF_P8\",\"HG_170305_0110_GF_N6\",\"HG_170305_0115_GF_N5\",\"HG_170305_0140_GF_N4\",\"HG_170305_0154_GF_P2\",\"HG_170305_0168_DE_N2\",\"HG_170316_002_FJ_N1\",\"HG_170316_017_FJ_N3\",\"HG_170316_062_FJ_N10\",\"HG_170316_064_FJ_N11\",\"HG_170316_069_FJ_N12\",\"HG_170316_091_FJ_N14\",\"HG_170316_099_FJ_N17\",\"HG_170316_105_FJ_N15\",\"HG_170316_117_FJ_N6\",\"HG_170316_130_FJ_N18\",\"HG_170316_132_FJ_N7\",\"HG_170316_134_FJ_N4\",\"HG_170316_139_FJ_N16\",\"HG_170316_151_FJ_N5\",\"HG_170316_160_FJ_N19\",\"HG_170316_172_FJ_N9\",\"HG_170316_173_FJ_N13\",\"HG_170316_190_FJ_21\",\"HG_170316_192_FJ_N20\",\"HG_170316_195_FJ_N8\",\"HG_170316_197_FJ_N22\",\"HG_170316_198_FJ_N23\",\"HG_170316_200_FJ_N2\",\"HG_170318_003_FJ_P2\",\"HG_170318_005_GF_P3\",\"HG_170318_014_GF_N1\",\"HG_170318_022_FJ_P1\",\"HG_170318_025_GF_N6\",\"HG_170318_039_FJ_N2jpg\",\"HG_170318_047_GF_N5\",\"HG_170318_056_GF_A_N3\",\"HG_170318_096_GF_N4\",\"HG_20160330_014_DE_P1\",\"HG_20160330_052_DE_P2\",\"HG_20160330_249_DE_B_N1\",\"HG_170303_023_FJ_B_N3\",\"HG_170303_028_FJ_N5\",\"HG_170303_031_GF_P8\",\"HG_170303_032_DE_3_N7\",\"HG_170303_036_FJ_N2\",\"HG_170303_044_FJ_N9\",\"HG_170303_045_DE_3_N4\",\"HG_170303_049_FJ_B_P3\",\"HG_170303_052_FJ_P1\",\"HG_170303_053_GF_P5\",\"HG_170303_062_FJ_N6\",\"HG_170303_071_FJ_P7\",\"HG_170303_073_FJ_N11\",\"HG_170303_075_FJ_N10\",\"HG_170303_076_FJ_P4\",\"HG_170303_078_GF_N24\",\"HG_170303_092_GF_N19\",\"HG_170303_136_GF_N1\",\"HG_170303_182_GF_N18\",\"HG_170303_198_GF_N8\",\"HG_170303_232_GF_B_N13\",\"HG_170303_234_GF_A_N15\",\"HG_170303_238_GF_N25\",\"HG_170303_245_GF_N16\",\"HG_170303_262_GF_P10\",\"HG_170303_278_GF_B_P2\",\"HG_170303_288_GF_N20\",\"HG_170303_295_GF_N21\",\"HG_170303_307_GF_N23\",\"HG_170303_312_GF_N22\",\"HG_170303_317_GF_N17\",\"HG_170303_326_GF_N14\",\"HG_170304_0004_FJ_N1\",\"HG_170304_0018_FJ_P3\",\"HG_170304_0021_FJ_N6\",\"HG_170304_0022_GF_N3\",\"HG_170304_0043_FJ_N9\",\"HG_170304_0048_GF_P1\",\"HG_170304_0084_GF_N15\",\"HG_170304_0105_GF_P2\",\"HG_170304_0124_GF_N16\",\"HG_170304_0131_GF_N17\",\"HG_170304_0141_GF_N5\",\"HG_170304_0278_GF_N2\",\"HG_170304_0310_GF_N8\",\"HG_170304_0318_GF_N11\",\"HG_170304_0328_GF_N4\",\"HG_170304_0338_GF_N7\",\"HG_170304_0353_GF_N10\",\"HG_170304_0372_GF_N12\",\"HG_170304_0400_GF_N13\",\"HG_170304_0414_GF_N14\",\"HG_170305_0008_GF_P3\",\"HG_170305_0018_GF_N1\",\"HG_170227_181_FJ_N5\",\"HG_170228_001_DE_P1\",\"HG_170228_002_GF_2_A_N10\",\"HG_170228_012_GF_2_P5\",\"HG_170228_024_GF_2_N5\",\"HG_170228_034_GF_3_N3\",\"HG_170228_038_GF_3_N15\",\"HG_170228_039_FJ_N24\",\"HG_170228_052_GF_1_A_N22\",\"HG_170228_054_DE_N18\",\"HG_170228_054_GF_2_B_N8\",\"HG_170228_056_GF_3_N17\",\"HG_170228_060_GF_3_P3\",\"HG_170228_062_DE_N19\",\"HG_170228_062_GF_1_P8\",\"HG_170228_064_GF_1_N7\",\"HG_170228_068_DE_P2\",\"HG_170228_073_DE_N20\",\"HG_170228_077_GF_2_N9\",\"HG_170228_081_GF_1_P7\",\"HG_170228_083_DE_N21\",\"HG_170228_088_FJ_B_P9\",\"HG_170228_088_FJ_C_N23\",\"HG_170228_089_GF_1_N11\",\"HG_170228_092_GF_2_N12\",\"HG_170228_093_GF_1_A_N13\",\"HG_170228_096_FJ_P10\",\"HG_170228_100_FJ_P6\",\"HG_170228_108_GF_2_N1\",\"HG_170228_113_FJ_N4\",\"HG_170228_113_GF_2_N2\",\"HG_170228_117_GF_3_N16\",\"HG_170228_126_GF_3_N25\",\"HG_170228_144_DE_N6\",\"HG_170228_161_DE_N14\",\"HG_170228_200_FJ_P12\",\"HG_170228_203_DE_P4\",\"HG_170228_204_FJ_N26\",\"HG_170228_209_FJ_N27\",\"HG_170228_214_DE_P11\",\"HG_170302_003_FJ_N2\",\"HG_170302_008_FJ_N3\",\"HG_170302_013_DE_1_P1\",\"HG_170302_015_FJ_N4\",\"HG_170302_024_FJ_N5\",\"HG_170302_028_FJ_P2\",\"HG_170302_032_FJ_P3\",\"HG_170302_033_FJ_N1\",\"HG_170302_038_DE_1_P4\",\"HG_170302_041_FJ_A_N7\",\"HG_170302_056_FJ_N6\",\"HG_170303_001_GF_P9\",\"HG_170303_010_GF_N12\",\"HG_170303_022_FJ_A_P6\",\"HG_170225_014_FJ_N1\",\"HG_170225_016_FJ_N7\",\"HG_170225_017_FJ_N8\",\"HG_170225_024_FJ_N2\",\"HG_170225_038_DE_2_N3\",\"HG_170225_063_DE_2_A_N6\",\"HG_170225_063_DE_2_B_N4\",\"HG_170225_068_DE_2_N5\",\"HG_170226_049_FJ_P10\",\"HG_170226_058_FJ_P5\",\"HG_170226_060_FJ_N18\",\"HG_170226_062_FJ_P6\",\"HG_170226_063_GF_P3\",\"HG_170226_065_FJ_N1\",\"HG_170226_069_FJ_P11\",\"HG_170226_072_FJ_N3\",\"HG_170226_074_GF_N4\",\"HG_170226_081_FJ_P7\",\"HG_170226_087_DE_1_N6\",\"HG_170226_091_FJ_N8\",\"HG_170226_097_DE_1_N7\",\"HG_170226_098_FJ_N10\",\"HG_170226_107_FJ_P1\",\"HG_170226_137_FJ_N19\",\"HG_170226_140_DE_1_N24\",\"HG_170226_142_DE_1_N11\",\"HG_170226_149_DE_1_N12\",\"HG_170226_176_GF_N13\",\"HG_170226_182_GF_N21\",\"HG_170226_188_GF_P12\",\"HG_170226_193_DE_1_N14\",\"HG_170226_205_DE_1_P8\",\"HG_170226_205_GF_N2\",\"HG_170226_248_GF_N26\",\"HG_170226_254_GF_N16\",\"HG_170226_258_GF_N15\",\"HG_170226_289_GF_N17\",\"HG_170226_317_GF_P2\",\"HG_170226_333_GF_B_N22\",\"HG_170226_335_GF_A_N20\",\"HG_170226_343_GF_N23\",\"HG_170226_348_GF_N9\",\"HG_170226_379_GF_P9\",\"HG_170226_383_GF_N5\",\"HG_170226_389_GF_P4\",\"HG_170226_413_GF_N25\",\"HG_170227_013_FJ_N1\",\"HG_170227_015_FJ_N9\",\"HG_170227_025_FJ_N3\",\"HG_170227_027_FJ_N7\",\"HG_170227_060_FJ_N2\",\"HG_170227_064_FJ_N8\",\"HG_170227_168_FJ_N6\",\"HG_170227_176_FJ_N4\",\"HG_170223_041_FJ_N3\",\"HG_170223_043_DE_N5\",\"HG_170223_046_FJ_P12\",\"HG_170223_049_FJ_P13\",\"HG_170223_051_DE_P1\",\"HG_170223_053_FJ_N8\",\"HG_170223_055_DE_N2\",\"HG_170223_057_FJ_P9\",\"HG_170223_060_FJ_N7\",\"HG_170223_062_FJ_P4\",\"HG_170223_063_FJ_N6\",\"HG_170223_070_FJ_P6\",\"HG_170223_072_FJ_P5\",\"HG_170223_073_FJ_N10\",\"HG_170223_077_FJ_P7\",\"HG_170223_079_FJ_N11\",\"HG_170224_006_DE_N1\",\"HG_170224_011_GF_N3\",\"HG_170224_032_DE_N11\",\"HG_170224_032_FJ_A_N7\",\"HG_170224_032_FJ_B_N12\",\"HG_170224_036_GF_N4\",\"HG_170224_042_FJ_N10\",\"HG_170224_056_GF_N9\",\"HG_170224_058_DE_N25\",\"HG_170224_060_GF_N14\",\"HG_170224_080_DE_N20\",\"HG_170224_092_GF_N15\",\"HG_170224_096_GF_N16\",\"HG_170224_117_GF_N18\",\"HG_170224_125_DE_N26\",\"HG_170224_136_GF_N27\",\"HG_170224_139_GF_N21\",\"HG_170224_140_DE_N19\",\"HG_170224_143_DE_N2\",\"HG_170224_144_GF_N6\",\"HG_170224_150_GF_P1\",\"HG_170224_164_GF_P2\",\"HG_170224_164_PL_N8\",\"HG_170224_165_DE_N23\",\"HG_170224_167_GF_P3\",\"HG_170224_170_DE_N31\",\"HG_170224_173_DE_N32\",\"HG_170224_186_DE_N13\",\"HG_170224_189_DE_N5\",\"HG_170224_192_DE_N24\",\"HG_170224_266_GF_N33\",\"HG_170224_306_GF_B_N29\",\"HG_170224_315_GF_N28\",\"HG_170224_319_GF_A_N22\",\"HG_170224_327_GF_N30\",\"HG_170224_340_GF_N17\",\"HG_170224_347_GF_P4\",\"HG_170224_371_GF_P5\",\"HG_170217_212_GF_A_N7\",\"HG_170217_213_GF_A_N12\",\"HG_170217_213_GF_C_N21\",\"HG_170217_213_GF_D_N34\",\"HG_170217_263_GF_A_P12\",\"HG_170217_267_GF_N22\",\"HG_170217_271_GF_N17\",\"HG_170217_313_GF_N28\",\"HG_170217_317_GF_A_N19\",\"HG_170217_320_GF_C_N30\",\"HG_170222_005_DE_N5\",\"HG_170222_009_FJ_N11\",\"HG_170222_011_DE_P6\",\"HG_170222_012_FJ_N6\",\"HG_170222_018_DE_N7\",\"HG_170222_019_DE_P1\",\"HG_170222_030_DE_N9\",\"HG_170222_036_FJ_P11\",\"HG_170222_042_DE_A_N13\",\"HG_170222_042_FJ_N12\",\"HG_170222_043_FJ_P3\",\"HG_170222_046_FJ_A_N8\",\"HG_170222_049_FJ_P2\",\"HG_170222_054_DE_A_N10\",\"HG_170222_054_FJ_N1\",\"HG_170222_057_DE_P9\",\"HG_170222_058_FJ_B_N19\",\"HG_170222_059_DE_N14\",\"HG_170222_064_FJ_B_P5\",\"HG_170222_074_FJ_B_P7\",\"HG_170222_083_FJ_P4\",\"HG_170222_098_DE_P8\",\"HG_170222_106_DE_P12\",\"HG_170222_110_FJ_P13\",\"HG_170222_112_FJ_N15\",\"HG_170222_125_FJ_N2\",\"HG_170222_128_DE_P17\"],\"outlier\":[0,0,1,0,1,1,1,1,1,1,0,1,1,1,0,1,1,1,0,1,0,1,0,1,1,1,1,0,0,1,1,1,1,0,1,1,1,1,0,1,1,0,1,1,1,1,1,1,1,1,1,1,0,0,1,0,0,1,1,1,0,1,1,1,0,1,1,0,0,1,1,0,1,1,1,1,1,1,0,1,1,1,1,0,1,1,1,1,1,1,1,1,0,1,1,1,1,1,1,1,0,0,0,1,1,0,1,1,1,1,1,1,1,1,1,1,1,0,1,1,1,0,1,0,1,1,1,1,1,1,1,1,1,1,0,1,0,0,1,1,0,1,1,1,1,1,1,1,0,1,1,1,1,0,1,1,1,1,0,1,1,1,1,0,1,1,1,1,0,1,1,1,0,1,1,1,1,1,1,1,1,1,1,1,0,0,1,1,1,1,1,0,0,1,0,1,1,1,1,1,0,1,1,1,1,1,1,0,1,1,1,1,1,1,1,1,1,1,1,1,1,1,1,1,1,0,1,0,0,0,1,0,1,1,1,0,0,1,1,1,1,1,1,1,1,1,1,1,0,1,1,1,1,1,0,1,0,1,1,1,1,1,0,1,1,1,1,0,1,1,1,1,0,1,0,0,0,1,1,1,1,1,1,1,1,1,1,1,1,1,1,1,1,1,1,1,0,1,1,0],\"probability\":{\"__ndarray__\":\"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\",\"dtype\":\"float64\",\"order\":\"little\",\"shape\":[300]},\"x\":{\"__ndarray__\":\"h8kGwVtYB8HOyxPB2RwOwR28CMGB2ATB6KETwTqhEMFDiyfBPGlNwWH/BsF4cUnBLXwpwZkmM8HBcTjBiiwfwe1OLcHd4x7BuUIswc4O/cBlm0rBgjJHwThEMsG7XwLB8tYYwQkgK8He8B3BPBE8wUNnNcGVZy3BYX0kwQLfVMHP9SzBCaVEwdjMM8HnxiLBTjtLwc34P8FEbEnB7XJVwTNNR8EKx0rBHoM+wbTlOsEqD0nBwLcTwXMx8MCgn1fBaxYtwWPqNMEJ5T/B2x0YwZHJTsESfhjBL/8awZVtFMHjOVHBsSU5wQFjKcGMe0zB60gSwR+SGsHAt0vBmx5SwQn2OcGMvkTBDPdXwc0dMMECbE/B27ETwdJLQcFM/T3Bg0sPwT5/Q8HWpkHBJFVDwUz0TMFEeE3BGsBKwXkjPsFjEj3BiXInwS5xRsGa4TrBqaw/wWAeSsG/gxnBgSHowFXoMsFeQPvAzmHzwOWIJsE4SgTBWiokweZmA8F4SUTBCEA1wQIWMMG7G1TBziAowWJaOMGNhCXBScULwYSl+8C0nA/BpE4ZwU5HEME28OrATxcEwZbxF8EtzTLB3HkZwSPYP8EAyObA3pFVweUf7cCwGwfBKeE8wbewN8EiQRXBvJAewcQmNsFWsPPA+kUIwVEuB8GCgwDB8Pn0wIqj5MCWbxnBXWzqwAdaNcFPhw7B+6cvwaPdPMGOJTPB9wM8wau5LcFgejPBxvMwwWN+GMHwEQrB+FBCwc4zQMHTbSPBPiULwdk9J8EFUCfBfuUlwU87R8ElriHBut8qwQCkN8HHVD3B9yg4wTe3UsED2EzBHNxRwfr+VMG/2gXBippWwVOzTsG6Y0zB4pdJweRmQ8E/yDTBq6E/wVJ7IMHragTB745KwfgjPsG7JEHBhockwb2QTMH5/0TBidNZwQ7KVcG1fUXByjdQwT4kWcEyVVzBtc1bwXh4QcENMljBtKlawVVbTMF/FjfBU3tXwWMnLcG1YjDBO8pAweRpVMFizRDBT2g4wd3eQcGYw0TBAkdPwUkPScFi4AfB7dIOwdVZAcFGODDBpFk9wUNdLsFLMFHBjdhEwTmsUMHAXEDBMw8DwbphHMF/7C3BswcBweMzPcHaj0PB6VfowP1JQ8H4RjfBIer0wKNx68D9nBrBa/QDweSt88CCRi3Bf90iwbaHMsEnDU3BTjpFwet2C8Fp8kTBh8UJwdDQDsGmPvfAg24uwV1sMcFfoB7BoxNKwRqWPsEgoDvBtvA7wbExRcEAwDfBUzUTwZgJD8HCUBXBNvomwWuJL8FpiTbBXA8AwYoLNME+c0PBndgbwcB3SMEdJyrBdsVCwYX0LcHzEDrBV34swQLoC8G/TDbBpKv9wAauMsE7dSDBnj3qwOq0CsGK0SzBN9ApwVlHEMFbVBzBCIUyweTXBcFv3P3AO5cpwQpbDsGxrwXBxQcUwTqQCMHSWDLBgVchwZBWFMGTuBfBZoQeweIpHMEcciXBkPFMwRgeLMEZVPzARe4OwXFaAMGG/CPBk1rswA1hHsEj0A3BzHMWwXA/AsFHwRvBMnIvwY0dEcH2PDXBK2YkwUGbJMEIFTfB\",\"dtype\":\"float32\",\"order\":\"little\",\"shape\":[300]},\"y\":{\"__ndarray__\":\"lj05PwpLRj7FwFE/vAsWvw7L0D9VXaM/uca1P90sgz/NMxg/5YokQCbu277ytsc/L4r5P9WUhr8XuiI+SuH8v+bxFkCnIi9AVCu3PzOPCj9Q/TE/hgOLP1QQ5T/6U7g/MJdnv4589L727RpArAGwvzliDr9FJlNArEwUQEHY2r/4Iy1AM563v5mffT+kHybAmMkVwPdjR0AZWBK/Aq8HQNEjtD+9B+W/xHyTv9rDDkDFq/c/8FEPQGKHaD827Aq/xF0rwOkzTUAqAt6+/lMUwLLwqL/Ohjy/H/nov/vpA7/mxMC9MS/wvxMH+b8XVwtAy32Jv6laV7/DqvU/qrTePzzAwT/NokhAwK8dv6rS8L1Ua6m/PH2VPlj/BsCHnzG+jPqev47gOMCgECrA3oIaQIrZzb+GPhW/VBJBPbI5gj+JTzzAbyG8vwA8MECRUcC/xXWhP32kJ0ATmUM/g1ZMP6cvvT8GFMy/C2SuP8pd577FDTI+E1KjP3wY6T801DbA3pADQFg9cb/2qN++y1oIvxCyab3oYwI9VMSDPn1gIb+IDRnANUkFv2ANJcCJbcu/GT6Lv4mZGMCbVdS/qVkvQBaTLkDkR2+/k7hrvwM1Mr+Rvvu/kx+AvsWMbL/G/gfAhSGOv20KTz1Idt+/Y9uXv8VYgT9OFZK/JH9EP31fQ7/0qam/JEKEv3VVXkCotNK/g70MQBOCKkDBaMq9+kwywPltY72ELsM/+WMpwLbf2zsNGIa/ynNDP2cp97+U/e4/AN3Kv6lDRECaCERAyNlXQIdQ/D1MWRbAMqM2QEOXKECzIe0/6T2gPjyblT7QXmu/MRejPrXzNz99IEy/STXevwr1AMCj7SXAJtkTwA1VnD4pHN6/fSkMPyovp7+cqv+/ugI3vqpWxD+TLAe/WMzkvznKSL1uRBBAHl6Wv4JslT5kjWA/BrzwPwAwZT8Rsb89PbJcPbAQS0BQIIy/EbW3vdZS1L/Zl4o+x7+HP7Ihwj7sqFJAcakOwCK3hb/lB0G/u2+Wv1JatL9TUd2/xHKRP76Fwb7FFA7AqG0HwPqVwb/9vG0+Lej4P+INHkDcDLS/QbN/v6XihD85/u4/3xyWPYa6J8ApD0VAokkJv37whD9xJy5AI7Fiv40qoj/YDjjAmFrDPlhTQr3d+AdAPyKgvze1qT+2boC+4JDuPiAjkD/j4po+tI2bvwvtrL8+MpS/HoHFvoLiZ74VFgK+4maHv0ZvWUBvRX6+ZGD7PzQ3Vz6rybC+IkEBwCpHBj+pDCRATYZfvsWCYb/mxfO9ZnXIv5h2MsBaHCXAJOkAwI1/Rr+8iDa+cgnTv/RCIr//L/E/rlMbwFM1Rr9GCzq/leMvQJSrsz4HiJW/I/aJvy+zF8BPnPq/ZLzcvXIzMD7hA/C/nkPIP7BwJz91mwA/ElvDP4LRyz86cri+uIy3vwicCED/eEy+Dnbjv3HHSD8x21g/+YzgvvE7Oj+phAJAJVpKvNATcr//NIM/pUioP5hQQT+agRU//LgvP8nWjz88+38/agtsPwo6DD+XWuU/0VKsPxr9Nj9reoM/yvKePyvIoz8SFD0/gCKHvzHlx74uBnM/\",\"dtype\":\"float32\",\"order\":\"little\",\"shape\":[300]}},\"selected\":{\"id\":\"6514\"},\"selection_policy\":{\"id\":\"6515\"}},\"id\":\"6256\",\"type\":\"ColumnDataSource\"},{\"attributes\":{},\"id\":\"6264\",\"type\":\"LinearScale\"},{\"attributes\":{},\"id\":\"6277\",\"type\":\"SaveTool\"},{\"attributes\":{},\"id\":\"6278\",\"type\":\"ResetTool\"},{\"attributes\":{},\"id\":\"6262\",\"type\":\"LinearScale\"},{\"attributes\":{},\"id\":\"6514\",\"type\":\"Selection\"},{\"attributes\":{\"axis\":{\"id\":\"6266\"},\"ticker\":null,\"visible\":false},\"id\":\"6269\",\"type\":\"Grid\"},{\"attributes\":{\"active_multi\":null,\"tools\":[{\"id\":\"6274\"},{\"id\":\"6275\"},{\"id\":\"6276\"},{\"id\":\"6277\"},{\"id\":\"6278\"},{\"id\":\"6279\"},{\"id\":\"6281\"}]},\"id\":\"6282\",\"type\":\"Toolbar\"},{\"attributes\":{\"callback\":null,\"tooltips\":[[\"index\",\"@{index}\"],[\"name\",\"@{name}\"],[\"file\",\"@{file}\"],[\"class\",\"@{class}\"],[\"probability\",\"@{probability}\"],[\"outlier\",\"@{outlier}\"]]},\"id\":\"6281\",\"type\":\"HoverTool\"},{\"attributes\":{\"source\":{\"id\":\"6256\"}},\"id\":\"6294\",\"type\":\"CDSView\"},{\"attributes\":{},\"id\":\"6258\",\"type\":\"DataRange1d\"}],\"root_ids\":[\"6257\"]},\"title\":\"Bokeh Application\",\"version\":\"2.3.1\"}};\n",
       "  var render_items = [{\"docid\":\"81fc0c1f-1dbb-43a6-ab0e-57590471e346\",\"root_ids\":[\"6257\"],\"roots\":{\"6257\":\"e6923415-2e1e-4796-896e-61837b514885\"}}];\n",
       "  root.Bokeh.embed.embed_items_notebook(docs_json, render_items);\n",
       "\n",
       "  }\n",
       "  if (root.Bokeh !== undefined) {\n",
       "    embed_document(root);\n",
       "  } else {\n",
       "    var attempts = 0;\n",
       "    var timer = setInterval(function(root) {\n",
       "      if (root.Bokeh !== undefined) {\n",
       "        clearInterval(timer);\n",
       "        embed_document(root);\n",
       "      } else {\n",
       "        attempts++;\n",
       "        if (attempts > 100) {\n",
       "          clearInterval(timer);\n",
       "          console.log(\"Bokeh: ERROR: Unable to run BokehJS code because BokehJS library is missing\");\n",
       "        }\n",
       "      }\n",
       "    }, 10, root)\n",
       "  }\n",
       "})(window);"
      ],
      "application/vnd.bokehjs_exec.v0+json": ""
     },
     "metadata": {
      "application/vnd.bokehjs_exec.v0+json": {
       "id": "6257"
      }
     },
     "output_type": "display_data"
    }
   ],
   "source": [
    "p = umap.plot.interactive(mapper, labels = cluster.labels_,hover_data = hover_data, point_size = 5)\n",
    "output_notebook()\n",
    "bokeh_show(p)"
   ]
  },
  {
   "cell_type": "code",
   "execution_count": 221,
   "id": "6b3c29f4",
   "metadata": {},
   "outputs": [
    {
     "data": {
      "text/plain": [
       "'{\"target_id\": null, \"root_id\": \"5898\", \"doc\": {\"defs\": [], \"roots\": {\"references\": [{\"attributes\": {\"background_fill_color\": \"white\", \"below\": [{\"id\":'"
      ]
     },
     "execution_count": 221,
     "metadata": {},
     "output_type": "execute_result"
    }
   ],
   "source": [
    "p_json = json.dumps(json_item(p))\n",
    "p_json[0:150]"
   ]
  },
  {
   "cell_type": "code",
   "execution_count": 222,
   "id": "7d3a2d12",
   "metadata": {},
   "outputs": [
    {
     "data": {
      "text/html": [
       "<div id=\"umap\"></div>"
      ],
      "text/plain": [
       "<IPython.core.display.HTML object>"
      ]
     },
     "metadata": {},
     "output_type": "display_data"
    },
    {
     "data": {
      "application/javascript": [
       "Bokeh.embed.embed_item({\"target_id\": null, \"root_id\": \"5898\", \"doc\": {\"defs\": [], \"roots\": {\"references\": [{\"attributes\": {\"background_fill_color\": \"white\", \"below\": [{\"id\": \"5907\"}], \"center\": [{\"id\": \"5910\"}, {\"id\": \"5914\"}], \"height\": 800, \"left\": [{\"id\": \"5911\"}], \"renderers\": [{\"id\": \"5934\"}], \"title\": {\"id\": \"6135\"}, \"toolbar\": {\"id\": \"5923\"}, \"width\": 800, \"x_range\": {\"id\": \"5899\"}, \"x_scale\": {\"id\": \"5903\"}, \"y_range\": {\"id\": \"5901\"}, \"y_scale\": {\"id\": \"5905\"}}, \"id\": \"5898\", \"subtype\": \"Figure\", \"type\": \"Plot\"}, {\"attributes\": {}, \"id\": \"5916\", \"type\": \"WheelZoomTool\"}, {\"attributes\": {\"active_multi\": null, \"tools\": [{\"id\": \"5915\"}, {\"id\": \"5916\"}, {\"id\": \"5917\"}, {\"id\": \"5918\"}, {\"id\": \"5919\"}, {\"id\": \"5920\"}, {\"id\": \"5922\"}]}, \"id\": \"5923\", \"type\": \"Toolbar\"}, {\"attributes\": {\"formatter\": {\"id\": \"6140\"}, \"major_label_policy\": {\"id\": \"6141\"}, \"ticker\": {\"id\": \"5912\"}, \"visible\": false}, \"id\": \"5911\", \"type\": \"LinearAxis\"}, {\"attributes\": {\"formatter\": {\"id\": \"6137\"}, \"major_label_policy\": {\"id\": \"6138\"}, \"ticker\": {\"id\": \"5908\"}, \"visible\": false}, \"id\": \"5907\", \"type\": \"LinearAxis\"}, {\"attributes\": {\"data_source\": {\"id\": \"5897\"}, \"glyph\": {\"id\": \"5932\"}, \"hover_glyph\": null, \"muted_glyph\": null, \"nonselection_glyph\": {\"id\": \"5933\"}, \"view\": {\"id\": \"5935\"}}, \"id\": \"5934\", \"type\": \"GlyphRenderer\"}, {\"attributes\": {}, \"id\": \"6137\", \"type\": \"BasicTickFormatter\"}, {\"attributes\": {\"bottom_units\": \"screen\", \"fill_alpha\": 0.5, \"fill_color\": \"lightgrey\", \"left_units\": \"screen\", \"level\": \"overlay\", \"line_alpha\": 1.0, \"line_color\": \"black\", \"line_dash\": [4, 4], \"line_width\": 2, \"right_units\": \"screen\", \"syncable\": false, \"top_units\": \"screen\"}, \"id\": \"5921\", \"type\": \"BoxAnnotation\"}, {\"attributes\": {}, \"id\": \"5899\", \"type\": \"DataRange1d\"}, {\"attributes\": {}, \"id\": \"5920\", \"type\": \"HelpTool\"}, {\"attributes\": {}, \"id\": \"6140\", \"type\": \"BasicTickFormatter\"}, {\"attributes\": {}, \"id\": \"5915\", \"type\": \"PanTool\"}, {\"attributes\": {}, \"id\": \"6145\", \"type\": \"UnionRenderers\"}, {\"attributes\": {\"fill_alpha\": {\"value\": 0.1}, \"fill_color\": {\"field\": \"color\"}, \"line_alpha\": {\"value\": 0.1}, \"line_color\": {\"field\": \"color\"}, \"size\": {\"value\": 5}, \"x\": {\"field\": \"x\"}, \"y\": {\"field\": \"y\"}}, \"id\": \"5933\", \"type\": \"Circle\"}, {\"attributes\": {}, \"id\": \"5912\", \"type\": \"BasicTicker\"}, {\"attributes\": {\"axis\": {\"id\": \"5911\"}, \"dimension\": 1, \"ticker\": null, \"visible\": false}, \"id\": \"5914\", \"type\": \"Grid\"}, {\"attributes\": {}, \"id\": \"6141\", \"type\": \"AllLabels\"}, {\"attributes\": {\"data\": {\"alpha\": [1, 1, 1, 1, 1, 1, 1, 1, 1, 1, 1, 1, 1, 1, 1, 1, 1, 1, 1, 1, 1, 1, 1, 1, 1, 1, 1, 1, 1, 1, 1, 1, 1, 1, 1, 1, 1, 1, 1, 1, 1, 1, 1, 1, 1, 1, 1, 1, 1, 1, 1, 1, 1, 1, 1, 1, 1, 1, 1, 1, 1, 1, 1, 1, 1, 1, 1, 1, 1, 1, 1, 1, 1, 1, 1, 1, 1, 1, 1, 1, 1, 1, 1, 1, 1, 1, 1, 1, 1, 1, 1, 1, 1, 1, 1, 1, 1, 1, 1, 1, 1, 1, 1, 1, 1, 1, 1, 1, 1, 1, 1, 1, 1, 1, 1, 1, 1, 1, 1, 1, 1, 1, 1, 1, 1, 1, 1, 1, 1, 1, 1, 1, 1, 1, 1, 1, 1, 1, 1, 1, 1, 1, 1, 1, 1, 1, 1, 1, 1, 1, 1, 1, 1, 1, 1, 1, 1, 1, 1, 1, 1, 1, 1, 1, 1, 1, 1, 1, 1, 1, 1, 1, 1, 1, 1, 1, 1, 1, 1, 1, 1, 1, 1, 1, 1, 1, 1, 1, 1, 1, 1, 1, 1, 1, 1, 1, 1, 1, 1, 1, 1, 1, 1, 1, 1, 1, 1, 1, 1, 1, 1, 1, 1, 1, 1, 1, 1, 1, 1, 1, 1, 1, 1, 1, 1, 1, 1, 1, 1, 1, 1, 1, 1, 1, 1, 1, 1, 1, 1, 1, 1, 1, 1, 1, 1, 1, 1, 1, 1, 1, 1, 1, 1, 1, 1, 1, 1, 1, 1, 1, 1, 1, 1, 1, 1, 1, 1, 1, 1, 1, 1, 1, 1, 1, 1, 1, 1, 1, 1, 1, 1, 1, 1, 1, 1, 1, 1, 1, 1, 1, 1, 1, 1, 1, 1, 1, 1, 1, 1, 1], \"class\": [1, 1, 1, 1, -1, -1, -1, -1, -1, -1, 1, 0, -1, -1, -1, -1, -1, -1, 0, 1, -1, 0, 0, -1, 1, -1, -1, 0, -1, -1, -1, -1, -1, 0, 0, -1, -1, -1, 0, -1, 0, 0, 0, 0, -1, -1, -1, -1, -1, -1, -1, -1, 0, 1, -1, 1, -1, 0, -1, 0, -1, -1, -1, -1, 0, -1, -1, -1, 0, -1, 0, 0, 1, -1, -1, 0, -1, 0, -1, -1, -1, -1, -1, 0, 0, -1, 1, -1, -1, -1, -1, -1, 1, -1, -1, -1, 0, -1, 0, 0, 0, -1, 1, 1, -1, 1, -1, -1, 1, 1, -1, -1, -1, -1, 0, -1, -1, 0, 0, -1, 1, 0, -1, -1, -1, -1, -1, -1, 1, -1, -1, 1, 0, 0, 0, -1, 0, 0, -1, -1, 1, 0, 0, -1, -1, -1, -1, -1, 0, -1, -1, -1, 0, 0, -1, 0, -1, -1, 1, -1, -1, -1, -1, -1, 0, 0, 1, -1, -1, 0, 0, 1, -1, -1, -1, 0, 0, -1, -1, -1, -1, -1, -1, -1, 0, -1, -1, 0, -1, -1, -1, -1, -1, 0, 0, 0, 0, -1, -1, -1, 0, 0, -1, -1, 0, -1, -1, 1, -1, -1, -1, 0, -1, -1, 0, -1, -1, -1, -1, 1, -1, -1, -1, 0, -1, 0, 1, 0, -1, 1, -1, -1, -1, 1, 0, 0, 0, 0, 0, -1, 1, -1, 1, -1, -1, -1, -1, 0, 0, 1, 0, -1, -1, 0, -1, -1, 1, 0, -1, -1, -1, -1, 1, -1, 0, 1, -1, 0, -1, -1, -1, -1, 1, 1, 1, -1, -1, -1, -1, -1, 1, -1, 0, -1, 1, -1, -1, -1, -1, -1, -1, -1, 1, -1, -1, -1, 0, 1, 1, 0], \"color\": [\"#5e4fa2\", \"#5e4fa2\", \"#5e4fa2\", \"#5e4fa2\", \"#9e0142\", \"#9e0142\", \"#9e0142\", \"#9e0142\", \"#9e0142\", \"#9e0142\", \"#5e4fa2\", \"#ffffbe\", \"#9e0142\", \"#9e0142\", \"#9e0142\", \"#9e0142\", \"#9e0142\", \"#9e0142\", \"#ffffbe\", \"#5e4fa2\", \"#9e0142\", \"#ffffbe\", \"#ffffbe\", \"#9e0142\", \"#5e4fa2\", \"#9e0142\", \"#9e0142\", \"#ffffbe\", \"#9e0142\", \"#9e0142\", \"#9e0142\", \"#9e0142\", \"#9e0142\", \"#ffffbe\", \"#ffffbe\", \"#9e0142\", \"#9e0142\", \"#9e0142\", \"#ffffbe\", \"#9e0142\", \"#ffffbe\", \"#ffffbe\", \"#ffffbe\", \"#ffffbe\", \"#9e0142\", \"#9e0142\", \"#9e0142\", \"#9e0142\", \"#9e0142\", \"#9e0142\", \"#9e0142\", \"#9e0142\", \"#ffffbe\", \"#5e4fa2\", \"#9e0142\", \"#5e4fa2\", \"#9e0142\", \"#ffffbe\", \"#9e0142\", \"#ffffbe\", \"#9e0142\", \"#9e0142\", \"#9e0142\", \"#9e0142\", \"#ffffbe\", \"#9e0142\", \"#9e0142\", \"#9e0142\", \"#ffffbe\", \"#9e0142\", \"#ffffbe\", \"#ffffbe\", \"#5e4fa2\", \"#9e0142\", \"#9e0142\", \"#ffffbe\", \"#9e0142\", \"#ffffbe\", \"#9e0142\", \"#9e0142\", \"#9e0142\", \"#9e0142\", \"#9e0142\", \"#ffffbe\", \"#ffffbe\", \"#9e0142\", \"#5e4fa2\", \"#9e0142\", \"#9e0142\", \"#9e0142\", \"#9e0142\", \"#9e0142\", \"#5e4fa2\", \"#9e0142\", \"#9e0142\", \"#9e0142\", \"#ffffbe\", \"#9e0142\", \"#ffffbe\", \"#ffffbe\", \"#ffffbe\", \"#9e0142\", \"#5e4fa2\", \"#5e4fa2\", \"#9e0142\", \"#5e4fa2\", \"#9e0142\", \"#9e0142\", \"#5e4fa2\", \"#5e4fa2\", \"#9e0142\", \"#9e0142\", \"#9e0142\", \"#9e0142\", \"#ffffbe\", \"#9e0142\", \"#9e0142\", \"#ffffbe\", \"#ffffbe\", \"#9e0142\", \"#5e4fa2\", \"#ffffbe\", \"#9e0142\", \"#9e0142\", \"#9e0142\", \"#9e0142\", \"#9e0142\", \"#9e0142\", \"#5e4fa2\", \"#9e0142\", \"#9e0142\", \"#5e4fa2\", \"#ffffbe\", \"#ffffbe\", \"#ffffbe\", \"#9e0142\", \"#ffffbe\", \"#ffffbe\", \"#9e0142\", \"#9e0142\", \"#5e4fa2\", \"#ffffbe\", \"#ffffbe\", \"#9e0142\", \"#9e0142\", \"#9e0142\", \"#9e0142\", \"#9e0142\", \"#ffffbe\", \"#9e0142\", \"#9e0142\", \"#9e0142\", \"#ffffbe\", \"#ffffbe\", \"#9e0142\", \"#ffffbe\", \"#9e0142\", \"#9e0142\", \"#5e4fa2\", \"#9e0142\", \"#9e0142\", \"#9e0142\", \"#9e0142\", \"#9e0142\", \"#ffffbe\", \"#ffffbe\", \"#5e4fa2\", \"#9e0142\", \"#9e0142\", \"#ffffbe\", \"#ffffbe\", \"#5e4fa2\", \"#9e0142\", \"#9e0142\", \"#9e0142\", \"#ffffbe\", \"#ffffbe\", \"#9e0142\", \"#9e0142\", \"#9e0142\", \"#9e0142\", \"#9e0142\", \"#9e0142\", \"#9e0142\", \"#ffffbe\", \"#9e0142\", \"#9e0142\", \"#ffffbe\", \"#9e0142\", \"#9e0142\", \"#9e0142\", \"#9e0142\", \"#9e0142\", \"#ffffbe\", \"#ffffbe\", \"#ffffbe\", \"#ffffbe\", \"#9e0142\", \"#9e0142\", \"#9e0142\", \"#ffffbe\", \"#ffffbe\", \"#9e0142\", \"#9e0142\", \"#ffffbe\", \"#9e0142\", \"#9e0142\", \"#5e4fa2\", \"#9e0142\", \"#9e0142\", \"#9e0142\", \"#ffffbe\", \"#9e0142\", \"#9e0142\", \"#ffffbe\", \"#9e0142\", \"#9e0142\", \"#9e0142\", \"#9e0142\", \"#5e4fa2\", \"#9e0142\", \"#9e0142\", \"#9e0142\", \"#ffffbe\", \"#9e0142\", \"#ffffbe\", \"#5e4fa2\", \"#ffffbe\", \"#9e0142\", \"#5e4fa2\", \"#9e0142\", \"#9e0142\", \"#9e0142\", \"#5e4fa2\", \"#ffffbe\", \"#ffffbe\", \"#ffffbe\", \"#ffffbe\", \"#ffffbe\", \"#9e0142\", \"#5e4fa2\", \"#9e0142\", \"#5e4fa2\", \"#9e0142\", \"#9e0142\", \"#9e0142\", \"#9e0142\", \"#ffffbe\", \"#ffffbe\", \"#5e4fa2\", \"#ffffbe\", \"#9e0142\", \"#9e0142\", \"#ffffbe\", \"#9e0142\", \"#9e0142\", \"#5e4fa2\", \"#ffffbe\", \"#9e0142\", \"#9e0142\", \"#9e0142\", \"#9e0142\", \"#5e4fa2\", \"#9e0142\", \"#ffffbe\", \"#5e4fa2\", \"#9e0142\", \"#ffffbe\", \"#9e0142\", \"#9e0142\", \"#9e0142\", \"#9e0142\", \"#5e4fa2\", \"#5e4fa2\", \"#5e4fa2\", \"#9e0142\", \"#9e0142\", \"#9e0142\", \"#9e0142\", \"#9e0142\", \"#5e4fa2\", \"#9e0142\", \"#ffffbe\", \"#9e0142\", \"#5e4fa2\", \"#9e0142\", \"#9e0142\", \"#9e0142\", \"#9e0142\", \"#9e0142\", \"#9e0142\", \"#9e0142\", \"#5e4fa2\", \"#9e0142\", \"#9e0142\", \"#9e0142\", \"#ffffbe\", \"#5e4fa2\", \"#5e4fa2\", \"#ffffbe\"], \"file\": [\"../images/final_to_match/HG_170305_0027_DE_P4.jpg\", \"../images/final_to_match/HG_170305_0041_GF_P5.JPG\", \"../images/final_to_match/HG_170305_0046_GF_P6.JPG\", \"../images/final_to_match/HG_170305_0051_GF_P1.JPG\", \"../images/final_to_match/HG_170305_0067_GF_P7.JPG\", \"../images/final_to_match/HG_170305_0073_GF_N3.JPG\", \"../images/final_to_match/HG_170305_0091_GF_P8.JPG\", \"../images/final_to_match/HG_170305_0110_GF_N6.JPG\", \"../images/final_to_match/HG_170305_0115_GF_N5.JPG\", \"../images/final_to_match/HG_170305_0140_GF_N4.JPG\", \"../images/final_to_match/HG_170305_0154_GF_P2.JPG\", \"../images/final_to_match/HG_170305_0168_DE_N2.JPG\", \"../images/final_to_match/HG_170316_002_FJ_N1.jpg\", \"../images/final_to_match/HG_170316_017_FJ_N3.JPG\", \"../images/final_to_match/HG_170316_062_FJ_N10.JPG\", \"../images/final_to_match/HG_170316_064_FJ_N11.jpg\", \"../images/final_to_match/HG_170316_069_FJ_N12.JPG\", \"../images/final_to_match/HG_170316_091_FJ_N14.JPG\", \"../images/final_to_match/HG_170316_099_FJ_N17.jpg\", \"../images/final_to_match/HG_170316_105_FJ_N15.JPG\", \"../images/final_to_match/HG_170316_117_FJ_N6.jpg\", \"../images/final_to_match/HG_170316_130_FJ_N18.jpg\", \"../images/final_to_match/HG_170316_132_FJ_N7.JPG\", \"../images/final_to_match/HG_170316_134_FJ_N4.JPG\", \"../images/final_to_match/HG_170316_139_FJ_N16.JPG\", \"../images/final_to_match/HG_170316_151_FJ_N5.JPG\", \"../images/final_to_match/HG_170316_160_FJ_N19.jpg\", \"../images/final_to_match/HG_170316_172_FJ_N9.jpg\", \"../images/final_to_match/HG_170316_173_FJ_N13.JPG\", \"../images/final_to_match/HG_170316_190_FJ_21.JPG\", \"../images/final_to_match/HG_170316_192_FJ_N20.JPG\", \"../images/final_to_match/HG_170316_195_FJ_N8.JPG\", \"../images/final_to_match/HG_170316_197_FJ_N22.JPG\", \"../images/final_to_match/HG_170316_198_FJ_N23.jpg\", \"../images/final_to_match/HG_170316_200_FJ_N2.jpg\", \"../images/final_to_match/HG_170318_003_FJ_P2.jpg\", \"../images/final_to_match/HG_170318_005_GF_P3.jpg\", \"../images/final_to_match/HG_170318_014_GF_N1.jpg\", \"../images/final_to_match/HG_170318_022_FJ_P1.jpg\", \"../images/final_to_match/HG_170318_025_GF_N6.jpg\", \"../images/final_to_match/HG_170318_039_FJ_N2jpg.jpg\", \"../images/final_to_match/HG_170318_047_GF_N5.jpg\", \"../images/final_to_match/HG_170318_056_GF_A_N3.jpg\", \"../images/final_to_match/HG_170318_096_GF_N4.jpg\", \"../images/final_to_match/HG_20160330_014_DE_P1.JPG\", \"../images/final_to_match/HG_20160330_052_DE_P2.JPG\", \"../images/final_to_match/HG_20160330_249_DE_B_N1.JPG\", \"../images/final_to_match/HG_170303_023_FJ_B_N3.jpg\", \"../images/final_to_match/HG_170303_028_FJ_N5.jpg\", \"../images/final_to_match/HG_170303_031_GF_P8.jpg\", \"../images/final_to_match/HG_170303_032_DE_3_N7.jpg\", \"../images/final_to_match/HG_170303_036_FJ_N2.jpg\", \"../images/final_to_match/HG_170303_044_FJ_N9.jpg\", \"../images/final_to_match/HG_170303_045_DE_3_N4.jpg\", \"../images/final_to_match/HG_170303_049_FJ_B_P3.jpg\", \"../images/final_to_match/HG_170303_052_FJ_P1.jpg\", \"../images/final_to_match/HG_170303_053_GF_P5.jpg\", \"../images/final_to_match/HG_170303_062_FJ_N6.jpg\", \"../images/final_to_match/HG_170303_071_FJ_P7.jpg\", \"../images/final_to_match/HG_170303_073_FJ_N11.jpg\", \"../images/final_to_match/HG_170303_075_FJ_N10.jpg\", \"../images/final_to_match/HG_170303_076_FJ_P4.jpg\", \"../images/final_to_match/HG_170303_078_GF_N24.jpg\", \"../images/final_to_match/HG_170303_092_GF_N19.jpg\", \"../images/final_to_match/HG_170303_136_GF_N1.jpg\", \"../images/final_to_match/HG_170303_182_GF_N18.jpg\", \"../images/final_to_match/HG_170303_198_GF_N8.jpg\", \"../images/final_to_match/HG_170303_232_GF_B_N13.jpg\", \"../images/final_to_match/HG_170303_234_GF_A_N15.jpg\", \"../images/final_to_match/HG_170303_238_GF_N25.jpg\", \"../images/final_to_match/HG_170303_245_GF_N16.jpg\", \"../images/final_to_match/HG_170303_262_GF_P10.jpg\", \"../images/final_to_match/HG_170303_278_GF_B_P2.jpg\", \"../images/final_to_match/HG_170303_288_GF_N20.jpg\", \"../images/final_to_match/HG_170303_295_GF_N21.jpg\", \"../images/final_to_match/HG_170303_307_GF_N23.jpg\", \"../images/final_to_match/HG_170303_312_GF_N22.jpg\", \"../images/final_to_match/HG_170303_317_GF_N17.jpg\", \"../images/final_to_match/HG_170303_326_GF_N14.jpg\", \"../images/final_to_match/HG_170304_0004_FJ_N1.JPG\", \"../images/final_to_match/HG_170304_0018_FJ_P3.JPG\", \"../images/final_to_match/HG_170304_0021_FJ_N6.JPG\", \"../images/final_to_match/HG_170304_0022_GF_N3.JPG\", \"../images/final_to_match/HG_170304_0043_FJ_N9.JPG\", \"../images/final_to_match/HG_170304_0048_GF_P1.JPG\", \"../images/final_to_match/HG_170304_0084_GF_N15.JPG\", \"../images/final_to_match/HG_170304_0105_GF_P2.JPG\", \"../images/final_to_match/HG_170304_0124_GF_N16.JPG\", \"../images/final_to_match/HG_170304_0131_GF_N17.JPG\", \"../images/final_to_match/HG_170304_0141_GF_N5.JPG\", \"../images/final_to_match/HG_170304_0278_GF_N2.JPG\", \"../images/final_to_match/HG_170304_0310_GF_N8.JPG\", \"../images/final_to_match/HG_170304_0318_GF_N11.JPG\", \"../images/final_to_match/HG_170304_0328_GF_N4.JPG\", \"../images/final_to_match/HG_170304_0338_GF_N7.JPG\", \"../images/final_to_match/HG_170304_0353_GF_N10.JPG\", \"../images/final_to_match/HG_170304_0372_GF_N12.JPG\", \"../images/final_to_match/HG_170304_0400_GF_N13.JPG\", \"../images/final_to_match/HG_170304_0414_GF_N14.JPG\", \"../images/final_to_match/HG_170305_0008_GF_P3.JPG\", \"../images/final_to_match/HG_170305_0018_GF_N1.JPG\", \"../images/final_to_match/HG_170227_181_FJ_N5.jpg\", \"../images/final_to_match/HG_170228_001_DE_P1.JPG\", \"../images/final_to_match/HG_170228_002_GF_2_A_N10.JPG\", \"../images/final_to_match/HG_170228_012_GF_2_P5.JPG\", \"../images/final_to_match/HG_170228_024_GF_2_N5.JPG\", \"../images/final_to_match/HG_170228_034_GF_3_N3.JPG\", \"../images/final_to_match/HG_170228_038_GF_3_N15.JPG\", \"../images/final_to_match/HG_170228_039_FJ_N24.JPG\", \"../images/final_to_match/HG_170228_052_GF_1_A_N22.JPG\", \"../images/final_to_match/HG_170228_054_DE_N18.JPG\", \"../images/final_to_match/HG_170228_054_GF_2_B_N8.JPG\", \"../images/final_to_match/HG_170228_056_GF_3_N17.JPG\", \"../images/final_to_match/HG_170228_060_GF_3_P3.JPG\", \"../images/final_to_match/HG_170228_062_DE_N19.JPG\", \"../images/final_to_match/HG_170228_062_GF_1_P8.JPG\", \"../images/final_to_match/HG_170228_064_GF_1_N7.JPG\", \"../images/final_to_match/HG_170228_068_DE_P2.JPG\", \"../images/final_to_match/HG_170228_073_DE_N20.JPG\", \"../images/final_to_match/HG_170228_077_GF_2_N9.JPG\", \"../images/final_to_match/HG_170228_081_GF_1_P7.JPG\", \"../images/final_to_match/HG_170228_083_DE_N21.JPG\", \"../images/final_to_match/HG_170228_088_FJ_B_P9.JPG\", \"../images/final_to_match/HG_170228_088_FJ_C_N23.JPG\", \"../images/final_to_match/HG_170228_089_GF_1_N11.JPG\", \"../images/final_to_match/HG_170228_092_GF_2_N12.JPG\", \"../images/final_to_match/HG_170228_093_GF_1_A_N13.JPG\", \"../images/final_to_match/HG_170228_096_FJ_P10.JPG\", \"../images/final_to_match/HG_170228_100_FJ_P6.JPG\", \"../images/final_to_match/HG_170228_108_GF_2_N1.JPG\", \"../images/final_to_match/HG_170228_113_FJ_N4.JPG\", \"../images/final_to_match/HG_170228_113_GF_2_N2.JPG\", \"../images/final_to_match/HG_170228_117_GF_3_N16.JPG\", \"../images/final_to_match/HG_170228_126_GF_3_N25.JPG\", \"../images/final_to_match/HG_170228_144_DE_N6.JPG\", \"../images/final_to_match/HG_170228_161_DE_N14.JPG\", \"../images/final_to_match/HG_170228_200_FJ_P12.JPG\", \"../images/final_to_match/HG_170228_203_DE_P4.JPG\", \"../images/final_to_match/HG_170228_204_FJ_N26.JPG\", \"../images/final_to_match/HG_170228_209_FJ_N27.JPG\", \"../images/final_to_match/HG_170228_214_DE_P11.JPG\", \"../images/final_to_match/HG_170302_003_FJ_N2.JPG\", \"../images/final_to_match/HG_170302_008_FJ_N3.JPG\", \"../images/final_to_match/HG_170302_013_DE_1_P1.JPG\", \"../images/final_to_match/HG_170302_015_FJ_N4.jpg\", \"../images/final_to_match/HG_170302_024_FJ_N5.JPG\", \"../images/final_to_match/HG_170302_028_FJ_P2.jpg\", \"../images/final_to_match/HG_170302_032_FJ_P3.JPG\", \"../images/final_to_match/HG_170302_033_FJ_N1.jpg\", \"../images/final_to_match/HG_170302_038_DE_1_P4.JPG\", \"../images/final_to_match/HG_170302_041_FJ_A_N7.jpg\", \"../images/final_to_match/HG_170302_056_FJ_N6.JPG\", \"../images/final_to_match/HG_170303_001_GF_P9.jpg\", \"../images/final_to_match/HG_170303_010_GF_N12.jpg\", \"../images/final_to_match/HG_170303_022_FJ_A_P6.jpg\", \"../images/final_to_match/HG_170225_014_FJ_N1.jpg\", \"../images/final_to_match/HG_170225_016_FJ_N7.jpg\", \"../images/final_to_match/HG_170225_017_FJ_N8.jpg\", \"../images/final_to_match/HG_170225_024_FJ_N2.jpg\", \"../images/final_to_match/HG_170225_038_DE_2_N3.jpg\", \"../images/final_to_match/HG_170225_063_DE_2_A_N6.jpg\", \"../images/final_to_match/HG_170225_063_DE_2_B_N4.jpg\", \"../images/final_to_match/HG_170225_068_DE_2_N5.jpg\", \"../images/final_to_match/HG_170226_049_FJ_P10.JPG\", \"../images/final_to_match/HG_170226_058_FJ_P5.JPG\", \"../images/final_to_match/HG_170226_060_FJ_N18.jpg\", \"../images/final_to_match/HG_170226_062_FJ_P6.JPG\", \"../images/final_to_match/HG_170226_063_GF_P3.JPG\", \"../images/final_to_match/HG_170226_065_FJ_N1.jpg\", \"../images/final_to_match/HG_170226_069_FJ_P11.JPG\", \"../images/final_to_match/HG_170226_072_FJ_N3.JPG\", \"../images/final_to_match/HG_170226_074_GF_N4.jpg\", \"../images/final_to_match/HG_170226_081_FJ_P7.JPG\", \"../images/final_to_match/HG_170226_087_DE_1_N6.jpg\", \"../images/final_to_match/HG_170226_091_FJ_N8.JPG\", \"../images/final_to_match/HG_170226_097_DE_1_N7.jpg\", \"../images/final_to_match/HG_170226_098_FJ_N10.jpg\", \"../images/final_to_match/HG_170226_107_FJ_P1.jpg\", \"../images/final_to_match/HG_170226_137_FJ_N19.jpg\", \"../images/final_to_match/HG_170226_140_DE_1_N24.jpg\", \"../images/final_to_match/HG_170226_142_DE_1_N11.JPG\", \"../images/final_to_match/HG_170226_149_DE_1_N12.jpg\", \"../images/final_to_match/HG_170226_176_GF_N13.jpg\", \"../images/final_to_match/HG_170226_182_GF_N21.JPG\", \"../images/final_to_match/HG_170226_188_GF_P12.JPG\", \"../images/final_to_match/HG_170226_193_DE_1_N14.jpg\", \"../images/final_to_match/HG_170226_205_DE_1_P8.JPG\", \"../images/final_to_match/HG_170226_205_GF_N2.JPG\", \"../images/final_to_match/HG_170226_248_GF_N26.JPG\", \"../images/final_to_match/HG_170226_254_GF_N16.jpg\", \"../images/final_to_match/HG_170226_258_GF_N15.jpg\", \"../images/final_to_match/HG_170226_289_GF_N17.JPG\", \"../images/final_to_match/HG_170226_317_GF_P2.JPG\", \"../images/final_to_match/HG_170226_333_GF_B_N22.jpg\", \"../images/final_to_match/HG_170226_335_GF_A_N20.jpg\", \"../images/final_to_match/HG_170226_343_GF_N23.jpg\", \"../images/final_to_match/HG_170226_348_GF_N9.jpg\", \"../images/final_to_match/HG_170226_379_GF_P9.JPG\", \"../images/final_to_match/HG_170226_383_GF_N5.jpg\", \"../images/final_to_match/HG_170226_389_GF_P4.jpg\", \"../images/final_to_match/HG_170226_413_GF_N25.JPG\", \"../images/final_to_match/HG_170227_013_FJ_N1.jpg\", \"../images/final_to_match/HG_170227_015_FJ_N9.JPG\", \"../images/final_to_match/HG_170227_025_FJ_N3.jpg\", \"../images/final_to_match/HG_170227_027_FJ_N7.jpg\", \"../images/final_to_match/HG_170227_060_FJ_N2.jpg\", \"../images/final_to_match/HG_170227_064_FJ_N8.jpg\", \"../images/final_to_match/HG_170227_168_FJ_N6.jpg\", \"../images/final_to_match/HG_170227_176_FJ_N4.jpg\", \"../images/final_to_match/HG_170223_041_FJ_N3.JPG\", \"../images/final_to_match/HG_170223_043_DE_N5.JPG\", \"../images/final_to_match/HG_170223_046_FJ_P12.JPG\", \"../images/final_to_match/HG_170223_049_FJ_P13.JPG\", \"../images/final_to_match/HG_170223_051_DE_P1.JPG\", \"../images/final_to_match/HG_170223_053_FJ_N8.JPG\", \"../images/final_to_match/HG_170223_055_DE_N2.JPG\", \"../images/final_to_match/HG_170223_057_FJ_P9.JPG\", \"../images/final_to_match/HG_170223_060_FJ_N7.JPG\", \"../images/final_to_match/HG_170223_062_FJ_P4.JPG\", \"../images/final_to_match/HG_170223_063_FJ_N6.JPG\", \"../images/final_to_match/HG_170223_070_FJ_P6.JPG\", \"../images/final_to_match/HG_170223_072_FJ_P5.JPG\", \"../images/final_to_match/HG_170223_073_FJ_N10.JPG\", \"../images/final_to_match/HG_170223_077_FJ_P7.JPG\", \"../images/final_to_match/HG_170223_079_FJ_N11.JPG\", \"../images/final_to_match/HG_170224_006_DE_N1.jpg\", \"../images/final_to_match/HG_170224_011_GF_N3.jpg\", \"../images/final_to_match/HG_170224_032_DE_N11.jpg\", \"../images/final_to_match/HG_170224_032_FJ_A_N7.jpg\", \"../images/final_to_match/HG_170224_032_FJ_B_N12.jpg\", \"../images/final_to_match/HG_170224_036_GF_N4.jpg\", \"../images/final_to_match/HG_170224_042_FJ_N10.jpg\", \"../images/final_to_match/HG_170224_056_GF_N9.jpg\", \"../images/final_to_match/HG_170224_058_DE_N25.jpg\", \"../images/final_to_match/HG_170224_060_GF_N14.jpg\", \"../images/final_to_match/HG_170224_080_DE_N20.jpg\", \"../images/final_to_match/HG_170224_092_GF_N15.jpg\", \"../images/final_to_match/HG_170224_096_GF_N16.jpg\", \"../images/final_to_match/HG_170224_117_GF_N18.jpg\", \"../images/final_to_match/HG_170224_125_DE_N26.jpg\", \"../images/final_to_match/HG_170224_136_GF_N27.jpg\", \"../images/final_to_match/HG_170224_139_GF_N21.jpg\", \"../images/final_to_match/HG_170224_140_DE_N19.jpg\", \"../images/final_to_match/HG_170224_143_DE_N2.jpg\", \"../images/final_to_match/HG_170224_144_GF_N6.jpg\", \"../images/final_to_match/HG_170224_150_GF_P1.jpg\", \"../images/final_to_match/HG_170224_164_GF_P2.jpg\", \"../images/final_to_match/HG_170224_164_PL_N8.jpg\", \"../images/final_to_match/HG_170224_165_DE_N23.jpg\", \"../images/final_to_match/HG_170224_167_GF_P3.jpg\", \"../images/final_to_match/HG_170224_170_DE_N31.jpg\", \"../images/final_to_match/HG_170224_173_DE_N32.jpg\", \"../images/final_to_match/HG_170224_186_DE_N13.jpg\", \"../images/final_to_match/HG_170224_189_DE_N5.jpg\", \"../images/final_to_match/HG_170224_192_DE_N24.jpg\", \"../images/final_to_match/HG_170224_266_GF_N33.JPG\", \"../images/final_to_match/HG_170224_306_GF_B_N29.jpg\", \"../images/final_to_match/HG_170224_315_GF_N28.jpg\", \"../images/final_to_match/HG_170224_319_GF_A_N22.jpg\", \"../images/final_to_match/HG_170224_327_GF_N30.jpg\", \"../images/final_to_match/HG_170224_340_GF_N17.jpg\", \"../images/final_to_match/HG_170224_347_GF_P4.jpg\", \"../images/final_to_match/HG_170224_371_GF_P5.jpg\", \"../images/final_to_match/HG_170217_212_GF_A_N7.JPG\", \"../images/final_to_match/HG_170217_213_GF_A_N12.JPG\", \"../images/final_to_match/HG_170217_213_GF_C_N21.JPG\", \"../images/final_to_match/HG_170217_213_GF_D_N34.JPG\", \"../images/final_to_match/HG_170217_263_GF_A_P12.JPG\", \"../images/final_to_match/HG_170217_267_GF_N22.JPG\", \"../images/final_to_match/HG_170217_271_GF_N17.JPG\", \"../images/final_to_match/HG_170217_313_GF_N28.JPG\", \"../images/final_to_match/HG_170217_317_GF_A_N19.JPG\", \"../images/final_to_match/HG_170217_320_GF_C_N30.JPG\", \"../images/final_to_match/HG_170222_005_DE_N5.JPG\", \"../images/final_to_match/HG_170222_009_FJ_N11.JPG\", \"../images/final_to_match/HG_170222_011_DE_P6.JPG\", \"../images/final_to_match/HG_170222_012_FJ_N6.JPG\", \"../images/final_to_match/HG_170222_018_DE_N7.JPG\", \"../images/final_to_match/HG_170222_019_DE_P1.JPG\", \"../images/final_to_match/HG_170222_030_DE_N9.JPG\", \"../images/final_to_match/HG_170222_036_FJ_P11.JPG\", \"../images/final_to_match/HG_170222_042_DE_A_N13.jpg\", \"../images/final_to_match/HG_170222_042_FJ_N12.JPG\", \"../images/final_to_match/HG_170222_043_FJ_P3.JPG\", \"../images/final_to_match/HG_170222_046_FJ_A_N8.jpg\", \"../images/final_to_match/HG_170222_049_FJ_P2.JPG\", \"../images/final_to_match/HG_170222_054_DE_A_N10.jpg\", \"../images/final_to_match/HG_170222_054_FJ_N1.JPG\", \"../images/final_to_match/HG_170222_057_DE_P9.JPG\", \"../images/final_to_match/HG_170222_058_FJ_B_N19.JPG\", \"../images/final_to_match/HG_170222_059_DE_N14.JPG\", \"../images/final_to_match/HG_170222_064_FJ_B_P5.jpg\", \"../images/final_to_match/HG_170222_074_FJ_B_P7.jpg\", \"../images/final_to_match/HG_170222_083_FJ_P4.JPG\", \"../images/final_to_match/HG_170222_098_DE_P8.JPG\", \"../images/final_to_match/HG_170222_106_DE_P12.JPG\", \"../images/final_to_match/HG_170222_110_FJ_P13.JPG\", \"../images/final_to_match/HG_170222_112_FJ_N15.JPG\", \"../images/final_to_match/HG_170222_125_FJ_N2.JPG\", \"../images/final_to_match/HG_170222_128_DE_P17.JPG\"], \"index\": [0, 1, 2, 3, 4, 5, 6, 7, 8, 9, 10, 11, 12, 13, 14, 15, 16, 17, 18, 19, 20, 21, 22, 23, 24, 25, 26, 27, 28, 29, 30, 31, 32, 33, 34, 35, 36, 37, 38, 39, 40, 41, 42, 43, 44, 45, 46, 47, 48, 49, 50, 51, 52, 53, 54, 55, 56, 57, 58, 59, 60, 61, 62, 63, 64, 65, 66, 67, 68, 69, 70, 71, 72, 73, 74, 75, 76, 77, 78, 79, 80, 81, 82, 83, 84, 85, 86, 87, 88, 89, 90, 91, 92, 93, 94, 95, 96, 97, 98, 99, 100, 101, 102, 103, 104, 105, 106, 107, 108, 109, 110, 111, 112, 113, 114, 115, 116, 117, 118, 119, 120, 121, 122, 123, 124, 125, 126, 127, 128, 129, 130, 131, 132, 133, 134, 135, 136, 137, 138, 139, 140, 141, 142, 143, 144, 145, 146, 147, 148, 149, 150, 151, 152, 153, 154, 155, 156, 157, 158, 159, 160, 161, 162, 163, 164, 165, 166, 167, 168, 169, 170, 171, 172, 173, 174, 175, 176, 177, 178, 179, 180, 181, 182, 183, 184, 185, 186, 187, 188, 189, 190, 191, 192, 193, 194, 195, 196, 197, 198, 199, 200, 201, 202, 203, 204, 205, 206, 207, 208, 209, 210, 211, 212, 213, 214, 215, 216, 217, 218, 219, 220, 221, 222, 223, 224, 225, 226, 227, 228, 229, 230, 231, 232, 233, 234, 235, 236, 237, 238, 239, 240, 241, 242, 243, 244, 245, 246, 247, 248, 249, 250, 251, 252, 253, 254, 255, 256, 257, 258, 259, 260, 261, 262, 263, 264, 265, 266, 267, 268, 269, 270, 271, 272, 273, 274, 275, 276, 277, 278, 279, 280, 281, 282, 283, 284, 285, 286, 287, 288, 289, 290, 291, 292, 293, 294, 295, 296, 297, 298, 299], \"label\": [1, 1, 1, 1, -1, -1, -1, -1, -1, -1, 1, 0, -1, -1, -1, -1, -1, -1, 0, 1, -1, 0, 0, -1, 1, -1, -1, 0, -1, -1, -1, -1, -1, 0, 0, -1, -1, -1, 0, -1, 0, 0, 0, 0, -1, -1, -1, -1, -1, -1, -1, -1, 0, 1, -1, 1, -1, 0, -1, 0, -1, -1, -1, -1, 0, -1, -1, -1, 0, -1, 0, 0, 1, -1, -1, 0, -1, 0, -1, -1, -1, -1, -1, 0, 0, -1, 1, -1, -1, -1, -1, -1, 1, -1, -1, -1, 0, -1, 0, 0, 0, -1, 1, 1, -1, 1, -1, -1, 1, 1, -1, -1, -1, -1, 0, -1, -1, 0, 0, -1, 1, 0, -1, -1, -1, -1, -1, -1, 1, -1, -1, 1, 0, 0, 0, -1, 0, 0, -1, -1, 1, 0, 0, -1, -1, -1, -1, -1, 0, -1, -1, -1, 0, 0, -1, 0, -1, -1, 1, -1, -1, -1, -1, -1, 0, 0, 1, -1, -1, 0, 0, 1, -1, -1, -1, 0, 0, -1, -1, -1, -1, -1, -1, -1, 0, -1, -1, 0, -1, -1, -1, -1, -1, 0, 0, 0, 0, -1, -1, -1, 0, 0, -1, -1, 0, -1, -1, 1, -1, -1, -1, 0, -1, -1, 0, -1, -1, -1, -1, 1, -1, -1, -1, 0, -1, 0, 1, 0, -1, 1, -1, -1, -1, 1, 0, 0, 0, 0, 0, -1, 1, -1, 1, -1, -1, -1, -1, 0, 0, 1, 0, -1, -1, 0, -1, -1, 1, 0, -1, -1, -1, -1, 1, -1, 0, 1, -1, 0, -1, -1, -1, -1, 1, 1, 1, -1, -1, -1, -1, -1, 1, -1, 0, -1, 1, -1, -1, -1, -1, -1, -1, -1, 1, -1, -1, -1, 0, 1, 1, 0], \"level_0\": [0, 1, 2, 3, 4, 5, 6, 7, 8, 9, 10, 11, 12, 13, 14, 15, 16, 17, 18, 19, 20, 21, 22, 23, 24, 25, 26, 27, 28, 29, 30, 31, 32, 33, 34, 35, 36, 37, 38, 39, 40, 41, 42, 43, 44, 45, 46, 47, 48, 49, 50, 51, 52, 53, 54, 55, 56, 57, 58, 59, 60, 61, 62, 63, 64, 65, 66, 67, 68, 69, 70, 71, 72, 73, 74, 75, 76, 77, 78, 79, 80, 81, 82, 83, 84, 85, 86, 87, 88, 89, 90, 91, 92, 93, 94, 95, 96, 97, 98, 99, 100, 101, 102, 103, 104, 105, 106, 107, 108, 109, 110, 111, 112, 113, 114, 115, 116, 117, 118, 119, 120, 121, 122, 123, 124, 125, 126, 127, 128, 129, 130, 131, 132, 133, 134, 135, 136, 137, 138, 139, 140, 141, 142, 143, 144, 145, 146, 147, 148, 149, 150, 151, 152, 153, 154, 155, 156, 157, 158, 159, 160, 161, 162, 163, 164, 165, 166, 167, 168, 169, 170, 171, 172, 173, 174, 175, 176, 177, 178, 179, 180, 181, 182, 183, 184, 185, 186, 187, 188, 189, 190, 191, 192, 193, 194, 195, 196, 197, 198, 199, 200, 201, 202, 203, 204, 205, 206, 207, 208, 209, 210, 211, 212, 213, 214, 215, 216, 217, 218, 219, 220, 221, 222, 223, 224, 225, 226, 227, 228, 229, 230, 231, 232, 233, 234, 235, 236, 237, 238, 239, 240, 241, 242, 243, 244, 245, 246, 247, 248, 249, 250, 251, 252, 253, 254, 255, 256, 257, 258, 259, 260, 261, 262, 263, 264, 265, 266, 267, 268, 269, 270, 271, 272, 273, 274, 275, 276, 277, 278, 279, 280, 281, 282, 283, 284, 285, 286, 287, 288, 289, 290, 291, 292, 293, 294, 295, 296, 297, 298, 299], \"name\": [\"HG_170305_0027_DE_P4\", \"HG_170305_0041_GF_P5\", \"HG_170305_0046_GF_P6\", \"HG_170305_0051_GF_P1\", \"HG_170305_0067_GF_P7\", \"HG_170305_0073_GF_N3\", \"HG_170305_0091_GF_P8\", \"HG_170305_0110_GF_N6\", \"HG_170305_0115_GF_N5\", \"HG_170305_0140_GF_N4\", \"HG_170305_0154_GF_P2\", \"HG_170305_0168_DE_N2\", \"HG_170316_002_FJ_N1\", \"HG_170316_017_FJ_N3\", \"HG_170316_062_FJ_N10\", \"HG_170316_064_FJ_N11\", \"HG_170316_069_FJ_N12\", \"HG_170316_091_FJ_N14\", \"HG_170316_099_FJ_N17\", \"HG_170316_105_FJ_N15\", \"HG_170316_117_FJ_N6\", \"HG_170316_130_FJ_N18\", \"HG_170316_132_FJ_N7\", \"HG_170316_134_FJ_N4\", \"HG_170316_139_FJ_N16\", \"HG_170316_151_FJ_N5\", \"HG_170316_160_FJ_N19\", \"HG_170316_172_FJ_N9\", \"HG_170316_173_FJ_N13\", \"HG_170316_190_FJ_21\", \"HG_170316_192_FJ_N20\", \"HG_170316_195_FJ_N8\", \"HG_170316_197_FJ_N22\", \"HG_170316_198_FJ_N23\", \"HG_170316_200_FJ_N2\", \"HG_170318_003_FJ_P2\", \"HG_170318_005_GF_P3\", \"HG_170318_014_GF_N1\", \"HG_170318_022_FJ_P1\", \"HG_170318_025_GF_N6\", \"HG_170318_039_FJ_N2jpg\", \"HG_170318_047_GF_N5\", \"HG_170318_056_GF_A_N3\", \"HG_170318_096_GF_N4\", \"HG_20160330_014_DE_P1\", \"HG_20160330_052_DE_P2\", \"HG_20160330_249_DE_B_N1\", \"HG_170303_023_FJ_B_N3\", \"HG_170303_028_FJ_N5\", \"HG_170303_031_GF_P8\", \"HG_170303_032_DE_3_N7\", \"HG_170303_036_FJ_N2\", \"HG_170303_044_FJ_N9\", \"HG_170303_045_DE_3_N4\", \"HG_170303_049_FJ_B_P3\", \"HG_170303_052_FJ_P1\", \"HG_170303_053_GF_P5\", \"HG_170303_062_FJ_N6\", \"HG_170303_071_FJ_P7\", \"HG_170303_073_FJ_N11\", \"HG_170303_075_FJ_N10\", \"HG_170303_076_FJ_P4\", \"HG_170303_078_GF_N24\", \"HG_170303_092_GF_N19\", \"HG_170303_136_GF_N1\", \"HG_170303_182_GF_N18\", \"HG_170303_198_GF_N8\", \"HG_170303_232_GF_B_N13\", \"HG_170303_234_GF_A_N15\", \"HG_170303_238_GF_N25\", \"HG_170303_245_GF_N16\", \"HG_170303_262_GF_P10\", \"HG_170303_278_GF_B_P2\", \"HG_170303_288_GF_N20\", \"HG_170303_295_GF_N21\", \"HG_170303_307_GF_N23\", \"HG_170303_312_GF_N22\", \"HG_170303_317_GF_N17\", \"HG_170303_326_GF_N14\", \"HG_170304_0004_FJ_N1\", \"HG_170304_0018_FJ_P3\", \"HG_170304_0021_FJ_N6\", \"HG_170304_0022_GF_N3\", \"HG_170304_0043_FJ_N9\", \"HG_170304_0048_GF_P1\", \"HG_170304_0084_GF_N15\", \"HG_170304_0105_GF_P2\", \"HG_170304_0124_GF_N16\", \"HG_170304_0131_GF_N17\", \"HG_170304_0141_GF_N5\", \"HG_170304_0278_GF_N2\", \"HG_170304_0310_GF_N8\", \"HG_170304_0318_GF_N11\", \"HG_170304_0328_GF_N4\", \"HG_170304_0338_GF_N7\", \"HG_170304_0353_GF_N10\", \"HG_170304_0372_GF_N12\", \"HG_170304_0400_GF_N13\", \"HG_170304_0414_GF_N14\", \"HG_170305_0008_GF_P3\", \"HG_170305_0018_GF_N1\", \"HG_170227_181_FJ_N5\", \"HG_170228_001_DE_P1\", \"HG_170228_002_GF_2_A_N10\", \"HG_170228_012_GF_2_P5\", \"HG_170228_024_GF_2_N5\", \"HG_170228_034_GF_3_N3\", \"HG_170228_038_GF_3_N15\", \"HG_170228_039_FJ_N24\", \"HG_170228_052_GF_1_A_N22\", \"HG_170228_054_DE_N18\", \"HG_170228_054_GF_2_B_N8\", \"HG_170228_056_GF_3_N17\", \"HG_170228_060_GF_3_P3\", \"HG_170228_062_DE_N19\", \"HG_170228_062_GF_1_P8\", \"HG_170228_064_GF_1_N7\", \"HG_170228_068_DE_P2\", \"HG_170228_073_DE_N20\", \"HG_170228_077_GF_2_N9\", \"HG_170228_081_GF_1_P7\", \"HG_170228_083_DE_N21\", \"HG_170228_088_FJ_B_P9\", \"HG_170228_088_FJ_C_N23\", \"HG_170228_089_GF_1_N11\", \"HG_170228_092_GF_2_N12\", \"HG_170228_093_GF_1_A_N13\", \"HG_170228_096_FJ_P10\", \"HG_170228_100_FJ_P6\", \"HG_170228_108_GF_2_N1\", \"HG_170228_113_FJ_N4\", \"HG_170228_113_GF_2_N2\", \"HG_170228_117_GF_3_N16\", \"HG_170228_126_GF_3_N25\", \"HG_170228_144_DE_N6\", \"HG_170228_161_DE_N14\", \"HG_170228_200_FJ_P12\", \"HG_170228_203_DE_P4\", \"HG_170228_204_FJ_N26\", \"HG_170228_209_FJ_N27\", \"HG_170228_214_DE_P11\", \"HG_170302_003_FJ_N2\", \"HG_170302_008_FJ_N3\", \"HG_170302_013_DE_1_P1\", \"HG_170302_015_FJ_N4\", \"HG_170302_024_FJ_N5\", \"HG_170302_028_FJ_P2\", \"HG_170302_032_FJ_P3\", \"HG_170302_033_FJ_N1\", \"HG_170302_038_DE_1_P4\", \"HG_170302_041_FJ_A_N7\", \"HG_170302_056_FJ_N6\", \"HG_170303_001_GF_P9\", \"HG_170303_010_GF_N12\", \"HG_170303_022_FJ_A_P6\", \"HG_170225_014_FJ_N1\", \"HG_170225_016_FJ_N7\", \"HG_170225_017_FJ_N8\", \"HG_170225_024_FJ_N2\", \"HG_170225_038_DE_2_N3\", \"HG_170225_063_DE_2_A_N6\", \"HG_170225_063_DE_2_B_N4\", \"HG_170225_068_DE_2_N5\", \"HG_170226_049_FJ_P10\", \"HG_170226_058_FJ_P5\", \"HG_170226_060_FJ_N18\", \"HG_170226_062_FJ_P6\", \"HG_170226_063_GF_P3\", \"HG_170226_065_FJ_N1\", \"HG_170226_069_FJ_P11\", \"HG_170226_072_FJ_N3\", \"HG_170226_074_GF_N4\", \"HG_170226_081_FJ_P7\", \"HG_170226_087_DE_1_N6\", \"HG_170226_091_FJ_N8\", \"HG_170226_097_DE_1_N7\", \"HG_170226_098_FJ_N10\", \"HG_170226_107_FJ_P1\", \"HG_170226_137_FJ_N19\", \"HG_170226_140_DE_1_N24\", \"HG_170226_142_DE_1_N11\", \"HG_170226_149_DE_1_N12\", \"HG_170226_176_GF_N13\", \"HG_170226_182_GF_N21\", \"HG_170226_188_GF_P12\", \"HG_170226_193_DE_1_N14\", \"HG_170226_205_DE_1_P8\", \"HG_170226_205_GF_N2\", \"HG_170226_248_GF_N26\", \"HG_170226_254_GF_N16\", \"HG_170226_258_GF_N15\", \"HG_170226_289_GF_N17\", \"HG_170226_317_GF_P2\", \"HG_170226_333_GF_B_N22\", \"HG_170226_335_GF_A_N20\", \"HG_170226_343_GF_N23\", \"HG_170226_348_GF_N9\", \"HG_170226_379_GF_P9\", \"HG_170226_383_GF_N5\", \"HG_170226_389_GF_P4\", \"HG_170226_413_GF_N25\", \"HG_170227_013_FJ_N1\", \"HG_170227_015_FJ_N9\", \"HG_170227_025_FJ_N3\", \"HG_170227_027_FJ_N7\", \"HG_170227_060_FJ_N2\", \"HG_170227_064_FJ_N8\", \"HG_170227_168_FJ_N6\", \"HG_170227_176_FJ_N4\", \"HG_170223_041_FJ_N3\", \"HG_170223_043_DE_N5\", \"HG_170223_046_FJ_P12\", \"HG_170223_049_FJ_P13\", \"HG_170223_051_DE_P1\", \"HG_170223_053_FJ_N8\", \"HG_170223_055_DE_N2\", \"HG_170223_057_FJ_P9\", \"HG_170223_060_FJ_N7\", \"HG_170223_062_FJ_P4\", \"HG_170223_063_FJ_N6\", \"HG_170223_070_FJ_P6\", \"HG_170223_072_FJ_P5\", \"HG_170223_073_FJ_N10\", \"HG_170223_077_FJ_P7\", \"HG_170223_079_FJ_N11\", \"HG_170224_006_DE_N1\", \"HG_170224_011_GF_N3\", \"HG_170224_032_DE_N11\", \"HG_170224_032_FJ_A_N7\", \"HG_170224_032_FJ_B_N12\", \"HG_170224_036_GF_N4\", \"HG_170224_042_FJ_N10\", \"HG_170224_056_GF_N9\", \"HG_170224_058_DE_N25\", \"HG_170224_060_GF_N14\", \"HG_170224_080_DE_N20\", \"HG_170224_092_GF_N15\", \"HG_170224_096_GF_N16\", \"HG_170224_117_GF_N18\", \"HG_170224_125_DE_N26\", \"HG_170224_136_GF_N27\", \"HG_170224_139_GF_N21\", \"HG_170224_140_DE_N19\", \"HG_170224_143_DE_N2\", \"HG_170224_144_GF_N6\", \"HG_170224_150_GF_P1\", \"HG_170224_164_GF_P2\", \"HG_170224_164_PL_N8\", \"HG_170224_165_DE_N23\", \"HG_170224_167_GF_P3\", \"HG_170224_170_DE_N31\", \"HG_170224_173_DE_N32\", \"HG_170224_186_DE_N13\", \"HG_170224_189_DE_N5\", \"HG_170224_192_DE_N24\", \"HG_170224_266_GF_N33\", \"HG_170224_306_GF_B_N29\", \"HG_170224_315_GF_N28\", \"HG_170224_319_GF_A_N22\", \"HG_170224_327_GF_N30\", \"HG_170224_340_GF_N17\", \"HG_170224_347_GF_P4\", \"HG_170224_371_GF_P5\", \"HG_170217_212_GF_A_N7\", \"HG_170217_213_GF_A_N12\", \"HG_170217_213_GF_C_N21\", \"HG_170217_213_GF_D_N34\", \"HG_170217_263_GF_A_P12\", \"HG_170217_267_GF_N22\", \"HG_170217_271_GF_N17\", \"HG_170217_313_GF_N28\", \"HG_170217_317_GF_A_N19\", \"HG_170217_320_GF_C_N30\", \"HG_170222_005_DE_N5\", \"HG_170222_009_FJ_N11\", \"HG_170222_011_DE_P6\", \"HG_170222_012_FJ_N6\", \"HG_170222_018_DE_N7\", \"HG_170222_019_DE_P1\", \"HG_170222_030_DE_N9\", \"HG_170222_036_FJ_P11\", \"HG_170222_042_DE_A_N13\", \"HG_170222_042_FJ_N12\", \"HG_170222_043_FJ_P3\", \"HG_170222_046_FJ_A_N8\", \"HG_170222_049_FJ_P2\", \"HG_170222_054_DE_A_N10\", \"HG_170222_054_FJ_N1\", \"HG_170222_057_DE_P9\", \"HG_170222_058_FJ_B_N19\", \"HG_170222_059_DE_N14\", \"HG_170222_064_FJ_B_P5\", \"HG_170222_074_FJ_B_P7\", \"HG_170222_083_FJ_P4\", \"HG_170222_098_DE_P8\", \"HG_170222_106_DE_P12\", \"HG_170222_110_FJ_P13\", \"HG_170222_112_FJ_N15\", \"HG_170222_125_FJ_N2\", \"HG_170222_128_DE_P17\"], \"outlier\": [0, 0, 0, 0, 1, 1, 1, 1, 1, 1, 0, 0, 1, 1, 1, 1, 1, 1, 0, 0, 1, 0, 0, 1, 0, 1, 1, 0, 1, 1, 1, 1, 1, 0, 0, 1, 1, 1, 0, 1, 0, 0, 0, 0, 1, 1, 1, 1, 1, 1, 1, 1, 0, 0, 1, 0, 1, 0, 1, 0, 1, 1, 1, 1, 0, 1, 1, 1, 0, 1, 0, 0, 0, 1, 1, 0, 1, 0, 1, 1, 1, 1, 1, 0, 0, 1, 0, 1, 1, 1, 1, 1, 0, 1, 1, 1, 0, 1, 0, 0, 0, 1, 0, 0, 1, 0, 1, 1, 0, 0, 1, 1, 1, 1, 0, 1, 1, 0, 0, 1, 0, 0, 1, 1, 1, 1, 1, 1, 0, 1, 1, 0, 0, 0, 0, 1, 0, 0, 1, 1, 0, 0, 0, 1, 1, 1, 1, 1, 0, 1, 1, 1, 0, 0, 1, 0, 1, 1, 0, 1, 1, 1, 1, 1, 0, 0, 0, 1, 1, 0, 0, 0, 1, 1, 1, 0, 0, 1, 1, 1, 1, 1, 1, 1, 0, 1, 1, 0, 1, 1, 1, 1, 1, 0, 0, 0, 0, 1, 1, 1, 0, 0, 1, 1, 0, 1, 1, 0, 1, 1, 1, 0, 1, 1, 0, 1, 1, 1, 1, 0, 1, 1, 1, 0, 1, 0, 0, 0, 1, 0, 1, 1, 1, 0, 0, 0, 0, 0, 0, 1, 0, 1, 0, 1, 1, 1, 1, 0, 0, 0, 0, 1, 1, 0, 1, 1, 0, 0, 1, 1, 1, 1, 0, 1, 0, 0, 1, 0, 1, 1, 1, 1, 0, 0, 0, 1, 1, 1, 1, 1, 0, 1, 0, 1, 0, 1, 1, 1, 1, 1, 1, 1, 0, 1, 1, 1, 0, 0, 0, 0], \"probability\": {\"__ndarray__\": \"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\", \"dtype\": \"float64\", \"order\": \"little\", \"shape\": [300]}, \"x\": {\"__ndarray__\": \"NtnjwO0u58DmaALBClrzwGrP7cDdyN3AjQ4CwXIX+8CyWxTB+AEzwYq56MAQSinBrDsXwd23HsErqCLBDOQBwd/CHMGO/wzBWF0dwdJO2MCG5TzB0yUvwZgJIsEI8ePAJBQEwd+1F8HzggnBC8wrwd5MF8F6SBrB6U4TwR2hQMHfISDBLAsswbZcF8FaIQ3BNOA8wQyoLsGxPDDB8z45wR/cLsGTqDPBJqsjwZV2I8ERRjzBh5L4wFZB0MClb0bBkucXwTZ2HcHjXC3BPaLxwLztNcHMuwPB1xoEwYzW/cA1mkLBIz0owX0NFMHbkzLBSzUAwcGiBsECOTnBjhg9wTJQHsGLyTPBi+FGwdJ2GsEGrDrBiDD/wLAzK8HfKSnBIKX0wJ2AKsFvdjLBqgovwQI1P8FCLDzBv6s3wZsJNMF4RSjBHG4Twas0LMFLKTLBmbEvwdspNcHSRAfBmFXJwI0NGMEqqc7A2TzQwNbIEcGSFODAbZULwfG34MDNjzHBzZMZwf/VHMFfbjrB+MURwWaNH8E5iBXBtnzlwM2n1sC3KfjA+SwJwe/C98ADh8LAaDL1wNl6BMGHFSDBmsEIwe1kKMGMO8DAcyxAwdFFx8DVr+zAYok1wWDDJsG1GQLBA/UMwfM/KsGFDMnAYaLrwJmu6sBy8dHA2anNwCepwcCMjQrBPBzAwP0RIcEvnwDBeeAkwQVYK8FhNB3B8cAnwegqIsH3zRzBmMEZwdBTAsGccOPArt8uwdw6LcGS1Q/B1SnnwL5yE8GIXxDBAw8TwR/RM8HVFgnBGEIiwdQ+JMGLliTBH84kwacaQcFQWznB0g09wQgqRMEQI+nA99tEwcsPP8EV5znBygMywemSNsFDkh/BcfQnwdJeCMF8gt/AkO4xwVSTK8HilyrBnXAMwXc8QcHavTDBfxZGwaSKPsHSxS3Bzos8wfaiRcG0zknBx89KwTTLLMF550HB6rlHwelYN8EpOCfB0Yw6wcC4HcGDpyHBklYvwSueQ8FRm+jATa0gwQAeMMH7eynB6kw2wccBOsEkL+HA4373wEa13MCsdyjBVC4swcpfG8HisUHB0KUuwUmVOcE2dDbBoKvhwCKdCMEz6RXBNT7YwBXZK8FTjCzBSZTIwA5LLcFZHRzB//nPwG8wxsBbEAjB5SvqwICq1MAexBnBb4YUwZNyIcFU6jbBLpEuwcLh9MCbmDXBazb6wEnW88B0883AsqIYwW0OGcFMjwjB3DY1wW10K8F0vCLBeaIowfshNcHVViDBDhQBwe6n78CsZgPB7yEUwZ7zG8EYVSPB37PXwKZDIsFp0DLBTasOwRZ2NcH8VBXBD0sswZ4bIMEn0iTBslQYwfkp+8B1CCnBRpvWwEe+HsE+xQ7Blh/CwIsV8cCajBvBBzYbwVaU+cABZAbBOyUmwSN258Chk9zA3msUwUt088Ahnu7AMP77wGpS58DVchzBt+oMwZN+AMHX5APBnn8Kwa45CcGEpxDB5AwxwUrAHcFYD9fA4Ej0wI2i38DHHxHBTILKwB1FDMGHuvrAmE8Dwaqu38CskAnBMCITwcNPAMFzKiPB0TkMwarbDcHstiHB\", \"dtype\": \"float32\", \"order\": \"little\", \"shape\": [300]}, \"y\": {\"__ndarray__\": \"XZlJQaX3Q0E83kRBYnk3QW6hXEGD3llBiPlWQU/yT0ETW0RBnNppQXBqOkEi0VRBBJdXQSdDMUHRIEFB/1UYQVI6ZEHcRmlBJTBUQWO3UEGxjkpBj5lPQbvPWkFAMFhB4A4yQXDaO0Ef52RB0wAoQYgAM0GC7HJBLPReQa5CIkHvKGdBdWwgQSowTkHzuBhBUegYQcvGb0GxRDNBitBgQUPRV0GkWh5BJ+IjQUsyW0HZb1xBGuxlQYRlUUFJajlB8roPQSRddUHkCzVBwhcfQekjKEHszy5BqlwjQa7YMEHla0BBhAsmQS/THkFCFl5BBb8zQXqdLkF0X1pB4Y5XQfmJXEGOhWtBxXMzQVIzOEEdjiZBFZBHQYN3HEEDbDdBA1EsQYSrD0G0zxJBFNteQSN3JEGesjBByV0+QR73SkF5sg1B1Z0mQe6taEHqSSVBbCJRQfNEaEHd9ktB+8dUQfenWkFeVChBRSpVQfrINEFPi0JBoaFWQT7lXkGWVRJB3jdfQfr6LkEUYDRBalM7QVwmPUHm6TtBoh5LQYwSOEFmsBVB9pc3QRnRGUHdXSdBix0wQYpFIEGIwh5BGy1rQVGfbEHu+zRB8xcwQfX+NUH3miVBhm8yQXkQLUHnwBxB+p4sQTEyN0FdYydBh7koQV2YTkESRS9BJ15MQTg0OEHuCSlBozUuQZibdkEvtCZBYe1bQVbzZkEpzTxBw5IRQUbLOUG8XFhBjBAWQed9QkEDIjdBu1xGQZ2yIEEGOFpBcVwpQS9cbUHtiHJBfRx0QWEsPEF1xR1Ba9BuQbjCZ0EZIWJBkndFQVdQQEF9RCtB8fJCQRqqSEFqCzFBd+EhQWYyHkEGLBVBhcsYQcQ/P0FQcihBUC1MQRQhKkEe5iJBY9Y5QfrAVEHskzpB/PwlQYFeOUFoGGJB+akrQShLOEETHEVB5OhVQU/uTEHcoUFB3Dk8QQY/cEGqGC1Bllo8QTe0HkHrUURB4htQQVAER0ENNnZBa3gZQZ+ALUEWEDdBWfUsQdKrK0HGgx5BNptSQfDUN0EK2x1BPokdQQoHK0EJoUJBHpZcQSJSZ0GUmChBjTEpQYTuTEFBK11BH71AQaf3FkF7AmtBirkyQSA/TEEujGVB49UwQTP1VEEgqRJBWJ1HQSZGQEGM0GJBy50uQQEhWUGCSzZB8nFEQccuT0G/NEVBiBomQWufMkGnwydBBfc/Qa9JQUFdajtBw4ImQS7PdkGtjDtBaT5bQc3vQUGtsj5Bk60cQXT3RkHEg2hBqbs6QZRCNUFwHTtBgv0mQaWyDkEVaxZB+0QgQSU5MUHeWDxB2kUjQTatMkHJt1hBacoVQQ9rMUG25SpBd/9rQUqtSkG2VS5BOxwuQcH1F0GGuSBBMVJDQcuwQkFVDSJB4lpRQbQjSEHwTUZB+jhVQRVwV0Ha3z1BhKsqQdkKY0HLcTxBbDclQd76SkErLklB/Ss5QQQ+T0FzNGFBx0BBQRBQMUF4G01BEaZSQcP5TUFZtEdBLIJOQSThVUHc5ktBDYVMQdTBRUFnzV1BoDFWQXRzTUH/W09BCK5QQXXwVUE1UUhBE2MtQT7LN0H851BB\", \"dtype\": \"float32\", \"order\": \"little\", \"shape\": [300]}}, \"selected\": {\"id\": \"6144\"}, \"selection_policy\": {\"id\": \"6145\"}}, \"id\": \"5897\", \"type\": \"ColumnDataSource\"}, {\"attributes\": {\"axis\": {\"id\": \"5907\"}, \"ticker\": null, \"visible\": false}, \"id\": \"5910\", \"type\": \"Grid\"}, {\"attributes\": {\"source\": {\"id\": \"5897\"}}, \"id\": \"5935\", \"type\": \"CDSView\"}, {\"attributes\": {\"fill_alpha\": {\"field\": \"alpha\"}, \"fill_color\": {\"field\": \"color\"}, \"line_alpha\": {\"field\": \"alpha\"}, \"line_color\": {\"field\": \"color\"}, \"size\": {\"value\": 5}, \"x\": {\"field\": \"x\"}, \"y\": {\"field\": \"y\"}}, \"id\": \"5932\", \"type\": \"Circle\"}, {\"attributes\": {\"overlay\": {\"id\": \"5921\"}}, \"id\": \"5917\", \"type\": \"BoxZoomTool\"}, {\"attributes\": {}, \"id\": \"5908\", \"type\": \"BasicTicker\"}, {\"attributes\": {}, \"id\": \"5901\", \"type\": \"DataRange1d\"}, {\"attributes\": {}, \"id\": \"6144\", \"type\": \"Selection\"}, {\"attributes\": {\"callback\": null, \"tooltips\": [[\"index\", \"@{index}\"], [\"name\", \"@{name}\"], [\"file\", \"@{file}\"], [\"class\", \"@{class}\"], [\"probability\", \"@{probability}\"], [\"outlier\", \"@{outlier}\"]]}, \"id\": \"5922\", \"type\": \"HoverTool\"}, {\"attributes\": {}, \"id\": \"5919\", \"type\": \"ResetTool\"}, {\"attributes\": {}, \"id\": \"6138\", \"type\": \"AllLabels\"}, {\"attributes\": {}, \"id\": \"6135\", \"type\": \"Title\"}, {\"attributes\": {}, \"id\": \"5918\", \"type\": \"SaveTool\"}, {\"attributes\": {}, \"id\": \"5905\", \"type\": \"LinearScale\"}, {\"attributes\": {}, \"id\": \"5903\", \"type\": \"LinearScale\"}], \"root_ids\": [\"5898\"]}, \"title\": \"\", \"version\": \"2.3.1\"}}, \"umap\")"
      ],
      "text/plain": [
       "<IPython.core.display.Javascript object>"
      ]
     },
     "execution_count": 222,
     "metadata": {},
     "output_type": "execute_result"
    }
   ],
   "source": [
    "display(HTML('<div id=\"umap\"></div>'))\n",
    "Javascript(f'''Bokeh.embed.embed_item({p_json}, \"umap\")''')"
   ]
  }
 ],
 "metadata": {
  "kernelspec": {
   "display_name": "Python 3",
   "language": "python",
   "name": "python3"
  },
  "language_info": {
   "codemirror_mode": {
    "name": "ipython",
    "version": 3
   },
   "file_extension": ".py",
   "mimetype": "text/x-python",
   "name": "python",
   "nbconvert_exporter": "python",
   "pygments_lexer": "ipython3",
   "version": "3.8.8"
  }
 },
 "nbformat": 4,
 "nbformat_minor": 5
}
